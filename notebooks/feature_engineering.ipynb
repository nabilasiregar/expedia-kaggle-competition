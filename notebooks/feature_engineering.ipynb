{
 "cells": [
  {
   "cell_type": "code",
   "execution_count": 17,
   "metadata": {},
   "outputs": [],
   "source": [
    "import polars as pl\n",
    "import numpy as np\n",
    "import pandas as pd"
   ]
  },
  {
   "cell_type": "code",
   "execution_count": 18,
   "metadata": {},
   "outputs": [],
   "source": [
    "raw_filepath = '../data/raw/training_set_VU_DM.csv'\n",
    "engineered_filepath = \"../data/preprocessed/engineered_train_set.csv\""
   ]
  },
  {
   "cell_type": "code",
   "execution_count": 19,
   "metadata": {},
   "outputs": [
    {
     "name": "stdout",
     "output_type": "stream",
     "text": [
      "['comp3_rate_percent_diff', 'comp4_rate', 'comp6_rate_percent_diff', 'comp1_inv', 'comp1_rate_percent_diff', 'comp6_rate', 'comp6_inv', 'comp7_rate_percent_diff', 'comp4_inv', 'comp1_rate', 'comp4_rate_percent_diff', 'comp7_inv', 'comp7_rate']\n"
     ]
    }
   ],
   "source": [
    "df = pl.read_csv(raw_filepath)\n",
    "\n",
    "# Convert NULL to None so polars can handle\n",
    "df_pandas = df.to_pandas()\n",
    "df_pandas = df_pandas.replace('NULL', pd.NA)\n",
    "df = pl.from_pandas(df_pandas)\n",
    "\n",
    "# # Handling outliers in price_usd based on maximum value of visitor_hist_adr_usd\n",
    "# df = df.filter(pl.col('price_usd') < 2000)\n",
    "\n",
    "# Create binary indicators for historical data to denote whether the historical booking data is available for a user.\n",
    "df = df.with_columns([\n",
    "    df['visitor_hist_starrating'].is_not_null().cast(pl.UInt8).alias('has_hist_starrating'),\n",
    "    df['visitor_hist_adr_usd'].is_not_null().cast(pl.UInt8).alias('has_hist_adr_usd')\n",
    "])\n",
    "\n",
    "# Drop columns with more than 90% missing data\n",
    "threshold = 0.9 * df.height\n",
    "\n",
    "cols_to_drop = [col for col in df.columns if df[col].is_null().sum() > threshold]\n",
    "cols_to_keep = ['visitor_hist_starrating', 'visitor_hist_adr_usd', 'srch_query_affinity_score', 'gross_bookings_usd']\n",
    "final_columns_to_drop = list(set(cols_to_drop) - set(cols_to_keep))\n",
    "print(final_columns_to_drop)\n",
    "df = df.drop(final_columns_to_drop)"
   ]
  },
  {
   "cell_type": "markdown",
   "metadata": {},
   "source": [
    "## Handling missing values in prop_location_score2 and prop_location_score1"
   ]
  },
  {
   "cell_type": "code",
   "execution_count": 20,
   "metadata": {},
   "outputs": [],
   "source": [
    "df = df.with_columns(\n",
    "    pl.col('prop_location_score2').map_elements(lambda x: None if x == 'NULL' else float(x), return_dtype=pl.Float64).alias('prop_location_score2')\n",
    ")\n",
    "\n",
    "# Calculate the first quartile of prop_location_score2 for each country\n",
    "first_quartiles = df.group_by('prop_country_id').agg([\n",
    "    pl.col('prop_location_score2').quantile(0.25).alias('first_quartile')\n",
    "])\n",
    "\n",
    "# Join this data back to the original dataframe\n",
    "df = df.join(first_quartiles, on='prop_country_id', how='left')\n",
    "\n",
    "# Fill missing prop_location_score2 values with the first quartile value for the respective country\n",
    "df = df.with_columns(\n",
    "    pl.when(pl.col('prop_location_score2').is_null())\n",
    "    .then(pl.col('first_quartile'))\n",
    "    .otherwise(pl.col('prop_location_score2'))\n",
    "    .alias('prop_location_score2')\n",
    ")\n",
    "\n",
    "# Optionally, remove the temporary 'first_quartile' column if it's no longer needed\n",
    "df = df.drop('first_quartile')\n",
    "\n"
   ]
  },
  {
   "cell_type": "code",
   "execution_count": 21,
   "metadata": {},
   "outputs": [],
   "source": [
    "df = df.with_columns(\n",
    "    pl.col('prop_location_score1').map_elements(lambda x: None if x == 'NULL' else float(x), return_dtype=pl.Float64).alias('prop_location_score1')\n",
    ")\n",
    "\n",
    "# Calculate the first quartile of prop_location_score1 for each country\n",
    "first_quartiles = df.group_by('prop_country_id').agg([\n",
    "    pl.col('prop_location_score1').quantile(0.25).alias('first_quartile')\n",
    "])\n",
    "\n",
    "# Join this data back to the original dataframe\n",
    "df = df.join(first_quartiles, on='prop_country_id', how='left')\n",
    "\n",
    "# Fill missing prop_location_score1 values with the first quartile value for the respective country\n",
    "df = df.with_columns(\n",
    "    pl.when(pl.col('prop_location_score1').is_null())\n",
    "    .then(pl.col('first_quartile'))\n",
    "    .otherwise(pl.col('prop_location_score1'))\n",
    "    .alias('prop_location_score1')\n",
    ")\n",
    "\n",
    "# Optionally, remove the temporary 'first_quartile' column if it's no longer needed\n",
    "df = df.drop('first_quartile')"
   ]
  },
  {
   "cell_type": "markdown",
   "metadata": {},
   "source": [
    "## Creating hotel_quality feature"
   ]
  },
  {
   "cell_type": "code",
   "execution_count": 22,
   "metadata": {},
   "outputs": [],
   "source": [
    "# Create a score difference between prop_location_score2 and prop_location_score1\n",
    "df = df.with_columns([\n",
    "    df[\"prop_location_score2\"].map_elements(lambda x: None if x == \"NULL\" else x, return_dtype=pl.Float64).cast(pl.Float64).fill_nan(0).alias(\"prop_location_score2\"),\n",
    "    df[\"prop_location_score1\"].map_elements(lambda x: None if x == \"NULL\" else x, return_dtype=pl.Float64).cast(pl.Float64).fill_nan(0).alias(\"prop_location_score1\")\n",
    "])\n",
    "df = df.with_columns(\n",
    "    ((df[\"prop_location_score2\"] + 0.0001) / (df[\"prop_location_score1\"] + 0.0001)).alias(\"score1d2\")\n",
    ")\n",
    "\n",
    "# 3. Normalize features within each 'srch_id' group\n",
    "features_to_normalize = ['prop_starrating', 'score1d2', 'prop_review_score']\n",
    "for feature in features_to_normalize:\n",
    "    df = df.with_columns(\n",
    "        df[feature].map_elements(lambda x: None if x == \"NULL\" else x, return_dtype=pl.Float64)\n",
    "             .cast(pl.Float64)\n",
    "             .fill_null(0) \n",
    "             .alias(feature)\n",
    "    )\n",
    "\n",
    "for feature in features_to_normalize:\n",
    "    temp_mean_name = f'{feature}_mean_temp'\n",
    "    temp_std_name = f'{feature}_std_temp'\n",
    "    group_stats = df.group_by('srch_id').agg([\n",
    "        pl.col(feature).mean().alias(temp_mean_name),\n",
    "        pl.col(feature).std().alias(temp_std_name)\n",
    "    ])\n",
    "    df = df.join(group_stats, on='srch_id')\n",
    "\n",
    "    # Perform normalization and create new column\n",
    "    df = df.with_columns(\n",
    "        ((pl.col(feature) - pl.col(temp_mean_name)) / (pl.col(temp_std_name) + 0.00001))\n",
    "        .fill_nan(0)  # Handle division by zero or missing std dev\n",
    "        .alias(f'normalized_{feature}')\n",
    "    )\n",
    "\n",
    "    # Drop temporary columns to prevent duplicates\n",
    "    df = df.drop([temp_mean_name, temp_std_name])\n",
    "\n",
    "# 4. Engineer the 'hotel_quality' feature using a weighted sum of normalized features\n",
    "weights = {\n",
    "    'normalized_prop_starrating': 0.3,\n",
    "    'normalized_score1d2': 0.4,\n",
    "    'normalized_prop_review_score': 0.3\n",
    "}\n",
    "\n",
    "weighted_features = [pl.col(feature) * weight for feature, weight in weights.items()]\n",
    "df = df.with_columns(\n",
    "    sum(weighted_features).alias('hotel_quality')\n",
    ")\n",
    "\n",
    "# 5. Normalize the 'hotel_quality' score to range between 0 and 1\n",
    "df = df.with_columns(\n",
    "    ((df['hotel_quality'] - df['hotel_quality'].min()) / (df['hotel_quality'].max() - df['hotel_quality'].min())).alias('normalized_hotel_quality')\n",
    ")"
   ]
  },
  {
   "cell_type": "markdown",
   "metadata": {},
   "source": [
    "## Create price features"
   ]
  },
  {
   "cell_type": "code",
   "execution_count": 23,
   "metadata": {},
   "outputs": [],
   "source": [
    "# 1. Price per Person\n",
    "df = df.with_columns(\n",
    "    ((df[\"price_usd\"] * df[\"srch_room_count\"]) / \n",
    "     (df[\"srch_adults_count\"] + df[\"srch_children_count\"]).fill_null(1)).alias(\"price_per_person\")\n",
    ")\n",
    "\n",
    "# 2. Average Price per Day\n",
    "df = df.with_columns(\n",
    "    (df[\"price_usd\"] / df[\"srch_length_of_stay\"]).alias(\"avg_price_per_day\")\n",
    ")\n",
    "\n",
    "# 3. UMP (User Margin Price)\n",
    "df = df.with_columns(\n",
    "    (pl.col(\"prop_log_historical_price\").exp() - pl.col(\"price_usd\")).alias(\"ump\")\n",
    ")\n",
    "\n",
    "df = df.with_columns([\n",
    "    pl.col(\"visitor_hist_adr_usd\").map_elements(lambda x: None if x in [\"NULL\", \"\"] else float(x), return_dtype=pl.Float64).alias(\"visitor_hist_adr_usd\"),\n",
    "    pl.col(\"price_usd\").map_elements(lambda x: None if x in [\"NULL\", \"\"] else float(x), return_dtype=pl.Float64).alias(\"price_usd\"),\n",
    "    pl.col(\"visitor_hist_starrating\").map_elements(lambda x: None if x in [\"NULL\", \"\"] else float(x), return_dtype=pl.Float64).alias(\"visitor_hist_starrating\"),\n",
    "    pl.col(\"prop_starrating\").map_elements(lambda x: None if x in [\"NULL\", \"\"] else float(x), return_dtype=pl.Float64).alias(\"prop_starrating\"),\n",
    "    pl.col(\"srch_room_count\").map_elements(lambda x: None if x in [\"NULL\", \"\"] else float(x), return_dtype=pl.Float64).alias(\"srch_room_count\"),\n",
    "    pl.col(\"srch_query_affinity_score\").map_elements(lambda x: None if x in [\"NULL\", \"\"] else float(x), return_dtype=pl.Float64).alias(\"srch_query_affinity_score\")\n",
    "])\n",
    "\n",
    "df = df.with_columns([\n",
    "    # 4. Price Difference\n",
    "    pl.when(pl.col(\"visitor_hist_adr_usd\").is_null())\n",
    "       .then(None)\n",
    "       .otherwise(pl.col(\"visitor_hist_adr_usd\") - pl.col(\"price_usd\")).alias(\"price_diff\"),\n",
    "    # 5. Star Rating Difference\n",
    "    pl.when(pl.col(\"visitor_hist_starrating\").is_null())\n",
    "       .then(None)\n",
    "       .otherwise(pl.col(\"visitor_hist_starrating\") - pl.col(\"prop_starrating\")).alias(\"starrating_diff\")\n",
    "])\n",
    "\n",
    "# 6. Total Price\n",
    "df = df.with_columns(\n",
    "    (df[\"price_usd\"] * df[\"srch_room_count\"]).alias(\"total_price\")\n",
    ")"
   ]
  },
  {
   "cell_type": "markdown",
   "metadata": {},
   "source": [
    "## Promotion feature"
   ]
  },
  {
   "cell_type": "code",
   "execution_count": 24,
   "metadata": {},
   "outputs": [],
   "source": [
    "# Count how many promotions are flagged within each search\n",
    "promotion_agg = df.group_by(\"srch_id\").agg([\n",
    "    pl.col(\"promotion_flag\").sum().alias(\"promotion_count\")\n",
    "])\n",
    "df = df.join(promotion_agg, on=\"srch_id\", how=\"left\")\n",
    "\n",
    "# Check if any property was on promotion per srch_id\n",
    "promotion_any = df.group_by(\"srch_id\").agg([\n",
    "    (pl.col(\"promotion_flag\").max() > 0).cast(pl.UInt8).alias(\"promotion_any\")\n",
    "])\n",
    "\n",
    "df = df.join(promotion_any, on=\"srch_id\", how=\"left\")"
   ]
  },
  {
   "cell_type": "markdown",
   "metadata": {},
   "source": [
    "## Ranking features"
   ]
  },
  {
   "cell_type": "code",
   "execution_count": 25,
   "metadata": {},
   "outputs": [],
   "source": [
    "# Group by 'srch_id' and rank 'price_usd' in ascending order (lowest to highest price)\n",
    "df = df.with_columns([\n",
    "    pl.col(\"price_usd\").rank(\"dense\", descending=False).over(\"srch_id\").alias(\"price_rank\")\n",
    "])\n",
    "\n",
    "# Group by 'srch_id' and rank 'prop_starrating' in descending order (highest to lowest rating)\n",
    "df = df.with_columns([\n",
    "    pl.col(\"prop_starrating\").rank(\"dense\", descending=True).over(\"srch_id\").alias(\"star_rank\")\n",
    "])"
   ]
  },
  {
   "cell_type": "code",
   "execution_count": 26,
   "metadata": {},
   "outputs": [],
   "source": [
    "columns_to_drop = [\n",
    "    'prop_location_score1',\n",
    "    'prop_starrating', \n",
    "    'prop_review_score',\n",
    "    'price_usd',\n",
    "    'srch_room_count',\n",
    "    'prop_log_historical_price',\n",
    "    'srch_length_of_stay',\n",
    "    'srch_children_count',\n",
    "    'srch_adults_count',\n",
    "    'room_count',\n",
    "    'promotion_flag'\n",
    "]\n",
    "\n",
    "df = df.drop(columns_to_drop)\n",
    "\n",
    "drop_competitors = [col for col in df.columns if col.startswith(\"comp\") and \n",
    "                   (\"rate\" in col or \"inv\" in col or \"percent_diff\" in col)]\n",
    "\n",
    "df = df.drop(drop_competitors)\n",
    "\n",
    "def replace_with_nan(value):\n",
    "    try:\n",
    "        return float(value)\n",
    "    except ValueError:\n",
    "        return None\n",
    "\n",
    "for col in df.columns:\n",
    "    if df[col].dtype == pl.Utf8:\n",
    "        # Convert string columns, replacing non-convertible strings with NaN\n",
    "        df = df.with_columns(\n",
    "            df[col].map_elements(replace_with_nan, return_dtype=pl.Float64).alias(col)\n",
    "        )\n",
    "    elif df[col].dtype == pl.Float64:\n",
    "        # For numeric columns, just ensure that they do not contain invalid strings\n",
    "        df = df.with_columns(\n",
    "            df[col].map_elements(lambda x: x if isinstance(x, float) else None, return_dtype=pl.Float64).alias(col)\n",
    "        )\n",
    "\n",
    "\n",
    "df.write_csv(engineered_filepath)"
   ]
  },
  {
   "cell_type": "code",
   "execution_count": 27,
   "metadata": {},
   "outputs": [
    {
     "data": {
      "text/html": [
       "<div><style>\n",
       ".dataframe > thead > tr,\n",
       ".dataframe > tbody > tr {\n",
       "  text-align: right;\n",
       "  white-space: pre-wrap;\n",
       "}\n",
       "</style>\n",
       "<small>shape: (9, 39)</small><table border=\"1\" class=\"dataframe\"><thead><tr><th>statistic</th><th>srch_id</th><th>date_time</th><th>site_id</th><th>visitor_location_country_id</th><th>visitor_hist_starrating</th><th>visitor_hist_adr_usd</th><th>prop_country_id</th><th>prop_id</th><th>prop_brand_bool</th><th>prop_location_score2</th><th>position</th><th>srch_destination_id</th><th>srch_booking_window</th><th>srch_saturday_night_bool</th><th>srch_query_affinity_score</th><th>orig_destination_distance</th><th>random_bool</th><th>click_bool</th><th>gross_bookings_usd</th><th>booking_bool</th><th>has_hist_starrating</th><th>has_hist_adr_usd</th><th>score1d2</th><th>normalized_prop_starrating</th><th>normalized_score1d2</th><th>normalized_prop_review_score</th><th>hotel_quality</th><th>normalized_hotel_quality</th><th>price_per_person</th><th>avg_price_per_day</th><th>ump</th><th>price_diff</th><th>starrating_diff</th><th>total_price</th><th>promotion_count</th><th>promotion_any</th><th>price_rank</th><th>star_rank</th></tr><tr><td>str</td><td>f64</td><td>str</td><td>f64</td><td>f64</td><td>str</td><td>str</td><td>f64</td><td>f64</td><td>f64</td><td>f64</td><td>f64</td><td>f64</td><td>f64</td><td>f64</td><td>str</td><td>f64</td><td>f64</td><td>f64</td><td>f64</td><td>f64</td><td>f64</td><td>f64</td><td>f64</td><td>f64</td><td>f64</td><td>f64</td><td>f64</td><td>f64</td><td>f64</td><td>f64</td><td>f64</td><td>str</td><td>str</td><td>f64</td><td>f64</td><td>f64</td><td>f64</td><td>f64</td></tr></thead><tbody><tr><td>&quot;count&quot;</td><td>4.958347e6</td><td>&quot;0&quot;</td><td>4.958347e6</td><td>4.958347e6</td><td>&quot;251866&quot;</td><td>&quot;252988&quot;</td><td>4.958347e6</td><td>4.958347e6</td><td>4.958347e6</td><td>4.958345e6</td><td>4.958347e6</td><td>4.958347e6</td><td>4.958347e6</td><td>4.958347e6</td><td>&quot;317406&quot;</td><td>3.350565e6</td><td>4.958347e6</td><td>4.958347e6</td><td>138390.0</td><td>4.958347e6</td><td>4.958347e6</td><td>4.958347e6</td><td>4.958347e6</td><td>4.958347e6</td><td>4.958347e6</td><td>4.958347e6</td><td>4.958347e6</td><td>4.958347e6</td><td>4.958347e6</td><td>4.958347e6</td><td>4.958347e6</td><td>&quot;252988&quot;</td><td>&quot;251866&quot;</td><td>4.958347e6</td><td>4.958347e6</td><td>4.958347e6</td><td>4.958347e6</td><td>4.958347e6</td></tr><tr><td>&quot;null_count&quot;</td><td>0.0</td><td>&quot;4958347&quot;</td><td>0.0</td><td>0.0</td><td>&quot;4706481&quot;</td><td>&quot;4705359&quot;</td><td>0.0</td><td>0.0</td><td>0.0</td><td>2.0</td><td>0.0</td><td>0.0</td><td>0.0</td><td>0.0</td><td>&quot;4640941&quot;</td><td>1.607782e6</td><td>0.0</td><td>0.0</td><td>4.819957e6</td><td>0.0</td><td>0.0</td><td>0.0</td><td>0.0</td><td>0.0</td><td>0.0</td><td>0.0</td><td>0.0</td><td>0.0</td><td>0.0</td><td>0.0</td><td>0.0</td><td>&quot;4705359&quot;</td><td>&quot;4706481&quot;</td><td>0.0</td><td>0.0</td><td>0.0</td><td>0.0</td><td>0.0</td></tr><tr><td>&quot;mean&quot;</td><td>166366.561096</td><td>null</td><td>9.953133</td><td>175.340453</td><td>null</td><td>null</td><td>173.973897</td><td>70079.179496</td><td>0.634699</td><td>0.106238</td><td>16.856236</td><td>14042.630393</td><td>37.474165</td><td>0.502213</td><td>null</td><td>1301.234406</td><td>0.2959</td><td>0.044749</td><td>386.283316</td><td>0.027911</td><td>0.050796</td><td>0.051023</td><td>14.781894</td><td>5.7979e-17</td><td>6.9115e-18</td><td>-3.3626e-17</td><td>-4.6638e-17</td><td>0.511737</td><td>128.811609</td><td>150.06539</td><td>-101.907571</td><td>null</td><td>null</td><td>277.610974</td><td>6.280162</td><td>0.898392</td><td>12.108063</td><td>2.161966</td></tr><tr><td>&quot;std&quot;</td><td>96112.230102</td><td>null</td><td>7.64689</td><td>65.916249</td><td>null</td><td>null</td><td>68.345248</td><td>40609.920378</td><td>0.481514</td><td>0.148071</td><td>10.425655</td><td>8111.843351</td><td>51.993411</td><td>0.499995</td><td>null</td><td>2023.951353</td><td>0.456446</td><td>0.206751</td><td>821.190577</td><td>0.164716</td><td>0.219582</td><td>0.220044</td><td>152.690042</td><td>0.970956</td><td>0.979159</td><td>0.979429</td><td>0.634284</td><td>0.074741</td><td>5933.633778</td><td>8542.477531</td><td>16001.150969</td><td>null</td><td>null</td><td>16107.404854</td><td>5.897343</td><td>0.302133</td><td>7.401561</td><td>0.862339</td></tr><tr><td>&quot;min&quot;</td><td>1.0</td><td>null</td><td>1.0</td><td>1.0</td><td>&quot;1.41&quot;</td><td>&quot;0.0&quot;</td><td>1.0</td><td>1.0</td><td>0.0</td><td>0.0</td><td>1.0</td><td>2.0</td><td>0.0</td><td>0.0</td><td>&quot;-10.0001&quot;</td><td>0.01</td><td>0.0</td><td>0.0</td><td>0.0</td><td>0.0</td><td>0.0</td><td>0.0</td><td>0.0</td><td>-5.833158</td><td>-5.420771</td><td>-5.43735</td><td>-4.342843</td><td>0.0</td><td>0.0</td><td>0.0</td><td>-1.9726327e7</td><td>&quot;-0.009999999999990905&quot;</td><td>&quot;-0.009999999999999787&quot;</td><td>0.0</td><td>0.0</td><td>0.0</td><td>1.0</td><td>1.0</td></tr><tr><td>&quot;25%&quot;</td><td>82936.0</td><td>null</td><td>5.0</td><td>100.0</td><td>null</td><td>null</td><td>100.0</td><td>35010.0</td><td>0.0</td><td>0.0182</td><td>8.0</td><td>7101.0</td><td>4.0</td><td>0.0</td><td>null</td><td>139.8</td><td>0.0</td><td>0.0</td><td>124.0</td><td>0.0</td><td>0.0</td><td>0.0</td><td>0.007625</td><td>-0.645485</td><td>-0.377931</td><td>-0.466671</td><td>-0.383097</td><td>0.466595</td><td>40.0</td><td>40.3</td><td>-24.825036</td><td>null</td><td>null</td><td>89.0</td><td>2.0</td><td>1.0</td><td>6.0</td><td>2.0</td></tr><tr><td>&quot;50%&quot;</td><td>166507.0</td><td>null</td><td>5.0</td><td>219.0</td><td>null</td><td>null</td><td>219.0</td><td>69638.0</td><td>1.0</td><td>0.0378</td><td>16.0</td><td>13541.0</td><td>17.0</td><td>1.0</td><td>null</td><td>386.6</td><td>0.0</td><td>0.0</td><td>218.4</td><td>0.0</td><td>0.0</td><td>0.0</td><td>0.019384</td><td>0.040568</td><td>-0.220644</td><td>0.222284</td><td>0.015687</td><td>0.513586</td><td>63.205</td><td>71.5</td><td>17.770073</td><td>null</td><td>null</td><td>129.0</td><td>5.0</td><td>1.0</td><td>11.0</td><td>2.0</td></tr><tr><td>&quot;75%&quot;</td><td>249724.0</td><td>null</td><td>14.0</td><td>219.0</td><td>null</td><td>null</td><td>219.0</td><td>105168.0</td><td>1.0</td><td>0.1374</td><td>26.0</td><td>21084.0</td><td>48.0</td><td>1.0</td><td>null</td><td>1500.67</td><td>1.0</td><td>0.0</td><td>429.79</td><td>0.0</td><td>0.0</td><td>0.0</td><td>0.054844</td><td>0.656159</td><td>0.055481</td><td>0.662628</td><td>0.355556</td><td>0.553634</td><td>103.005</td><td>118.96</td><td>50.23537</td><td>null</td><td>null</td><td>200.0</td><td>9.0</td><td>1.0</td><td>18.0</td><td>3.0</td></tr><tr><td>&quot;max&quot;</td><td>332785.0</td><td>null</td><td>34.0</td><td>231.0</td><td>&quot;5.0&quot;</td><td>&quot;999.81&quot;</td><td>230.0</td><td>140821.0</td><td>1.0</td><td>1.0</td><td>40.0</td><td>28416.0</td><td>492.0</td><td>1.0</td><td>&quot;-99.9113&quot;</td><td>11666.64</td><td>1.0</td><td>1.0</td><td>159292.38</td><td>1.0</td><td>1.0</td><td>1.0</td><td>9895.0</td><td>5.832983</td><td>6.002146</td><td>5.294071</td><td>4.143631</td><td>1.0</td><td>6.5754e6</td><td>9.3813e6</td><td>497.681251</td><td>&quot;997.0200000000001&quot;</td><td>&quot;5.0&quot;</td><td>1.9726328e7</td><td>35.0</td><td>1.0</td><td>35.0</td><td>6.0</td></tr></tbody></table></div>"
      ],
      "text/plain": [
       "shape: (9, 39)\n",
       "┌───────────┬───────────┬───────────┬───────────┬───┬───────────┬───────────┬───────────┬──────────┐\n",
       "│ statistic ┆ srch_id   ┆ date_time ┆ site_id   ┆ … ┆ promotion ┆ promotion ┆ price_ran ┆ star_ran │\n",
       "│ ---       ┆ ---       ┆ ---       ┆ ---       ┆   ┆ _count    ┆ _any      ┆ k         ┆ k        │\n",
       "│ str       ┆ f64       ┆ str       ┆ f64       ┆   ┆ ---       ┆ ---       ┆ ---       ┆ ---      │\n",
       "│           ┆           ┆           ┆           ┆   ┆ f64       ┆ f64       ┆ f64       ┆ f64      │\n",
       "╞═══════════╪═══════════╪═══════════╪═══════════╪═══╪═══════════╪═══════════╪═══════════╪══════════╡\n",
       "│ count     ┆ 4.958347e ┆ 0         ┆ 4.958347e ┆ … ┆ 4.958347e ┆ 4.958347e ┆ 4.958347e ┆ 4.958347 │\n",
       "│           ┆ 6         ┆           ┆ 6         ┆   ┆ 6         ┆ 6         ┆ 6         ┆ e6       │\n",
       "│ null_coun ┆ 0.0       ┆ 4958347   ┆ 0.0       ┆ … ┆ 0.0       ┆ 0.0       ┆ 0.0       ┆ 0.0      │\n",
       "│ t         ┆           ┆           ┆           ┆   ┆           ┆           ┆           ┆          │\n",
       "│ mean      ┆ 166366.56 ┆ null      ┆ 9.953133  ┆ … ┆ 6.280162  ┆ 0.898392  ┆ 12.108063 ┆ 2.161966 │\n",
       "│           ┆ 1096      ┆           ┆           ┆   ┆           ┆           ┆           ┆          │\n",
       "│ std       ┆ 96112.230 ┆ null      ┆ 7.64689   ┆ … ┆ 5.897343  ┆ 0.302133  ┆ 7.401561  ┆ 0.862339 │\n",
       "│           ┆ 102       ┆           ┆           ┆   ┆           ┆           ┆           ┆          │\n",
       "│ min       ┆ 1.0       ┆ null      ┆ 1.0       ┆ … ┆ 0.0       ┆ 0.0       ┆ 1.0       ┆ 1.0      │\n",
       "│ 25%       ┆ 82936.0   ┆ null      ┆ 5.0       ┆ … ┆ 2.0       ┆ 1.0       ┆ 6.0       ┆ 2.0      │\n",
       "│ 50%       ┆ 166507.0  ┆ null      ┆ 5.0       ┆ … ┆ 5.0       ┆ 1.0       ┆ 11.0      ┆ 2.0      │\n",
       "│ 75%       ┆ 249724.0  ┆ null      ┆ 14.0      ┆ … ┆ 9.0       ┆ 1.0       ┆ 18.0      ┆ 3.0      │\n",
       "│ max       ┆ 332785.0  ┆ null      ┆ 34.0      ┆ … ┆ 35.0      ┆ 1.0       ┆ 35.0      ┆ 6.0      │\n",
       "└───────────┴───────────┴───────────┴───────────┴───┴───────────┴───────────┴───────────┴──────────┘"
      ]
     },
     "execution_count": 27,
     "metadata": {},
     "output_type": "execute_result"
    }
   ],
   "source": [
    "engineered_data = pl.read_csv(engineered_filepath)\n",
    "engineered_data.describe()"
   ]
  },
  {
   "cell_type": "markdown",
   "metadata": {},
   "source": [
    "## Convert str datatype to float"
   ]
  },
  {
   "cell_type": "code",
   "execution_count": 28,
   "metadata": {},
   "outputs": [
    {
     "data": {
      "text/html": [
       "<div><style>\n",
       ".dataframe > thead > tr,\n",
       ".dataframe > tbody > tr {\n",
       "  text-align: right;\n",
       "  white-space: pre-wrap;\n",
       "}\n",
       "</style>\n",
       "<small>shape: (9, 39)</small><table border=\"1\" class=\"dataframe\"><thead><tr><th>statistic</th><th>srch_id</th><th>date_time</th><th>site_id</th><th>visitor_location_country_id</th><th>visitor_hist_starrating</th><th>visitor_hist_adr_usd</th><th>prop_country_id</th><th>prop_id</th><th>prop_brand_bool</th><th>prop_location_score2</th><th>position</th><th>srch_destination_id</th><th>srch_booking_window</th><th>srch_saturday_night_bool</th><th>srch_query_affinity_score</th><th>orig_destination_distance</th><th>random_bool</th><th>click_bool</th><th>gross_bookings_usd</th><th>booking_bool</th><th>has_hist_starrating</th><th>has_hist_adr_usd</th><th>score1d2</th><th>normalized_prop_starrating</th><th>normalized_score1d2</th><th>normalized_prop_review_score</th><th>hotel_quality</th><th>normalized_hotel_quality</th><th>price_per_person</th><th>avg_price_per_day</th><th>ump</th><th>price_diff</th><th>starrating_diff</th><th>total_price</th><th>promotion_count</th><th>promotion_any</th><th>price_rank</th><th>star_rank</th></tr><tr><td>str</td><td>f64</td><td>f64</td><td>f64</td><td>f64</td><td>f64</td><td>f64</td><td>f64</td><td>f64</td><td>f64</td><td>f64</td><td>f64</td><td>f64</td><td>f64</td><td>f64</td><td>f64</td><td>f64</td><td>f64</td><td>f64</td><td>f64</td><td>f64</td><td>f64</td><td>f64</td><td>f64</td><td>f64</td><td>f64</td><td>f64</td><td>f64</td><td>f64</td><td>f64</td><td>f64</td><td>f64</td><td>f64</td><td>f64</td><td>f64</td><td>f64</td><td>f64</td><td>f64</td><td>f64</td></tr></thead><tbody><tr><td>&quot;count&quot;</td><td>4.958347e6</td><td>0.0</td><td>4.958347e6</td><td>4.958347e6</td><td>251866.0</td><td>252988.0</td><td>4.958347e6</td><td>4.958347e6</td><td>4.958347e6</td><td>4.958345e6</td><td>4.958347e6</td><td>4.958347e6</td><td>4.958347e6</td><td>4.958347e6</td><td>317406.0</td><td>3.350565e6</td><td>4.958347e6</td><td>4.958347e6</td><td>138390.0</td><td>4.958347e6</td><td>4.958347e6</td><td>4.958347e6</td><td>4.958347e6</td><td>4.958347e6</td><td>4.958347e6</td><td>4.958347e6</td><td>4.958347e6</td><td>4.958347e6</td><td>4.958347e6</td><td>4.958347e6</td><td>4.958347e6</td><td>252988.0</td><td>251866.0</td><td>4.958347e6</td><td>4.958347e6</td><td>4.958347e6</td><td>4.958347e6</td><td>4.958347e6</td></tr><tr><td>&quot;null_count&quot;</td><td>0.0</td><td>4.958347e6</td><td>0.0</td><td>0.0</td><td>4.706481e6</td><td>4.705359e6</td><td>0.0</td><td>0.0</td><td>0.0</td><td>2.0</td><td>0.0</td><td>0.0</td><td>0.0</td><td>0.0</td><td>4.640941e6</td><td>1.607782e6</td><td>0.0</td><td>0.0</td><td>4.819957e6</td><td>0.0</td><td>0.0</td><td>0.0</td><td>0.0</td><td>0.0</td><td>0.0</td><td>0.0</td><td>0.0</td><td>0.0</td><td>0.0</td><td>0.0</td><td>0.0</td><td>4.705359e6</td><td>4.706481e6</td><td>0.0</td><td>0.0</td><td>0.0</td><td>0.0</td><td>0.0</td></tr><tr><td>&quot;mean&quot;</td><td>166366.561096</td><td>null</td><td>9.953133</td><td>175.340453</td><td>3.374334</td><td>176.022659</td><td>173.973897</td><td>70079.179496</td><td>0.634699</td><td>0.106238</td><td>16.856236</td><td>14042.630393</td><td>37.474165</td><td>0.502213</td><td>-24.146418</td><td>1301.234406</td><td>0.2959</td><td>0.044749</td><td>386.283316</td><td>0.027911</td><td>0.050796</td><td>0.051023</td><td>14.781894</td><td>5.7979e-17</td><td>6.9115e-18</td><td>-3.3626e-17</td><td>-4.6638e-17</td><td>0.511737</td><td>128.811609</td><td>150.06539</td><td>-101.907571</td><td>22.684496</td><td>0.128652</td><td>277.610974</td><td>6.280162</td><td>0.898392</td><td>12.108063</td><td>2.161966</td></tr><tr><td>&quot;std&quot;</td><td>96112.230102</td><td>null</td><td>7.64689</td><td>65.916249</td><td>0.692519</td><td>107.254493</td><td>68.345248</td><td>40609.920378</td><td>0.481514</td><td>0.148071</td><td>10.425655</td><td>8111.843351</td><td>51.993411</td><td>0.499995</td><td>15.743238</td><td>2023.951353</td><td>0.456446</td><td>0.206751</td><td>821.190577</td><td>0.164716</td><td>0.219582</td><td>0.220044</td><td>152.690042</td><td>0.970956</td><td>0.979159</td><td>0.979429</td><td>0.634284</td><td>0.074741</td><td>5933.633778</td><td>8542.477531</td><td>16001.150969</td><td>153.01183</td><td>1.090383</td><td>16107.404854</td><td>5.897343</td><td>0.302133</td><td>7.401561</td><td>0.862339</td></tr><tr><td>&quot;min&quot;</td><td>1.0</td><td>null</td><td>1.0</td><td>1.0</td><td>1.41</td><td>0.0</td><td>1.0</td><td>1.0</td><td>0.0</td><td>0.0</td><td>1.0</td><td>2.0</td><td>0.0</td><td>0.0</td><td>-326.5675</td><td>0.01</td><td>0.0</td><td>0.0</td><td>0.0</td><td>0.0</td><td>0.0</td><td>0.0</td><td>0.0</td><td>-5.833158</td><td>-5.420771</td><td>-5.43735</td><td>-4.342843</td><td>0.0</td><td>0.0</td><td>0.0</td><td>-1.9726327e7</td><td>-12787.11</td><td>-3.5</td><td>0.0</td><td>0.0</td><td>0.0</td><td>1.0</td><td>1.0</td></tr><tr><td>&quot;25%&quot;</td><td>82936.0</td><td>null</td><td>5.0</td><td>100.0</td><td>2.92</td><td>109.81</td><td>100.0</td><td>35010.0</td><td>0.0</td><td>0.0182</td><td>8.0</td><td>7101.0</td><td>4.0</td><td>0.0</td><td>-30.7748</td><td>139.8</td><td>0.0</td><td>0.0</td><td>124.0</td><td>0.0</td><td>0.0</td><td>0.0</td><td>0.007625</td><td>-0.645485</td><td>-0.377931</td><td>-0.466671</td><td>-0.383097</td><td>0.466595</td><td>40.0</td><td>40.3</td><td>-24.825036</td><td>-31.63</td><td>-0.52</td><td>89.0</td><td>2.0</td><td>1.0</td><td>6.0</td><td>2.0</td></tr><tr><td>&quot;50%&quot;</td><td>166507.0</td><td>null</td><td>5.0</td><td>219.0</td><td>3.45</td><td>152.24</td><td>219.0</td><td>69638.0</td><td>1.0</td><td>0.0378</td><td>16.0</td><td>13541.0</td><td>17.0</td><td>1.0</td><td>-20.4513</td><td>386.6</td><td>0.0</td><td>0.0</td><td>218.4</td><td>0.0</td><td>0.0</td><td>0.0</td><td>0.019384</td><td>0.040568</td><td>-0.220644</td><td>0.222284</td><td>0.015687</td><td>0.513586</td><td>63.205</td><td>71.5</td><td>17.770073</td><td>24.19</td><td>0.0</td><td>129.0</td><td>5.0</td><td>1.0</td><td>11.0</td><td>2.0</td></tr><tr><td>&quot;75%&quot;</td><td>249724.0</td><td>null</td><td>14.0</td><td>219.0</td><td>3.93</td><td>213.49</td><td>219.0</td><td>105168.0</td><td>1.0</td><td>0.1374</td><td>26.0</td><td>21084.0</td><td>48.0</td><td>1.0</td><td>-13.3506</td><td>1500.67</td><td>1.0</td><td>0.0</td><td>429.79</td><td>0.0</td><td>0.0</td><td>0.0</td><td>0.054844</td><td>0.656159</td><td>0.055481</td><td>0.662628</td><td>0.355556</td><td>0.553634</td><td>103.005</td><td>118.96</td><td>50.23537</td><td>82.15</td><td>0.74</td><td>200.0</td><td>9.0</td><td>1.0</td><td>18.0</td><td>3.0</td></tr><tr><td>&quot;max&quot;</td><td>332785.0</td><td>null</td><td>34.0</td><td>231.0</td><td>5.0</td><td>1958.7</td><td>230.0</td><td>140821.0</td><td>1.0</td><td>1.0</td><td>40.0</td><td>28416.0</td><td>492.0</td><td>1.0</td><td>-2.4941</td><td>11666.64</td><td>1.0</td><td>1.0</td><td>159292.38</td><td>1.0</td><td>1.0</td><td>1.0</td><td>9895.0</td><td>5.832983</td><td>6.002146</td><td>5.294071</td><td>4.143631</td><td>1.0</td><td>6.5754e6</td><td>9.3813e6</td><td>497.681251</td><td>1903.7</td><td>5.0</td><td>1.9726328e7</td><td>35.0</td><td>1.0</td><td>35.0</td><td>6.0</td></tr></tbody></table></div>"
      ],
      "text/plain": [
       "shape: (9, 39)\n",
       "┌───────────┬───────────┬───────────┬───────────┬───┬───────────┬───────────┬───────────┬──────────┐\n",
       "│ statistic ┆ srch_id   ┆ date_time ┆ site_id   ┆ … ┆ promotion ┆ promotion ┆ price_ran ┆ star_ran │\n",
       "│ ---       ┆ ---       ┆ ---       ┆ ---       ┆   ┆ _count    ┆ _any      ┆ k         ┆ k        │\n",
       "│ str       ┆ f64       ┆ f64       ┆ f64       ┆   ┆ ---       ┆ ---       ┆ ---       ┆ ---      │\n",
       "│           ┆           ┆           ┆           ┆   ┆ f64       ┆ f64       ┆ f64       ┆ f64      │\n",
       "╞═══════════╪═══════════╪═══════════╪═══════════╪═══╪═══════════╪═══════════╪═══════════╪══════════╡\n",
       "│ count     ┆ 4.958347e ┆ 0.0       ┆ 4.958347e ┆ … ┆ 4.958347e ┆ 4.958347e ┆ 4.958347e ┆ 4.958347 │\n",
       "│           ┆ 6         ┆           ┆ 6         ┆   ┆ 6         ┆ 6         ┆ 6         ┆ e6       │\n",
       "│ null_coun ┆ 0.0       ┆ 4.958347e ┆ 0.0       ┆ … ┆ 0.0       ┆ 0.0       ┆ 0.0       ┆ 0.0      │\n",
       "│ t         ┆           ┆ 6         ┆           ┆   ┆           ┆           ┆           ┆          │\n",
       "│ mean      ┆ 166366.56 ┆ null      ┆ 9.953133  ┆ … ┆ 6.280162  ┆ 0.898392  ┆ 12.108063 ┆ 2.161966 │\n",
       "│           ┆ 1096      ┆           ┆           ┆   ┆           ┆           ┆           ┆          │\n",
       "│ std       ┆ 96112.230 ┆ null      ┆ 7.64689   ┆ … ┆ 5.897343  ┆ 0.302133  ┆ 7.401561  ┆ 0.862339 │\n",
       "│           ┆ 102       ┆           ┆           ┆   ┆           ┆           ┆           ┆          │\n",
       "│ min       ┆ 1.0       ┆ null      ┆ 1.0       ┆ … ┆ 0.0       ┆ 0.0       ┆ 1.0       ┆ 1.0      │\n",
       "│ 25%       ┆ 82936.0   ┆ null      ┆ 5.0       ┆ … ┆ 2.0       ┆ 1.0       ┆ 6.0       ┆ 2.0      │\n",
       "│ 50%       ┆ 166507.0  ┆ null      ┆ 5.0       ┆ … ┆ 5.0       ┆ 1.0       ┆ 11.0      ┆ 2.0      │\n",
       "│ 75%       ┆ 249724.0  ┆ null      ┆ 14.0      ┆ … ┆ 9.0       ┆ 1.0       ┆ 18.0      ┆ 3.0      │\n",
       "│ max       ┆ 332785.0  ┆ null      ┆ 34.0      ┆ … ┆ 35.0      ┆ 1.0       ┆ 35.0      ┆ 6.0      │\n",
       "└───────────┴───────────┴───────────┴───────────┴───┴───────────┴───────────┴───────────┴──────────┘"
      ]
     },
     "execution_count": 28,
     "metadata": {},
     "output_type": "execute_result"
    }
   ],
   "source": [
    "for col_name in engineered_data.columns:\n",
    "    if engineered_data[col_name].dtype == pl.Utf8:\n",
    "        engineered_data = engineered_data.with_columns(\n",
    "            engineered_data[col_name]\n",
    "            .str.replace(\"NULL\", \"NaN\") \n",
    "            .str.replace(\"N/A\", \"NaN\")   \n",
    "            .cast(pl.Float64)          \n",
    "            .alias(col_name)\n",
    "        )\n",
    "\n",
    "engineered_data.write_csv(engineered_filepath)\n",
    "engineered_data.describe()"
   ]
  },
  {
   "cell_type": "code",
   "execution_count": 29,
   "metadata": {},
   "outputs": [
    {
     "name": "stdout",
     "output_type": "stream",
     "text": [
      "4958347\n"
     ]
    }
   ],
   "source": [
    "print(len(engineered_data))"
   ]
  }
 ],
 "metadata": {
  "kernelspec": {
   "display_name": "Python 3",
   "language": "python",
   "name": "python3"
  },
  "language_info": {
   "codemirror_mode": {
    "name": "ipython",
    "version": 3
   },
   "file_extension": ".py",
   "mimetype": "text/x-python",
   "name": "python",
   "nbconvert_exporter": "python",
   "pygments_lexer": "ipython3",
   "version": "3.11.8"
  }
 },
 "nbformat": 4,
 "nbformat_minor": 2
}
