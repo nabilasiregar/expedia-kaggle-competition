{
 "cells": [
  {
   "cell_type": "code",
   "execution_count": 1,
   "metadata": {},
   "outputs": [],
   "source": [
    "import polars as pl\n",
    "import numpy as np\n",
    "import pandas as pd"
   ]
  },
  {
   "cell_type": "code",
   "execution_count": 2,
   "metadata": {},
   "outputs": [],
   "source": [
    "raw_filepath = '../data/raw/test_set_VU_DM.csv'\n",
    "engineered_filepath = \"../data/preprocessed/engineered_test_set.csv\""
   ]
  },
  {
   "cell_type": "code",
   "execution_count": 3,
   "metadata": {},
   "outputs": [
    {
     "name": "stdout",
     "output_type": "stream",
     "text": [
      "['comp7_rate', 'comp7_rate_percent_diff', 'comp6_inv', 'comp1_inv', 'comp4_rate', 'comp4_inv', 'comp1_rate', 'comp6_rate_percent_diff', 'comp4_rate_percent_diff', 'comp1_rate_percent_diff', 'comp7_inv', 'comp6_rate', 'comp3_rate_percent_diff']\n"
     ]
    }
   ],
   "source": [
    "df = pl.read_csv(raw_filepath)\n",
    "\n",
    "# Convert NULL to None so polars can handle\n",
    "df_pandas = df.to_pandas()\n",
    "df_pandas = df_pandas.replace('NULL', pd.NA)\n",
    "df = pl.from_pandas(df_pandas)\n",
    "\n",
    "# Handling outliers in price_usd based on maximum value of visitor_hist_adr_usd\n",
    "df = df.filter(pl.col('price_usd') < 2000)\n",
    "\n",
    "# Create binary indicators for historical data to denote whether the historical booking data is available for a user.\n",
    "df = df.with_columns([\n",
    "    df['visitor_hist_starrating'].is_not_null().cast(pl.UInt8).alias('has_hist_starrating'),\n",
    "    df['visitor_hist_adr_usd'].is_not_null().cast(pl.UInt8).alias('has_hist_adr_usd')\n",
    "])\n",
    "\n",
    "# Drop columns with more than 90% missing data\n",
    "threshold = 0.9 * df.height\n",
    "\n",
    "cols_to_drop = [col for col in df.columns if df[col].is_null().sum() > threshold]\n",
    "cols_to_keep = ['visitor_hist_starrating', 'visitor_hist_adr_usd', 'srch_query_affinity_score', 'gross_bookings_usd']\n",
    "final_columns_to_drop = list(set(cols_to_drop) - set(cols_to_keep))\n",
    "print(final_columns_to_drop)\n",
    "df = df.drop(final_columns_to_drop)"
   ]
  },
  {
   "cell_type": "markdown",
   "metadata": {},
   "source": [
    "## Handling missing values in prop_location_score2 and prop_location_score1"
   ]
  },
  {
   "cell_type": "code",
   "execution_count": 4,
   "metadata": {},
   "outputs": [],
   "source": [
    "df = df.with_columns(\n",
    "    pl.col('prop_location_score2').map_elements(lambda x: None if x == 'NULL' else float(x), return_dtype=pl.Float64).alias('prop_location_score2')\n",
    ")\n",
    "\n",
    "# Calculate the first quartile of prop_location_score2 for each country\n",
    "first_quartiles = df.group_by('prop_country_id').agg([\n",
    "    pl.col('prop_location_score2').quantile(0.25).alias('first_quartile')\n",
    "])\n",
    "\n",
    "# Join this data back to the original dataframe\n",
    "df = df.join(first_quartiles, on='prop_country_id', how='left')\n",
    "\n",
    "# Fill missing prop_location_score2 values with the first quartile value for the respective country\n",
    "df = df.with_columns(\n",
    "    pl.when(pl.col('prop_location_score2').is_null())\n",
    "    .then(pl.col('first_quartile'))\n",
    "    .otherwise(pl.col('prop_location_score2'))\n",
    "    .alias('prop_location_score2')\n",
    ")\n",
    "\n",
    "# Optionally, remove the temporary 'first_quartile' column if it's no longer needed\n",
    "df = df.drop('first_quartile')\n",
    "\n"
   ]
  },
  {
   "cell_type": "code",
   "execution_count": 5,
   "metadata": {},
   "outputs": [],
   "source": [
    "df = df.with_columns(\n",
    "    pl.col('prop_location_score1').map_elements(lambda x: None if x == 'NULL' else float(x), return_dtype=pl.Float64).alias('prop_location_score1')\n",
    ")\n",
    "\n",
    "# Calculate the first quartile of prop_location_score1 for each country\n",
    "first_quartiles = df.group_by('prop_country_id').agg([\n",
    "    pl.col('prop_location_score1').quantile(0.25).alias('first_quartile')\n",
    "])\n",
    "\n",
    "# Join this data back to the original dataframe\n",
    "df = df.join(first_quartiles, on='prop_country_id', how='left')\n",
    "\n",
    "# Fill missing prop_location_score1 values with the first quartile value for the respective country\n",
    "df = df.with_columns(\n",
    "    pl.when(pl.col('prop_location_score1').is_null())\n",
    "    .then(pl.col('first_quartile'))\n",
    "    .otherwise(pl.col('prop_location_score1'))\n",
    "    .alias('prop_location_score1')\n",
    ")\n",
    "\n",
    "# Optionally, remove the temporary 'first_quartile' column if it's no longer needed\n",
    "df = df.drop('first_quartile')"
   ]
  },
  {
   "cell_type": "markdown",
   "metadata": {},
   "source": [
    "## Creating hotel_quality feature"
   ]
  },
  {
   "cell_type": "code",
   "execution_count": 6,
   "metadata": {},
   "outputs": [],
   "source": [
    "# Create a score difference between prop_location_score2 and prop_location_score1\n",
    "df = df.with_columns([\n",
    "    df[\"prop_location_score2\"].map_elements(lambda x: None if x == \"NULL\" else x, return_dtype=pl.Float64).cast(pl.Float64).fill_nan(0).alias(\"prop_location_score2\"),\n",
    "    df[\"prop_location_score1\"].map_elements(lambda x: None if x == \"NULL\" else x, return_dtype=pl.Float64).cast(pl.Float64).fill_nan(0).alias(\"prop_location_score1\")\n",
    "])\n",
    "df = df.with_columns(\n",
    "    ((df[\"prop_location_score2\"] + 0.0001) / (df[\"prop_location_score1\"] + 0.0001)).alias(\"score1d2\")\n",
    ")\n",
    "\n",
    "# 3. Normalize features within each 'srch_id' group\n",
    "features_to_normalize = ['prop_starrating', 'score1d2', 'prop_review_score']\n",
    "for feature in features_to_normalize:\n",
    "    df = df.with_columns(\n",
    "        df[feature].map_elements(lambda x: None if x == \"NULL\" else x, return_dtype=pl.Float64)\n",
    "             .cast(pl.Float64)\n",
    "             .fill_null(0) \n",
    "             .alias(feature)\n",
    "    )\n",
    "\n",
    "for feature in features_to_normalize:\n",
    "    temp_mean_name = f'{feature}_mean_temp'\n",
    "    temp_std_name = f'{feature}_std_temp'\n",
    "    group_stats = df.group_by('srch_id').agg([\n",
    "        pl.col(feature).mean().alias(temp_mean_name),\n",
    "        pl.col(feature).std().alias(temp_std_name)\n",
    "    ])\n",
    "    df = df.join(group_stats, on='srch_id')\n",
    "\n",
    "    # Perform normalization and create new column\n",
    "    df = df.with_columns(\n",
    "        ((pl.col(feature) - pl.col(temp_mean_name)) / (pl.col(temp_std_name) + 0.00001))\n",
    "        .fill_nan(0)  # Handle division by zero or missing std dev\n",
    "        .alias(f'normalized_{feature}')\n",
    "    )\n",
    "\n",
    "    # Drop temporary columns to prevent duplicates\n",
    "    df = df.drop([temp_mean_name, temp_std_name])\n",
    "\n",
    "# 4. Engineer the 'hotel_quality' feature using a weighted sum of normalized features\n",
    "weights = {\n",
    "    'normalized_prop_starrating': 0.3,\n",
    "    'normalized_score1d2': 0.4,\n",
    "    'normalized_prop_review_score': 0.3\n",
    "}\n",
    "\n",
    "weighted_features = [pl.col(feature) * weight for feature, weight in weights.items()]\n",
    "df = df.with_columns(\n",
    "    sum(weighted_features).alias('hotel_quality')\n",
    ")\n",
    "\n",
    "# 5. Normalize the 'hotel_quality' score to range between 0 and 1\n",
    "df = df.with_columns(\n",
    "    ((df['hotel_quality'] - df['hotel_quality'].min()) / (df['hotel_quality'].max() - df['hotel_quality'].min())).alias('normalized_hotel_quality')\n",
    ")"
   ]
  },
  {
   "cell_type": "markdown",
   "metadata": {},
   "source": [
    "## Create price features"
   ]
  },
  {
   "cell_type": "code",
   "execution_count": 7,
   "metadata": {},
   "outputs": [],
   "source": [
    "# 1. Price per Person\n",
    "df = df.with_columns(\n",
    "    ((df[\"price_usd\"] * df[\"srch_room_count\"]) / \n",
    "     (df[\"srch_adults_count\"] + df[\"srch_children_count\"]).fill_null(1)).alias(\"price_per_person\")\n",
    ")\n",
    "\n",
    "# 2. Average Price per Day\n",
    "df = df.with_columns(\n",
    "    (df[\"price_usd\"] / df[\"srch_length_of_stay\"]).alias(\"avg_price_per_day\")\n",
    ")\n",
    "\n",
    "# 3. UMP (User Margin Price)\n",
    "df = df.with_columns(\n",
    "    (pl.col(\"prop_log_historical_price\").exp() - pl.col(\"price_usd\")).alias(\"ump\")\n",
    ")\n",
    "\n",
    "df = df.with_columns([\n",
    "    pl.col(\"visitor_hist_adr_usd\").map_elements(lambda x: None if x in [\"NULL\", \"\"] else float(x), return_dtype=pl.Float64).alias(\"visitor_hist_adr_usd\"),\n",
    "    pl.col(\"price_usd\").map_elements(lambda x: None if x in [\"NULL\", \"\"] else float(x), return_dtype=pl.Float64).alias(\"price_usd\"),\n",
    "    pl.col(\"visitor_hist_starrating\").map_elements(lambda x: None if x in [\"NULL\", \"\"] else float(x), return_dtype=pl.Float64).alias(\"visitor_hist_starrating\"),\n",
    "    pl.col(\"prop_starrating\").map_elements(lambda x: None if x in [\"NULL\", \"\"] else float(x), return_dtype=pl.Float64).alias(\"prop_starrating\"),\n",
    "    pl.col(\"srch_room_count\").map_elements(lambda x: None if x in [\"NULL\", \"\"] else float(x), return_dtype=pl.Float64).alias(\"srch_room_count\"),\n",
    "    pl.col(\"srch_query_affinity_score\").map_elements(lambda x: None if x in [\"NULL\", \"\"] else float(x), return_dtype=pl.Float64).alias(\"srch_query_affinity_score\")\n",
    "])\n",
    "\n",
    "df = df.with_columns([\n",
    "    # 4. Price Difference\n",
    "    pl.when(pl.col(\"visitor_hist_adr_usd\").is_null())\n",
    "       .then(None)\n",
    "       .otherwise(pl.col(\"visitor_hist_adr_usd\") - pl.col(\"price_usd\")).alias(\"price_diff\"),\n",
    "    # 5. Star Rating Difference\n",
    "    pl.when(pl.col(\"visitor_hist_starrating\").is_null())\n",
    "       .then(None)\n",
    "       .otherwise(pl.col(\"visitor_hist_starrating\") - pl.col(\"prop_starrating\")).alias(\"starrating_diff\")\n",
    "])\n",
    "\n",
    "# 6. Total Price\n",
    "df = df.with_columns(\n",
    "    (df[\"price_usd\"] * df[\"srch_room_count\"]).alias(\"total_price\")\n",
    ")"
   ]
  },
  {
   "cell_type": "markdown",
   "metadata": {},
   "source": [
    "## Promotion feature"
   ]
  },
  {
   "cell_type": "code",
   "execution_count": 8,
   "metadata": {},
   "outputs": [],
   "source": [
    "# Count how many promotions are flagged within each search\n",
    "promotion_agg = df.group_by(\"srch_id\").agg([\n",
    "    pl.col(\"promotion_flag\").sum().alias(\"promotion_count\")\n",
    "])\n",
    "df = df.join(promotion_agg, on=\"srch_id\", how=\"left\")\n",
    "\n",
    "# Check if any property was on promotion per srch_id\n",
    "promotion_any = df.group_by(\"srch_id\").agg([\n",
    "    (pl.col(\"promotion_flag\").max() > 0).cast(pl.UInt8).alias(\"promotion_any\")\n",
    "])\n",
    "\n",
    "df = df.join(promotion_any, on=\"srch_id\", how=\"left\")"
   ]
  },
  {
   "cell_type": "markdown",
   "metadata": {},
   "source": [
    "## Ranking features"
   ]
  },
  {
   "cell_type": "code",
   "execution_count": 9,
   "metadata": {},
   "outputs": [],
   "source": [
    "# Group by 'srch_id' and rank 'price_usd' in ascending order (lowest to highest price)\n",
    "df = df.with_columns([\n",
    "    pl.col(\"price_usd\").rank(\"dense\", descending=False).over(\"srch_id\").alias(\"price_rank\")\n",
    "])\n",
    "\n",
    "# Group by 'srch_id' and rank 'prop_starrating' in descending order (highest to lowest rating)\n",
    "df = df.with_columns([\n",
    "    pl.col(\"prop_starrating\").rank(\"dense\", descending=True).over(\"srch_id\").alias(\"star_rank\")\n",
    "])"
   ]
  },
  {
   "cell_type": "code",
   "execution_count": 10,
   "metadata": {},
   "outputs": [],
   "source": [
    "columns_to_drop = [\n",
    "    'prop_location_score1',\n",
    "    'prop_starrating', \n",
    "    'prop_review_score',\n",
    "    'price_usd',\n",
    "    'srch_room_count',\n",
    "    'prop_log_historical_price',\n",
    "    'srch_length_of_stay',\n",
    "    'srch_children_count',\n",
    "    'srch_adults_count',\n",
    "    'room_count',\n",
    "    'promotion_flag'\n",
    "]\n",
    "\n",
    "df = df.drop(columns_to_drop)\n",
    "\n",
    "drop_competitors = [col for col in df.columns if col.startswith(\"comp\") and \n",
    "                   (\"rate\" in col or \"inv\" in col or \"percent_diff\" in col)]\n",
    "\n",
    "df = df.drop(drop_competitors)\n",
    "\n",
    "def replace_with_nan(value):\n",
    "    try:\n",
    "        return float(value)\n",
    "    except ValueError:\n",
    "        return None\n",
    "\n",
    "for col in df.columns:\n",
    "    if df[col].dtype == pl.Utf8:\n",
    "        # Convert string columns, replacing non-convertible strings with NaN\n",
    "        df = df.with_columns(\n",
    "            df[col].map_elements(replace_with_nan, return_dtype=pl.Float64).alias(col)\n",
    "        )\n",
    "    elif df[col].dtype == pl.Float64:\n",
    "        # For numeric columns, just ensure that they do not contain invalid strings\n",
    "        df = df.with_columns(\n",
    "            df[col].map_elements(lambda x: x if isinstance(x, float) else None, return_dtype=pl.Float64).alias(col)\n",
    "        )\n",
    "\n",
    "\n",
    "df.write_csv(engineered_filepath)"
   ]
  },
  {
   "cell_type": "code",
   "execution_count": 11,
   "metadata": {},
   "outputs": [
    {
     "data": {
      "text/html": [
       "<div><style>\n",
       ".dataframe > thead > tr,\n",
       ".dataframe > tbody > tr {\n",
       "  text-align: right;\n",
       "  white-space: pre-wrap;\n",
       "}\n",
       "</style>\n",
       "<small>shape: (9, 35)</small><table border=\"1\" class=\"dataframe\"><thead><tr><th>statistic</th><th>srch_id</th><th>date_time</th><th>site_id</th><th>visitor_location_country_id</th><th>visitor_hist_starrating</th><th>visitor_hist_adr_usd</th><th>prop_country_id</th><th>prop_id</th><th>prop_brand_bool</th><th>prop_location_score2</th><th>srch_destination_id</th><th>srch_booking_window</th><th>srch_saturday_night_bool</th><th>srch_query_affinity_score</th><th>orig_destination_distance</th><th>random_bool</th><th>has_hist_starrating</th><th>has_hist_adr_usd</th><th>score1d2</th><th>normalized_prop_starrating</th><th>normalized_score1d2</th><th>normalized_prop_review_score</th><th>hotel_quality</th><th>normalized_hotel_quality</th><th>price_per_person</th><th>avg_price_per_day</th><th>ump</th><th>price_diff</th><th>starrating_diff</th><th>total_price</th><th>promotion_count</th><th>promotion_any</th><th>price_rank</th><th>star_rank</th></tr><tr><td>str</td><td>f64</td><td>str</td><td>f64</td><td>f64</td><td>str</td><td>str</td><td>f64</td><td>f64</td><td>f64</td><td>f64</td><td>f64</td><td>f64</td><td>f64</td><td>str</td><td>f64</td><td>f64</td><td>f64</td><td>f64</td><td>f64</td><td>f64</td><td>f64</td><td>f64</td><td>f64</td><td>f64</td><td>f64</td><td>f64</td><td>f64</td><td>str</td><td>str</td><td>f64</td><td>f64</td><td>f64</td><td>f64</td><td>f64</td></tr></thead><tbody><tr><td>&quot;count&quot;</td><td>4.953797e6</td><td>&quot;0&quot;</td><td>4.953797e6</td><td>4.953797e6</td><td>&quot;253366&quot;</td><td>&quot;254558&quot;</td><td>4.953797e6</td><td>4.953797e6</td><td>4.953797e6</td><td>4.953792e6</td><td>4.953797e6</td><td>4.953797e6</td><td>4.953797e6</td><td>&quot;318039&quot;</td><td>3.348504e6</td><td>4.953797e6</td><td>4.953797e6</td><td>4.953797e6</td><td>4.953797e6</td><td>4.953789e6</td><td>4.953789e6</td><td>4.953789e6</td><td>4.953789e6</td><td>4.953789e6</td><td>4.953797e6</td><td>4.953797e6</td><td>4.953797e6</td><td>&quot;254558&quot;</td><td>&quot;253366&quot;</td><td>4.953797e6</td><td>4.953797e6</td><td>4.953797e6</td><td>4.953797e6</td><td>4.953797e6</td></tr><tr><td>&quot;null_count&quot;</td><td>0.0</td><td>&quot;4953797&quot;</td><td>0.0</td><td>0.0</td><td>&quot;4700431&quot;</td><td>&quot;4699239&quot;</td><td>0.0</td><td>0.0</td><td>0.0</td><td>5.0</td><td>0.0</td><td>0.0</td><td>0.0</td><td>&quot;4635758&quot;</td><td>1.605293e6</td><td>0.0</td><td>0.0</td><td>0.0</td><td>0.0</td><td>8.0</td><td>8.0</td><td>8.0</td><td>8.0</td><td>8.0</td><td>0.0</td><td>0.0</td><td>0.0</td><td>&quot;4699239&quot;</td><td>&quot;4700431&quot;</td><td>0.0</td><td>0.0</td><td>0.0</td><td>0.0</td><td>0.0</td></tr><tr><td>&quot;mean&quot;</td><td>166650.050685</td><td>null</td><td>9.979691</td><td>175.288132</td><td>null</td><td>null</td><td>173.863529</td><td>70079.371657</td><td>0.634046</td><td>0.106352</td><td>14068.943352</td><td>37.773908</td><td>0.49836</td><td>null</td><td>1312.250238</td><td>0.296867</td><td>0.051146</td><td>0.051386</td><td>14.55101</td><td>-1.9346e-17</td><td>-6.2537e-17</td><td>8.9503e-19</td><td>-2.1785e-17</td><td>0.512731</td><td>85.409712</td><td>92.329614</td><td>-1.050751</td><td>null</td><td>null</td><td>170.782663</td><td>6.287903</td><td>0.899962</td><td>12.118226</td><td>2.160134</td></tr><tr><td>&quot;std&quot;</td><td>96152.186935</td><td>null</td><td>7.668162</td><td>65.887558</td><td>null</td><td>null</td><td>68.33938</td><td>40613.125643</td><td>0.481697</td><td>0.148208</td><td>8118.386941</td><td>52.226439</td><td>0.499997</td><td>null</td><td>2036.052064</td><td>0.456878</td><td>0.220295</td><td>0.220785</td><td>148.354285</td><td>0.970866</td><td>0.979175</td><td>0.979443</td><td>0.634607</td><td>0.076053</td><td>83.267017</td><td>83.261527</td><td>107.82569</td><td>null</td><td>null</td><td>153.171551</td><td>5.904002</td><td>0.300051</td><td>7.403705</td><td>0.861888</td></tr><tr><td>&quot;min&quot;</td><td>1.0</td><td>null</td><td>1.0</td><td>1.0</td><td>&quot;1.0&quot;</td><td>&quot;0.0&quot;</td><td>1.0</td><td>1.0</td><td>0.0</td><td>0.0</td><td>2.0</td><td>0.0</td><td>0.0</td><td>&quot;-10.0&quot;</td><td>0.01</td><td>0.0</td><td>0.0</td><td>0.0</td><td>0.0</td><td>-5.746709</td><td>-5.511471</td><td>-5.382605</td><td>-4.278366</td><td>0.0</td><td>0.0</td><td>0.0</td><td>-1994.0</td><td>&quot;-0.009999999999990905&quot;</td><td>&quot;-0.009999999999999787&quot;</td><td>0.0</td><td>0.0</td><td>0.0</td><td>1.0</td><td>1.0</td></tr><tr><td>&quot;25%&quot;</td><td>83302.0</td><td>null</td><td>5.0</td><td>100.0</td><td>null</td><td>null</td><td>100.0</td><td>35020.0</td><td>0.0</td><td>0.0182</td><td>7100.0</td><td>4.0</td><td>0.0</td><td>null</td><td>142.22</td><td>0.0</td><td>0.0</td><td>0.0</td><td>0.007596</td><td>-0.644377</td><td>-0.37811</td><td>-0.465259</td><td>-0.3838</td><td>0.466735</td><td>40.0</td><td>40.04</td><td>-25.0</td><td>null</td><td>null</td><td>89.0</td><td>2.0</td><td>1.0</td><td>6.0</td><td>2.0</td></tr><tr><td>&quot;50%&quot;</td><td>167108.0</td><td>null</td><td>5.0</td><td>219.0</td><td>null</td><td>null</td><td>219.0</td><td>69607.0</td><td>1.0</td><td>0.0379</td><td>13609.0</td><td>17.0</td><td>0.0</td><td>null</td><td>387.61</td><td>0.0</td><td>0.0</td><td>0.0</td><td>0.019333</td><td>0.041898</td><td>-0.220267</td><td>0.221822</td><td>0.016396</td><td>0.514696</td><td>63.33</td><td>71.45</td><td>17.701184</td><td>null</td><td>null</td><td>129.0</td><td>5.0</td><td>1.0</td><td>11.0</td><td>2.0</td></tr><tr><td>&quot;75%&quot;</td><td>249977.0</td><td>null</td><td>14.0</td><td>219.0</td><td>null</td><td>null</td><td>219.0</td><td>105179.0</td><td>1.0</td><td>0.138</td><td>21160.0</td><td>49.0</td><td>1.0</td><td>null</td><td>1516.76</td><td>1.0</td><td>0.0</td><td>0.0</td><td>0.054735</td><td>0.656159</td><td>0.063656</td><td>0.663191</td><td>0.356175</td><td>0.555416</td><td>103.0</td><td>118.56</td><td>50.094058</td><td>null</td><td>null</td><td>199.65</td><td>9.0</td><td>1.0</td><td>18.0</td><td>3.0</td></tr><tr><td>&quot;max&quot;</td><td>332787.0</td><td>null</td><td>34.0</td><td>231.0</td><td>&quot;5.0&quot;</td><td>&quot;99.98&quot;</td><td>230.0</td><td>140821.0</td><td>1.0</td><td>1.0</td><td>28416.0</td><td>498.0</td><td>1.0</td><td>&quot;-99.9883&quot;</td><td>11692.98</td><td>1.0</td><td>1.0</td><td>1.0</td><td>9895.0</td><td>5.746709</td><td>6.002114</td><td>5.479458</td><td>4.065903</td><td>1.0</td><td>13162.08</td><td>1999.9</td><td>497.261251</td><td>&quot;999.88&quot;</td><td>&quot;5.0&quot;</td><td>13162.08</td><td>36.0</td><td>1.0</td><td>35.0</td><td>6.0</td></tr></tbody></table></div>"
      ],
      "text/plain": [
       "shape: (9, 35)\n",
       "┌───────────┬───────────┬───────────┬───────────┬───┬───────────┬───────────┬───────────┬──────────┐\n",
       "│ statistic ┆ srch_id   ┆ date_time ┆ site_id   ┆ … ┆ promotion ┆ promotion ┆ price_ran ┆ star_ran │\n",
       "│ ---       ┆ ---       ┆ ---       ┆ ---       ┆   ┆ _count    ┆ _any      ┆ k         ┆ k        │\n",
       "│ str       ┆ f64       ┆ str       ┆ f64       ┆   ┆ ---       ┆ ---       ┆ ---       ┆ ---      │\n",
       "│           ┆           ┆           ┆           ┆   ┆ f64       ┆ f64       ┆ f64       ┆ f64      │\n",
       "╞═══════════╪═══════════╪═══════════╪═══════════╪═══╪═══════════╪═══════════╪═══════════╪══════════╡\n",
       "│ count     ┆ 4.953797e ┆ 0         ┆ 4.953797e ┆ … ┆ 4.953797e ┆ 4.953797e ┆ 4.953797e ┆ 4.953797 │\n",
       "│           ┆ 6         ┆           ┆ 6         ┆   ┆ 6         ┆ 6         ┆ 6         ┆ e6       │\n",
       "│ null_coun ┆ 0.0       ┆ 4953797   ┆ 0.0       ┆ … ┆ 0.0       ┆ 0.0       ┆ 0.0       ┆ 0.0      │\n",
       "│ t         ┆           ┆           ┆           ┆   ┆           ┆           ┆           ┆          │\n",
       "│ mean      ┆ 166650.05 ┆ null      ┆ 9.979691  ┆ … ┆ 6.287903  ┆ 0.899962  ┆ 12.118226 ┆ 2.160134 │\n",
       "│           ┆ 0685      ┆           ┆           ┆   ┆           ┆           ┆           ┆          │\n",
       "│ std       ┆ 96152.186 ┆ null      ┆ 7.668162  ┆ … ┆ 5.904002  ┆ 0.300051  ┆ 7.403705  ┆ 0.861888 │\n",
       "│           ┆ 935       ┆           ┆           ┆   ┆           ┆           ┆           ┆          │\n",
       "│ min       ┆ 1.0       ┆ null      ┆ 1.0       ┆ … ┆ 0.0       ┆ 0.0       ┆ 1.0       ┆ 1.0      │\n",
       "│ 25%       ┆ 83302.0   ┆ null      ┆ 5.0       ┆ … ┆ 2.0       ┆ 1.0       ┆ 6.0       ┆ 2.0      │\n",
       "│ 50%       ┆ 167108.0  ┆ null      ┆ 5.0       ┆ … ┆ 5.0       ┆ 1.0       ┆ 11.0      ┆ 2.0      │\n",
       "│ 75%       ┆ 249977.0  ┆ null      ┆ 14.0      ┆ … ┆ 9.0       ┆ 1.0       ┆ 18.0      ┆ 3.0      │\n",
       "│ max       ┆ 332787.0  ┆ null      ┆ 34.0      ┆ … ┆ 36.0      ┆ 1.0       ┆ 35.0      ┆ 6.0      │\n",
       "└───────────┴───────────┴───────────┴───────────┴───┴───────────┴───────────┴───────────┴──────────┘"
      ]
     },
     "execution_count": 11,
     "metadata": {},
     "output_type": "execute_result"
    }
   ],
   "source": [
    "engineered_data = pl.read_csv(engineered_filepath)\n",
    "engineered_data.describe()"
   ]
  },
  {
   "cell_type": "markdown",
   "metadata": {},
   "source": [
    "## Convert str datatype to float"
   ]
  },
  {
   "cell_type": "code",
   "execution_count": 12,
   "metadata": {},
   "outputs": [
    {
     "data": {
      "text/html": [
       "<div><style>\n",
       ".dataframe > thead > tr,\n",
       ".dataframe > tbody > tr {\n",
       "  text-align: right;\n",
       "  white-space: pre-wrap;\n",
       "}\n",
       "</style>\n",
       "<small>shape: (9, 35)</small><table border=\"1\" class=\"dataframe\"><thead><tr><th>statistic</th><th>srch_id</th><th>date_time</th><th>site_id</th><th>visitor_location_country_id</th><th>visitor_hist_starrating</th><th>visitor_hist_adr_usd</th><th>prop_country_id</th><th>prop_id</th><th>prop_brand_bool</th><th>prop_location_score2</th><th>srch_destination_id</th><th>srch_booking_window</th><th>srch_saturday_night_bool</th><th>srch_query_affinity_score</th><th>orig_destination_distance</th><th>random_bool</th><th>has_hist_starrating</th><th>has_hist_adr_usd</th><th>score1d2</th><th>normalized_prop_starrating</th><th>normalized_score1d2</th><th>normalized_prop_review_score</th><th>hotel_quality</th><th>normalized_hotel_quality</th><th>price_per_person</th><th>avg_price_per_day</th><th>ump</th><th>price_diff</th><th>starrating_diff</th><th>total_price</th><th>promotion_count</th><th>promotion_any</th><th>price_rank</th><th>star_rank</th></tr><tr><td>str</td><td>f64</td><td>f64</td><td>f64</td><td>f64</td><td>f64</td><td>f64</td><td>f64</td><td>f64</td><td>f64</td><td>f64</td><td>f64</td><td>f64</td><td>f64</td><td>f64</td><td>f64</td><td>f64</td><td>f64</td><td>f64</td><td>f64</td><td>f64</td><td>f64</td><td>f64</td><td>f64</td><td>f64</td><td>f64</td><td>f64</td><td>f64</td><td>f64</td><td>f64</td><td>f64</td><td>f64</td><td>f64</td><td>f64</td><td>f64</td></tr></thead><tbody><tr><td>&quot;count&quot;</td><td>4.953797e6</td><td>0.0</td><td>4.953797e6</td><td>4.953797e6</td><td>253366.0</td><td>254558.0</td><td>4.953797e6</td><td>4.953797e6</td><td>4.953797e6</td><td>4.953792e6</td><td>4.953797e6</td><td>4.953797e6</td><td>4.953797e6</td><td>318039.0</td><td>3.348504e6</td><td>4.953797e6</td><td>4.953797e6</td><td>4.953797e6</td><td>4.953797e6</td><td>4.953789e6</td><td>4.953789e6</td><td>4.953789e6</td><td>4.953789e6</td><td>4.953789e6</td><td>4.953797e6</td><td>4.953797e6</td><td>4.953797e6</td><td>254558.0</td><td>253366.0</td><td>4.953797e6</td><td>4.953797e6</td><td>4.953797e6</td><td>4.953797e6</td><td>4.953797e6</td></tr><tr><td>&quot;null_count&quot;</td><td>0.0</td><td>4.953797e6</td><td>0.0</td><td>0.0</td><td>4.700431e6</td><td>4.699239e6</td><td>0.0</td><td>0.0</td><td>0.0</td><td>5.0</td><td>0.0</td><td>0.0</td><td>0.0</td><td>4.635758e6</td><td>1.605293e6</td><td>0.0</td><td>0.0</td><td>0.0</td><td>0.0</td><td>8.0</td><td>8.0</td><td>8.0</td><td>8.0</td><td>8.0</td><td>0.0</td><td>0.0</td><td>0.0</td><td>4.699239e6</td><td>4.700431e6</td><td>0.0</td><td>0.0</td><td>0.0</td><td>0.0</td><td>0.0</td></tr><tr><td>&quot;mean&quot;</td><td>166650.050685</td><td>null</td><td>9.979691</td><td>175.288132</td><td>3.374849</td><td>177.138355</td><td>173.863529</td><td>70079.371657</td><td>0.634046</td><td>0.106352</td><td>14068.943352</td><td>37.773908</td><td>0.49836</td><td>-24.460135</td><td>1312.250238</td><td>0.296867</td><td>0.051146</td><td>0.051386</td><td>14.55101</td><td>-1.9346e-17</td><td>-6.2537e-17</td><td>8.9503e-19</td><td>-2.1785e-17</td><td>0.512731</td><td>85.409712</td><td>92.329614</td><td>-1.050751</td><td>23.699542</td><td>0.11442</td><td>170.782663</td><td>6.287903</td><td>0.899962</td><td>12.118226</td><td>2.160134</td></tr><tr><td>&quot;std&quot;</td><td>96152.186935</td><td>null</td><td>7.668162</td><td>65.887558</td><td>0.691904</td><td>109.586905</td><td>68.33938</td><td>40613.125643</td><td>0.481697</td><td>0.148208</td><td>8118.386941</td><td>52.226439</td><td>0.499997</td><td>15.869085</td><td>2036.052064</td><td>0.456878</td><td>0.220295</td><td>0.220785</td><td>148.354285</td><td>0.970866</td><td>0.979175</td><td>0.979443</td><td>0.634607</td><td>0.076053</td><td>83.267017</td><td>83.261527</td><td>107.82569</td><td>141.427106</td><td>1.107542</td><td>153.171551</td><td>5.904002</td><td>0.300051</td><td>7.403705</td><td>0.861888</td></tr><tr><td>&quot;min&quot;</td><td>1.0</td><td>null</td><td>1.0</td><td>1.0</td><td>1.0</td><td>0.0</td><td>1.0</td><td>1.0</td><td>0.0</td><td>0.0</td><td>2.0</td><td>0.0</td><td>0.0</td><td>-250.7864</td><td>0.01</td><td>0.0</td><td>0.0</td><td>0.0</td><td>0.0</td><td>-5.746709</td><td>-5.511471</td><td>-5.382605</td><td>-4.278366</td><td>0.0</td><td>0.0</td><td>0.0</td><td>-1994.0</td><td>-1829.3</td><td>-4.0</td><td>0.0</td><td>0.0</td><td>0.0</td><td>1.0</td><td>1.0</td></tr><tr><td>&quot;25%&quot;</td><td>83302.0</td><td>null</td><td>5.0</td><td>100.0</td><td>2.93</td><td>111.01</td><td>100.0</td><td>35020.0</td><td>0.0</td><td>0.0182</td><td>7100.0</td><td>4.0</td><td>0.0</td><td>-31.3713</td><td>142.22</td><td>0.0</td><td>0.0</td><td>0.0</td><td>0.007596</td><td>-0.644377</td><td>-0.37811</td><td>-0.465259</td><td>-0.3838</td><td>0.466735</td><td>40.0</td><td>40.04</td><td>-25.0</td><td>-32.01</td><td>-0.57</td><td>89.0</td><td>2.0</td><td>1.0</td><td>6.0</td><td>2.0</td></tr><tr><td>&quot;50%&quot;</td><td>167108.0</td><td>null</td><td>5.0</td><td>219.0</td><td>3.43</td><td>151.38</td><td>219.0</td><td>69607.0</td><td>1.0</td><td>0.0379</td><td>13609.0</td><td>17.0</td><td>0.0</td><td>-20.5766</td><td>387.61</td><td>0.0</td><td>0.0</td><td>0.0</td><td>0.019333</td><td>0.041898</td><td>-0.220267</td><td>0.221822</td><td>0.016396</td><td>0.514696</td><td>63.33</td><td>71.45</td><td>17.701184</td><td>23.37</td><td>0.0</td><td>129.0</td><td>5.0</td><td>1.0</td><td>11.0</td><td>2.0</td></tr><tr><td>&quot;75%&quot;</td><td>249977.0</td><td>null</td><td>14.0</td><td>219.0</td><td>3.95</td><td>215.37</td><td>219.0</td><td>105179.0</td><td>1.0</td><td>0.138</td><td>21160.0</td><td>49.0</td><td>1.0</td><td>-13.4608</td><td>1516.76</td><td>1.0</td><td>0.0</td><td>0.0</td><td>0.054735</td><td>0.656159</td><td>0.063656</td><td>0.663191</td><td>0.356175</td><td>0.555416</td><td>103.0</td><td>118.56</td><td>50.094058</td><td>81.35</td><td>0.72</td><td>199.65</td><td>9.0</td><td>1.0</td><td>18.0</td><td>3.0</td></tr><tr><td>&quot;max&quot;</td><td>332787.0</td><td>null</td><td>34.0</td><td>231.0</td><td>5.0</td><td>2768.93</td><td>230.0</td><td>140821.0</td><td>1.0</td><td>1.0</td><td>28416.0</td><td>498.0</td><td>1.0</td><td>-2.4941</td><td>11692.98</td><td>1.0</td><td>1.0</td><td>1.0</td><td>9895.0</td><td>5.746709</td><td>6.002114</td><td>5.479458</td><td>4.065903</td><td>1.0</td><td>13162.08</td><td>1999.9</td><td>497.261251</td><td>2711.51</td><td>5.0</td><td>13162.08</td><td>36.0</td><td>1.0</td><td>35.0</td><td>6.0</td></tr></tbody></table></div>"
      ],
      "text/plain": [
       "shape: (9, 35)\n",
       "┌───────────┬───────────┬───────────┬───────────┬───┬───────────┬───────────┬───────────┬──────────┐\n",
       "│ statistic ┆ srch_id   ┆ date_time ┆ site_id   ┆ … ┆ promotion ┆ promotion ┆ price_ran ┆ star_ran │\n",
       "│ ---       ┆ ---       ┆ ---       ┆ ---       ┆   ┆ _count    ┆ _any      ┆ k         ┆ k        │\n",
       "│ str       ┆ f64       ┆ f64       ┆ f64       ┆   ┆ ---       ┆ ---       ┆ ---       ┆ ---      │\n",
       "│           ┆           ┆           ┆           ┆   ┆ f64       ┆ f64       ┆ f64       ┆ f64      │\n",
       "╞═══════════╪═══════════╪═══════════╪═══════════╪═══╪═══════════╪═══════════╪═══════════╪══════════╡\n",
       "│ count     ┆ 4.953797e ┆ 0.0       ┆ 4.953797e ┆ … ┆ 4.953797e ┆ 4.953797e ┆ 4.953797e ┆ 4.953797 │\n",
       "│           ┆ 6         ┆           ┆ 6         ┆   ┆ 6         ┆ 6         ┆ 6         ┆ e6       │\n",
       "│ null_coun ┆ 0.0       ┆ 4.953797e ┆ 0.0       ┆ … ┆ 0.0       ┆ 0.0       ┆ 0.0       ┆ 0.0      │\n",
       "│ t         ┆           ┆ 6         ┆           ┆   ┆           ┆           ┆           ┆          │\n",
       "│ mean      ┆ 166650.05 ┆ null      ┆ 9.979691  ┆ … ┆ 6.287903  ┆ 0.899962  ┆ 12.118226 ┆ 2.160134 │\n",
       "│           ┆ 0685      ┆           ┆           ┆   ┆           ┆           ┆           ┆          │\n",
       "│ std       ┆ 96152.186 ┆ null      ┆ 7.668162  ┆ … ┆ 5.904002  ┆ 0.300051  ┆ 7.403705  ┆ 0.861888 │\n",
       "│           ┆ 935       ┆           ┆           ┆   ┆           ┆           ┆           ┆          │\n",
       "│ min       ┆ 1.0       ┆ null      ┆ 1.0       ┆ … ┆ 0.0       ┆ 0.0       ┆ 1.0       ┆ 1.0      │\n",
       "│ 25%       ┆ 83302.0   ┆ null      ┆ 5.0       ┆ … ┆ 2.0       ┆ 1.0       ┆ 6.0       ┆ 2.0      │\n",
       "│ 50%       ┆ 167108.0  ┆ null      ┆ 5.0       ┆ … ┆ 5.0       ┆ 1.0       ┆ 11.0      ┆ 2.0      │\n",
       "│ 75%       ┆ 249977.0  ┆ null      ┆ 14.0      ┆ … ┆ 9.0       ┆ 1.0       ┆ 18.0      ┆ 3.0      │\n",
       "│ max       ┆ 332787.0  ┆ null      ┆ 34.0      ┆ … ┆ 36.0      ┆ 1.0       ┆ 35.0      ┆ 6.0      │\n",
       "└───────────┴───────────┴───────────┴───────────┴───┴───────────┴───────────┴───────────┴──────────┘"
      ]
     },
     "execution_count": 12,
     "metadata": {},
     "output_type": "execute_result"
    }
   ],
   "source": [
    "for col_name in engineered_data.columns:\n",
    "    if engineered_data[col_name].dtype == pl.Utf8:\n",
    "        engineered_data = engineered_data.with_columns(\n",
    "            engineered_data[col_name]\n",
    "            .str.replace(\"NULL\", \"NaN\") \n",
    "            .str.replace(\"N/A\", \"NaN\")   \n",
    "            .cast(pl.Float64)          \n",
    "            .alias(col_name)\n",
    "        )\n",
    "\n",
    "engineered_data.write_csv(engineered_filepath)\n",
    "engineered_data.describe()"
   ]
  }
 ],
 "metadata": {
  "kernelspec": {
   "display_name": "Python 3",
   "language": "python",
   "name": "python3"
  },
  "language_info": {
   "codemirror_mode": {
    "name": "ipython",
    "version": 3
   },
   "file_extension": ".py",
   "mimetype": "text/x-python",
   "name": "python",
   "nbconvert_exporter": "python",
   "pygments_lexer": "ipython3",
   "version": "3.11.4"
  }
 },
 "nbformat": 4,
 "nbformat_minor": 2
}
