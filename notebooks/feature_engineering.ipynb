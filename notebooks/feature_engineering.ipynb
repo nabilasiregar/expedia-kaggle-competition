{
 "cells": [
  {
   "cell_type": "code",
   "execution_count": 1,
   "metadata": {},
   "outputs": [],
   "source": [
    "import polars as pl\n",
    "import numpy as np\n",
    "import pandas as pd"
   ]
  },
  {
   "cell_type": "code",
   "execution_count": 3,
   "metadata": {},
   "outputs": [],
   "source": [
    "df = pl.read_csv('../data/raw/training_set_VU_DM.csv')"
   ]
  },
  {
   "cell_type": "markdown",
   "metadata": {},
   "source": [
    "## Creating hotel_quality feature"
   ]
  },
  {
   "cell_type": "code",
   "execution_count": 24,
   "metadata": {},
   "outputs": [],
   "source": [
    "# 1. Create binary indicators for historical data \n",
    "# to denote whether the historical booking data is available for a user.\n",
    "df = df.with_columns([\n",
    "    df['visitor_hist_starrating'].is_not_null().cast(pl.UInt8).alias('has_hist_starrating'),\n",
    "    df['visitor_hist_adr_usd'].is_not_null().cast(pl.UInt8).alias('has_hist_adr_usd')\n",
    "])\n",
    "\n",
    "# 2. Drop columns with more than 90% missing data\n",
    "for col in df.columns:\n",
    "    if df[col].is_null().sum() / df.height > 0.9:\n",
    "        df = df.drop(col)\n",
    "\n",
    "# 3. Normalize features within each 'srch_id' group\n",
    "features_to_normalize = ['prop_starrating', 'prop_location_score1', 'prop_location_score2', 'prop_review_score']\n",
    "for feature in features_to_normalize:\n",
    "    df = df.with_columns(\n",
    "        df[feature].map_elements(lambda x: None if x == \"NULL\" else x, return_dtype=pl.Float32)\n",
    "             .cast(pl.Float32)\n",
    "             .fill_null(0) \n",
    "             .alias(feature)\n",
    "    )\n",
    "\n",
    "for feature in features_to_normalize:\n",
    "    temp_mean_name = f'{feature}_mean_temp'\n",
    "    temp_std_name = f'{feature}_std_temp'\n",
    "    group_stats = df.group_by('srch_id').agg([\n",
    "        pl.col(feature).mean().alias(temp_mean_name),\n",
    "        pl.col(feature).std().alias(temp_std_name)\n",
    "    ])\n",
    "    df = df.join(group_stats, on='srch_id')\n",
    "\n",
    "    # Perform normalization and create new column\n",
    "    df = df.with_columns(\n",
    "        ((pl.col(feature) - pl.col(temp_mean_name)) / pl.col(temp_std_name))\n",
    "        .fill_nan(0)  # Handle division by zero or missing std dev\n",
    "        .alias(f'normalized_{feature}')\n",
    "    )\n",
    "\n",
    "    # Drop temporary columns to prevent duplicates\n",
    "    df = df.drop([temp_mean_name, temp_std_name])\n",
    "\n",
    "# 4. Engineer the 'hotel_quality' feature using a weighted sum of normalized features\n",
    "weights = {\n",
    "    'normalized_prop_starrating': 0.2,\n",
    "    'normalized_prop_location_score1': 0.25,\n",
    "    'normalized_prop_location_score2': 0.3,\n",
    "    'normalized_prop_review_score': 0.25\n",
    "}\n",
    "\n",
    "weighted_features = [pl.col(feature) * weight for feature, weight in weights.items()]\n",
    "df = df.with_columns(\n",
    "    sum(weighted_features).alias('hotel_quality')\n",
    ")\n",
    "\n",
    "# 5. Normalize the 'hotel_quality' score to range between 0 and 1\n",
    "df = df.with_columns(\n",
    "    ((df['hotel_quality'] - df['hotel_quality'].min()) / (df['hotel_quality'].max() - df['hotel_quality'].min())).alias('normalized_hotel_quality')\n",
    ")\n",
    "\n",
    "df.write_csv('../data/preprocessed/engineered_training_set.csv')"
   ]
  }
 ],
 "metadata": {
  "kernelspec": {
   "display_name": "Python 3",
   "language": "python",
   "name": "python3"
  },
  "language_info": {
   "codemirror_mode": {
    "name": "ipython",
    "version": 3
   },
   "file_extension": ".py",
   "mimetype": "text/x-python",
   "name": "python",
   "nbconvert_exporter": "python",
   "pygments_lexer": "ipython3",
   "version": "3.11.4"
  }
 },
 "nbformat": 4,
 "nbformat_minor": 2
}
