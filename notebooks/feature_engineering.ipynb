{
 "cells": [
  {
   "cell_type": "code",
   "execution_count": 1,
   "metadata": {},
   "outputs": [],
   "source": [
    "import polars as pl\n",
    "import numpy as np\n",
    "import pandas as pd"
   ]
  },
  {
   "cell_type": "code",
   "execution_count": 2,
   "metadata": {},
   "outputs": [],
   "source": [
    "# df = pl.read_csv('../data/raw/training_set_VU_DM.csv')\n",
    "df = pl.read_csv('../data/raw/test_set_VU_DM.csv')\n",
    "\n",
    "# Handling outliers in price_usd based on maximum value of visitor_hist_adr_usd\n",
    "# df = df.filter(pl.col('price_usd') < 2000)\n",
    "\n",
    "# Create binary indicators for historical data to denote whether the historical booking data is available for a user.\n",
    "df = df.with_columns([\n",
    "    df['visitor_hist_starrating'].is_not_null().cast(pl.UInt8).alias('has_hist_starrating'),\n",
    "    df['visitor_hist_adr_usd'].is_not_null().cast(pl.UInt8).alias('has_hist_adr_usd')\n",
    "])\n",
    "\n",
    "# Drop columns with more than 90% missing data\n",
    "for col in df.columns:\n",
    "    if df[col].is_null().sum() / df.height > 0.9:\n",
    "        df = df.drop(col)"
   ]
  },
  {
   "cell_type": "markdown",
   "metadata": {},
   "source": [
    "## Creating hotel_quality feature"
   ]
  },
  {
   "cell_type": "code",
   "execution_count": 3,
   "metadata": {},
   "outputs": [],
   "source": [
    "# Create a score difference between prop_location_score2 and prop_location_score1\n",
    "df = df.with_columns([\n",
    "    df[\"prop_location_score2\"].map_elements(lambda x: None if x == \"NULL\" else x, return_dtype=pl.Float64).cast(pl.Float64).fill_nan(0).alias(\"prop_location_score2\"),\n",
    "    df[\"prop_location_score1\"].map_elements(lambda x: None if x == \"NULL\" else x, return_dtype=pl.Float64).cast(pl.Float64).fill_nan(0).alias(\"prop_location_score1\")\n",
    "])\n",
    "df = df.with_columns(\n",
    "    ((df[\"prop_location_score2\"] + 0.0001) / (df[\"prop_location_score1\"] + 0.0001)).alias(\"score1d2\")\n",
    ")\n",
    "\n",
    "# 3. Normalize features within each 'srch_id' group\n",
    "features_to_normalize = ['prop_starrating', 'score1d2', 'prop_review_score']\n",
    "for feature in features_to_normalize:\n",
    "    df = df.with_columns(\n",
    "        df[feature].map_elements(lambda x: None if x == \"NULL\" else x, return_dtype=pl.Float32)\n",
    "             .cast(pl.Float32)\n",
    "             .fill_null(0) \n",
    "             .alias(feature)\n",
    "    )\n",
    "\n",
    "for feature in features_to_normalize:\n",
    "    temp_mean_name = f'{feature}_mean_temp'\n",
    "    temp_std_name = f'{feature}_std_temp'\n",
    "    group_stats = df.group_by('srch_id').agg([\n",
    "        pl.col(feature).mean().alias(temp_mean_name),\n",
    "        pl.col(feature).std().alias(temp_std_name)\n",
    "    ])\n",
    "    df = df.join(group_stats, on='srch_id')\n",
    "\n",
    "    # Perform normalization and create new column\n",
    "    df = df.with_columns(\n",
    "        ((pl.col(feature) - pl.col(temp_mean_name)) / pl.col(temp_std_name))\n",
    "        .fill_nan(0)  # Handle division by zero or missing std dev\n",
    "        .alias(f'normalized_{feature}')\n",
    "    )\n",
    "\n",
    "    # Drop temporary columns to prevent duplicates\n",
    "    df = df.drop([temp_mean_name, temp_std_name])\n",
    "\n",
    "# 4. Engineer the 'hotel_quality' feature using a weighted sum of normalized features\n",
    "weights = {\n",
    "    'normalized_prop_starrating': 0.3,\n",
    "    'normalized_score1d2': 0.4,\n",
    "    'normalized_prop_review_score': 0.3\n",
    "}\n",
    "\n",
    "weighted_features = [pl.col(feature) * weight for feature, weight in weights.items()]\n",
    "df = df.with_columns(\n",
    "    sum(weighted_features).alias('hotel_quality')\n",
    ")\n",
    "\n",
    "# 5. Normalize the 'hotel_quality' score to range between 0 and 1\n",
    "df = df.with_columns(\n",
    "    ((df['hotel_quality'] - df['hotel_quality'].min()) / (df['hotel_quality'].max() - df['hotel_quality'].min())).alias('normalized_hotel_quality')\n",
    ")"
   ]
  },
  {
   "cell_type": "markdown",
   "metadata": {},
   "source": [
    "## Create price features"
   ]
  },
  {
   "cell_type": "code",
   "execution_count": 4,
   "metadata": {},
   "outputs": [],
   "source": [
    "# 1. Price per Person\n",
    "df = df.with_columns(\n",
    "    ((df[\"price_usd\"] * df[\"srch_room_count\"]) / \n",
    "     (df[\"srch_adults_count\"] + df[\"srch_children_count\"]).fill_null(1)).alias(\"price_per_person\")\n",
    ")\n",
    "\n",
    "# 2. Average Price per Day\n",
    "df = df.with_columns(\n",
    "    (df[\"price_usd\"] / df[\"srch_length_of_stay\"]).alias(\"avg_price_per_day\")\n",
    ")\n",
    "\n",
    "# 3. UMP (User Margin Price)\n",
    "df = df.with_columns(\n",
    "    (pl.col(\"prop_log_historical_price\").exp() - pl.col(\"price_usd\")).alias(\"ump\")\n",
    ")\n",
    "\n",
    "df = df.with_columns([\n",
    "    pl.col(\"visitor_hist_adr_usd\").map_elements(lambda x: None if x in [\"NULL\", \"\"] else float(x), return_dtype=pl.Float64).alias(\"visitor_hist_adr_usd\"),\n",
    "    pl.col(\"price_usd\").map_elements(lambda x: None if x in [\"NULL\", \"\"] else float(x), return_dtype=pl.Float64).alias(\"price_usd\"),\n",
    "    pl.col(\"visitor_hist_starrating\").map_elements(lambda x: None if x in [\"NULL\", \"\"] else float(x), return_dtype=pl.Float64).alias(\"visitor_hist_starrating\"),\n",
    "    pl.col(\"prop_starrating\").map_elements(lambda x: None if x in [\"NULL\", \"\"] else float(x), return_dtype=pl.Float64).alias(\"prop_starrating\"),\n",
    "    pl.col(\"srch_room_count\").map_elements(lambda x: None if x in [\"NULL\", \"\"] else float(x), return_dtype=pl.Float64).alias(\"srch_room_count\"),\n",
    "    pl.col(\"srch_query_affinity_score\").map_elements(lambda x: None if x in [\"NULL\", \"\"] else float(x), return_dtype=pl.Float64).alias(\"srch_query_affinity_score\")\n",
    "])\n",
    "\n",
    "df = df.with_columns([\n",
    "    # 4. Price Difference\n",
    "    pl.when(pl.col(\"visitor_hist_adr_usd\").is_null())\n",
    "       .then(None)\n",
    "       .otherwise(pl.col(\"visitor_hist_adr_usd\") - pl.col(\"price_usd\")).alias(\"price_diff\"),\n",
    "    # 5. Star Rating Difference\n",
    "    pl.when(pl.col(\"visitor_hist_starrating\").is_null())\n",
    "       .then(None)\n",
    "       .otherwise(pl.col(\"visitor_hist_starrating\") - pl.col(\"prop_starrating\")).alias(\"starrating_diff\")\n",
    "])\n",
    "\n",
    "# 6. Total Price\n",
    "df = df.with_columns(\n",
    "    (df[\"price_usd\"] * df[\"srch_room_count\"]).alias(\"total_price\")\n",
    ")\n",
    "\n",
    "# 7. Score2MA\n",
    "df = df.with_columns(\n",
    "    (df[\"prop_location_score2\"] * df[\"srch_query_affinity_score\"]).alias(\"score2ma\")\n",
    ")"
   ]
  },
  {
   "cell_type": "markdown",
   "metadata": {},
   "source": [
    "## Promotion feature"
   ]
  },
  {
   "cell_type": "code",
   "execution_count": 5,
   "metadata": {},
   "outputs": [],
   "source": [
    "# Count how many promotions are flagged within each search\n",
    "promotion_agg = df.group_by(\"srch_id\").agg([\n",
    "    pl.col(\"promotion_flag\").sum().alias(\"promotion_count\")\n",
    "])\n",
    "df = df.join(promotion_agg, on=\"srch_id\", how=\"left\")\n",
    "\n",
    "# Check if any property was on promotion per srch_id\n",
    "promotion_any = df.group_by(\"srch_id\").agg([\n",
    "    (pl.col(\"promotion_flag\").max() > 0).cast(pl.UInt8).alias(\"promotion_any\")\n",
    "])\n",
    "\n",
    "df = df.join(promotion_any, on=\"srch_id\", how=\"left\")"
   ]
  },
  {
   "cell_type": "code",
   "execution_count": 6,
   "metadata": {},
   "outputs": [],
   "source": [
    "columns_to_drop = [\n",
    "    'prop_location_score2',\n",
    "    'prop_location_score1',\n",
    "    'prop_starrating', \n",
    "    'prop_review_score',\n",
    "    'price_usd',\n",
    "    'srch_room_count',\n",
    "    'prop_log_historical_price',\n",
    "    'srch_length_of_stay',\n",
    "    'srch_children_count',\n",
    "    'srch_adults_count',\n",
    "    'room_count',\n",
    "    'srch_query_affinity_score',\n",
    "    'promotion_flag'\n",
    "]\n",
    "\n",
    "df = df.drop(columns_to_drop)\n",
    "\n",
    "drop_competitors = [col for col in df.columns if col.startswith(\"comp\") and \n",
    "                   (\"rate\" in col or \"inv\" in col or \"percent_diff\" in col)]\n",
    "\n",
    "df = df.drop(drop_competitors)\n",
    "\n",
    "def replace_with_nan(value):\n",
    "    try:\n",
    "        return float(value)\n",
    "    except ValueError:\n",
    "        return None\n",
    "\n",
    "for col in df.columns:\n",
    "    if df[col].dtype == pl.Utf8:\n",
    "        # Convert string columns, replacing non-convertible strings with NaN\n",
    "        df = df.with_columns(\n",
    "            df[col].map_elements(replace_with_nan, return_dtype=pl.Float64).alias(col)\n",
    "        )\n",
    "    elif df[col].dtype == pl.Float64:\n",
    "        # For numeric columns, just ensure that they do not contain invalid strings\n",
    "        df = df.with_columns(\n",
    "            df[col].map_elements(lambda x: x if isinstance(x, float) else None, return_dtype=pl.Float64).alias(col)\n",
    "        )\n",
    "\n",
    "\n",
    "# df.write_csv('../data/preprocessed/engineered_training_set.csv')\n",
    "df.write_csv('../data/preprocessed/engineered_test_set.csv')"
   ]
  },
  {
   "cell_type": "code",
   "execution_count": 7,
   "metadata": {},
   "outputs": [
    {
     "data": {
      "text/html": [
       "<div><style>\n",
       ".dataframe > thead > tr,\n",
       ".dataframe > tbody > tr {\n",
       "  text-align: right;\n",
       "  white-space: pre-wrap;\n",
       "}\n",
       "</style>\n",
       "<small>shape: (9, 32)</small><table border=\"1\" class=\"dataframe\"><thead><tr><th>statistic</th><th>srch_id</th><th>date_time</th><th>site_id</th><th>visitor_location_country_id</th><th>visitor_hist_starrating</th><th>visitor_hist_adr_usd</th><th>prop_country_id</th><th>prop_id</th><th>prop_brand_bool</th><th>srch_destination_id</th><th>srch_booking_window</th><th>srch_saturday_night_bool</th><th>orig_destination_distance</th><th>random_bool</th><th>has_hist_starrating</th><th>has_hist_adr_usd</th><th>score1d2</th><th>normalized_prop_starrating</th><th>normalized_score1d2</th><th>normalized_prop_review_score</th><th>hotel_quality</th><th>normalized_hotel_quality</th><th>price_per_person</th><th>avg_price_per_day</th><th>ump</th><th>price_diff</th><th>starrating_diff</th><th>total_price</th><th>score2ma</th><th>promotion_count</th><th>promotion_any</th></tr><tr><td>str</td><td>f64</td><td>str</td><td>f64</td><td>f64</td><td>str</td><td>str</td><td>f64</td><td>f64</td><td>f64</td><td>f64</td><td>f64</td><td>f64</td><td>f64</td><td>f64</td><td>f64</td><td>f64</td><td>f64</td><td>f64</td><td>f64</td><td>f64</td><td>f64</td><td>f64</td><td>f64</td><td>f64</td><td>f64</td><td>str</td><td>str</td><td>f64</td><td>str</td><td>f64</td><td>f64</td></tr></thead><tbody><tr><td>&quot;count&quot;</td><td>4.959183e6</td><td>&quot;0&quot;</td><td>4.959183e6</td><td>4.959183e6</td><td>&quot;253431&quot;</td><td>&quot;254624&quot;</td><td>4.959183e6</td><td>4.959183e6</td><td>4.959183e6</td><td>4.959183e6</td><td>4.959183e6</td><td>4.959183e6</td><td>3.350504e6</td><td>4.959183e6</td><td>4.959183e6</td><td>4.959183e6</td><td>4.959183e6</td><td>4.959183e6</td><td>4.959183e6</td><td>4.959183e6</td><td>4.959183e6</td><td>4.959183e6</td><td>4.959183e6</td><td>4.959183e6</td><td>4.959183e6</td><td>&quot;254624&quot;</td><td>&quot;253431&quot;</td><td>4.959183e6</td><td>&quot;0&quot;</td><td>4.959183e6</td><td>4.959183e6</td></tr><tr><td>&quot;null_count&quot;</td><td>0.0</td><td>&quot;4959183&quot;</td><td>0.0</td><td>0.0</td><td>&quot;4705752&quot;</td><td>&quot;4704559&quot;</td><td>0.0</td><td>0.0</td><td>0.0</td><td>0.0</td><td>0.0</td><td>0.0</td><td>1.608679e6</td><td>0.0</td><td>0.0</td><td>0.0</td><td>0.0</td><td>0.0</td><td>0.0</td><td>0.0</td><td>0.0</td><td>0.0</td><td>0.0</td><td>0.0</td><td>0.0</td><td>&quot;4704559&quot;</td><td>&quot;4705752&quot;</td><td>0.0</td><td>&quot;4959183&quot;</td><td>0.0</td><td>0.0</td></tr><tr><td>&quot;mean&quot;</td><td>166646.023925</td><td>null</td><td>9.979214</td><td>175.250352</td><td>null</td><td>null</td><td>173.837066</td><td>70081.112228</td><td>0.633909</td><td>14069.670932</td><td>37.773391</td><td>0.4983</td><td>1312.801653</td><td>0.296919</td><td>1.0</td><td>1.0</td><td>0.0</td><td>1.5765e-9</td><td>0.0</td><td>6.2023e-9</td><td>2.3341e-9</td><td>0.557897</td><td>120.166354</td><td>132.812844</td><td>-77.031889</td><td>null</td><td>null</td><td>255.960239</td><td>null</td><td>6.291075</td><td>0.900008</td></tr><tr><td>&quot;std&quot;</td><td>96149.918406</td><td>null</td><td>7.667722</td><td>65.902836</td><td>null</td><td>null</td><td>68.350058</td><td>40613.628746</td><td>0.481735</td><td>8118.397545</td><td>52.221874</td><td>0.499997</td><td>2036.578173</td><td>0.456901</td><td>0.0</td><td>0.0</td><td>0.0</td><td>0.970889</td><td>0.0</td><td>0.979469</td><td>0.484133</td><td>0.089027</td><td>5281.944137</td><td>6299.901568</td><td>12463.162002</td><td>null</td><td>null</td><td>14121.362027</td><td>null</td><td>5.904977</td><td>0.29999</td></tr><tr><td>&quot;min&quot;</td><td>1.0</td><td>null</td><td>1.0</td><td>1.0</td><td>&quot;1.0&quot;</td><td>&quot;0.0&quot;</td><td>1.0</td><td>1.0</td><td>0.0</td><td>2.0</td><td>0.0</td><td>0.0</td><td>0.01</td><td>0.0</td><td>1.0</td><td>1.0</td><td>0.0</td><td>-5.747049</td><td>0.0</td><td>-5.382674</td><td>-3.033857</td><td>0.0</td><td>0.0</td><td>0.0</td><td>-9.6610e6</td><td>&quot;-0.009999999999990905&quot;</td><td>&quot;-0.009999999999999787&quot;</td><td>0.0</td><td>null</td><td>0.0</td><td>0.0</td></tr><tr><td>&quot;25%&quot;</td><td>83312.0</td><td>null</td><td>5.0</td><td>100.0</td><td>null</td><td>null</td><td>100.0</td><td>35021.0</td><td>0.0</td><td>7100.0</td><td>4.0</td><td>0.0</td><td>142.28</td><td>0.0</td><td>1.0</td><td>1.0</td><td>0.0</td><td>-0.644389</td><td>0.0</td><td>-0.465098</td><td>-0.2947</td><td>0.5037048</td><td>40.0</td><td>40.12</td><td>-25.367592</td><td>null</td><td>null</td><td>89.0</td><td>null</td><td>2.0</td><td>1.0</td></tr><tr><td>&quot;50%&quot;</td><td>167095.0</td><td>null</td><td>5.0</td><td>219.0</td><td>null</td><td>null</td><td>219.0</td><td>69607.0</td><td>1.0</td><td>13609.0</td><td>17.0</td><td>0.0</td><td>387.85</td><td>0.0</td><td>1.0</td><td>1.0</td><td>0.0</td><td>0.042003</td><td>0.0</td><td>0.221939</td><td>0.057866</td><td>0.568538</td><td>63.425</td><td>71.5</td><td>17.651304</td><td>null</td><td>null</td><td>129.0</td><td>null</td><td>5.0</td><td>1.0</td></tr><tr><td>&quot;75%&quot;</td><td>249966.0</td><td>null</td><td>14.0</td><td>219.0</td><td>null</td><td>null</td><td>219.0</td><td>105179.0</td><td>1.0</td><td>21160.0</td><td>49.0</td><td>1.0</td><td>1517.56</td><td>1.0</td><td>1.0</td><td>1.0</td><td>0.0</td><td>0.6561673</td><td>0.0</td><td>0.663139</td><td>0.344956</td><td>0.6213313</td><td>103.21</td><td>118.95</td><td>50.024202</td><td>null</td><td>null</td><td>200.0</td><td>null</td><td>9.0</td><td>1.0</td></tr><tr><td>&quot;max&quot;</td><td>332787.0</td><td>null</td><td>34.0</td><td>231.0</td><td>&quot;5.0&quot;</td><td>&quot;99.98&quot;</td><td>230.0</td><td>140821.0</td><td>1.0</td><td>28416.0</td><td>498.0</td><td>1.0</td><td>11692.98</td><td>1.0</td><td>1.0</td><td>1.0</td><td>0.0</td><td>5.7470493</td><td>0.0</td><td>5.4800777</td><td>2.4041638</td><td>1.0</td><td>3.2204e6</td><td>4.83067e6</td><td>497.261251</td><td>&quot;999.88&quot;</td><td>&quot;5.0&quot;</td><td>9.66134e6</td><td>null</td><td>36.0</td><td>1.0</td></tr></tbody></table></div>"
      ],
      "text/plain": [
       "shape: (9, 32)\n",
       "┌───────────┬───────────┬───────────┬───────────┬───┬───────────┬──────────┬───────────┬───────────┐\n",
       "│ statistic ┆ srch_id   ┆ date_time ┆ site_id   ┆ … ┆ total_pri ┆ score2ma ┆ promotion ┆ promotion │\n",
       "│ ---       ┆ ---       ┆ ---       ┆ ---       ┆   ┆ ce        ┆ ---      ┆ _count    ┆ _any      │\n",
       "│ str       ┆ f64       ┆ str       ┆ f64       ┆   ┆ ---       ┆ str      ┆ ---       ┆ ---       │\n",
       "│           ┆           ┆           ┆           ┆   ┆ f64       ┆          ┆ f64       ┆ f64       │\n",
       "╞═══════════╪═══════════╪═══════════╪═══════════╪═══╪═══════════╪══════════╪═══════════╪═══════════╡\n",
       "│ count     ┆ 4.959183e ┆ 0         ┆ 4.959183e ┆ … ┆ 4.959183e ┆ 0        ┆ 4.959183e ┆ 4.959183e │\n",
       "│           ┆ 6         ┆           ┆ 6         ┆   ┆ 6         ┆          ┆ 6         ┆ 6         │\n",
       "│ null_coun ┆ 0.0       ┆ 4959183   ┆ 0.0       ┆ … ┆ 0.0       ┆ 4959183  ┆ 0.0       ┆ 0.0       │\n",
       "│ t         ┆           ┆           ┆           ┆   ┆           ┆          ┆           ┆           │\n",
       "│ mean      ┆ 166646.02 ┆ null      ┆ 9.979214  ┆ … ┆ 255.96023 ┆ null     ┆ 6.291075  ┆ 0.900008  │\n",
       "│           ┆ 3925      ┆           ┆           ┆   ┆ 9         ┆          ┆           ┆           │\n",
       "│ std       ┆ 96149.918 ┆ null      ┆ 7.667722  ┆ … ┆ 14121.362 ┆ null     ┆ 5.904977  ┆ 0.29999   │\n",
       "│           ┆ 406       ┆           ┆           ┆   ┆ 027       ┆          ┆           ┆           │\n",
       "│ min       ┆ 1.0       ┆ null      ┆ 1.0       ┆ … ┆ 0.0       ┆ null     ┆ 0.0       ┆ 0.0       │\n",
       "│ 25%       ┆ 83312.0   ┆ null      ┆ 5.0       ┆ … ┆ 89.0      ┆ null     ┆ 2.0       ┆ 1.0       │\n",
       "│ 50%       ┆ 167095.0  ┆ null      ┆ 5.0       ┆ … ┆ 129.0     ┆ null     ┆ 5.0       ┆ 1.0       │\n",
       "│ 75%       ┆ 249966.0  ┆ null      ┆ 14.0      ┆ … ┆ 200.0     ┆ null     ┆ 9.0       ┆ 1.0       │\n",
       "│ max       ┆ 332787.0  ┆ null      ┆ 34.0      ┆ … ┆ 9.66134e6 ┆ null     ┆ 36.0      ┆ 1.0       │\n",
       "└───────────┴───────────┴───────────┴───────────┴───┴───────────┴──────────┴───────────┴───────────┘"
      ]
     },
     "execution_count": 7,
     "metadata": {},
     "output_type": "execute_result"
    }
   ],
   "source": [
    "engineered_data = pl.read_csv('../data/preprocessed/engineered_test_set.csv')\n",
    "engineered_data.describe()"
   ]
  },
  {
   "cell_type": "markdown",
   "metadata": {},
   "source": [
    "## Convert str datatype to float"
   ]
  },
  {
   "cell_type": "code",
   "execution_count": 8,
   "metadata": {},
   "outputs": [
    {
     "data": {
      "text/html": [
       "<div><style>\n",
       ".dataframe > thead > tr,\n",
       ".dataframe > tbody > tr {\n",
       "  text-align: right;\n",
       "  white-space: pre-wrap;\n",
       "}\n",
       "</style>\n",
       "<small>shape: (9, 32)</small><table border=\"1\" class=\"dataframe\"><thead><tr><th>statistic</th><th>srch_id</th><th>date_time</th><th>site_id</th><th>visitor_location_country_id</th><th>visitor_hist_starrating</th><th>visitor_hist_adr_usd</th><th>prop_country_id</th><th>prop_id</th><th>prop_brand_bool</th><th>srch_destination_id</th><th>srch_booking_window</th><th>srch_saturday_night_bool</th><th>orig_destination_distance</th><th>random_bool</th><th>has_hist_starrating</th><th>has_hist_adr_usd</th><th>score1d2</th><th>normalized_prop_starrating</th><th>normalized_score1d2</th><th>normalized_prop_review_score</th><th>hotel_quality</th><th>normalized_hotel_quality</th><th>price_per_person</th><th>avg_price_per_day</th><th>ump</th><th>price_diff</th><th>starrating_diff</th><th>total_price</th><th>score2ma</th><th>promotion_count</th><th>promotion_any</th></tr><tr><td>str</td><td>f64</td><td>f64</td><td>f64</td><td>f64</td><td>f64</td><td>f64</td><td>f64</td><td>f64</td><td>f64</td><td>f64</td><td>f64</td><td>f64</td><td>f64</td><td>f64</td><td>f64</td><td>f64</td><td>f64</td><td>f64</td><td>f64</td><td>f64</td><td>f64</td><td>f64</td><td>f64</td><td>f64</td><td>f64</td><td>f64</td><td>f64</td><td>f64</td><td>f64</td><td>f64</td><td>f64</td></tr></thead><tbody><tr><td>&quot;count&quot;</td><td>4.959183e6</td><td>0.0</td><td>4.959183e6</td><td>4.959183e6</td><td>253431.0</td><td>254624.0</td><td>4.959183e6</td><td>4.959183e6</td><td>4.959183e6</td><td>4.959183e6</td><td>4.959183e6</td><td>4.959183e6</td><td>3.350504e6</td><td>4.959183e6</td><td>4.959183e6</td><td>4.959183e6</td><td>4.959183e6</td><td>4.959183e6</td><td>4.959183e6</td><td>4.959183e6</td><td>4.959183e6</td><td>4.959183e6</td><td>4.959183e6</td><td>4.959183e6</td><td>4.959183e6</td><td>254624.0</td><td>253431.0</td><td>4.959183e6</td><td>0.0</td><td>4.959183e6</td><td>4.959183e6</td></tr><tr><td>&quot;null_count&quot;</td><td>0.0</td><td>4.959183e6</td><td>0.0</td><td>0.0</td><td>4.705752e6</td><td>4.704559e6</td><td>0.0</td><td>0.0</td><td>0.0</td><td>0.0</td><td>0.0</td><td>0.0</td><td>1.608679e6</td><td>0.0</td><td>0.0</td><td>0.0</td><td>0.0</td><td>0.0</td><td>0.0</td><td>0.0</td><td>0.0</td><td>0.0</td><td>0.0</td><td>0.0</td><td>0.0</td><td>4.704559e6</td><td>4.705752e6</td><td>0.0</td><td>4.959183e6</td><td>0.0</td><td>0.0</td></tr><tr><td>&quot;mean&quot;</td><td>166646.023925</td><td>null</td><td>9.979214</td><td>175.250352</td><td>3.374933</td><td>177.15073</td><td>173.837066</td><td>70081.112228</td><td>0.633909</td><td>14069.670932</td><td>37.773391</td><td>0.4983</td><td>1312.801653</td><td>0.296919</td><td>1.0</td><td>1.0</td><td>0.0</td><td>1.5765e-9</td><td>0.0</td><td>6.2023e-9</td><td>2.3341e-9</td><td>0.557897</td><td>120.166354</td><td>132.812844</td><td>-77.031889</td><td>22.872424</td><td>0.114207</td><td>255.960239</td><td>null</td><td>6.291075</td><td>0.900008</td></tr><tr><td>&quot;std&quot;</td><td>96149.918406</td><td>null</td><td>7.667722</td><td>65.902836</td><td>0.69192</td><td>109.592336</td><td>68.350058</td><td>40613.628746</td><td>0.481735</td><td>8118.397545</td><td>52.221874</td><td>0.499997</td><td>2036.578173</td><td>0.456901</td><td>0.0</td><td>0.0</td><td>0.0</td><td>0.970889</td><td>0.0</td><td>0.979469</td><td>0.484133</td><td>0.089027</td><td>5281.944137</td><td>6299.901568</td><td>12463.162002</td><td>154.52387</td><td>1.107724</td><td>14121.362027</td><td>null</td><td>5.904977</td><td>0.29999</td></tr><tr><td>&quot;min&quot;</td><td>1.0</td><td>null</td><td>1.0</td><td>1.0</td><td>1.0</td><td>0.0</td><td>1.0</td><td>1.0</td><td>0.0</td><td>2.0</td><td>0.0</td><td>0.0</td><td>0.01</td><td>0.0</td><td>1.0</td><td>1.0</td><td>0.0</td><td>-5.747049</td><td>0.0</td><td>-5.382674</td><td>-3.033857</td><td>0.0</td><td>0.0</td><td>0.0</td><td>-9.6610e6</td><td>-13946.72</td><td>-4.0</td><td>0.0</td><td>null</td><td>0.0</td><td>0.0</td></tr><tr><td>&quot;25%&quot;</td><td>83312.0</td><td>null</td><td>5.0</td><td>100.0</td><td>2.93</td><td>111.01</td><td>100.0</td><td>35021.0</td><td>0.0</td><td>7100.0</td><td>4.0</td><td>0.0</td><td>142.28</td><td>0.0</td><td>1.0</td><td>1.0</td><td>0.0</td><td>-0.644389</td><td>0.0</td><td>-0.465098</td><td>-0.2947</td><td>0.5037048</td><td>40.0</td><td>40.12</td><td>-25.367592</td><td>-32.09</td><td>-0.57</td><td>89.0</td><td>null</td><td>2.0</td><td>1.0</td></tr><tr><td>&quot;50%&quot;</td><td>167095.0</td><td>null</td><td>5.0</td><td>219.0</td><td>3.43</td><td>151.39</td><td>219.0</td><td>69607.0</td><td>1.0</td><td>13609.0</td><td>17.0</td><td>0.0</td><td>387.85</td><td>0.0</td><td>1.0</td><td>1.0</td><td>0.0</td><td>0.042003</td><td>0.0</td><td>0.221939</td><td>0.057866</td><td>0.568538</td><td>63.425</td><td>71.5</td><td>17.651304</td><td>23.34</td><td>0.0</td><td>129.0</td><td>null</td><td>5.0</td><td>1.0</td></tr><tr><td>&quot;75%&quot;</td><td>249966.0</td><td>null</td><td>14.0</td><td>219.0</td><td>3.95</td><td>215.38</td><td>219.0</td><td>105179.0</td><td>1.0</td><td>21160.0</td><td>49.0</td><td>1.0</td><td>1517.56</td><td>1.0</td><td>1.0</td><td>1.0</td><td>0.0</td><td>0.6561673</td><td>0.0</td><td>0.663139</td><td>0.344956</td><td>0.6213313</td><td>103.21</td><td>118.95</td><td>50.024202</td><td>81.32</td><td>0.72</td><td>200.0</td><td>null</td><td>9.0</td><td>1.0</td></tr><tr><td>&quot;max&quot;</td><td>332787.0</td><td>null</td><td>34.0</td><td>231.0</td><td>5.0</td><td>2768.93</td><td>230.0</td><td>140821.0</td><td>1.0</td><td>28416.0</td><td>498.0</td><td>1.0</td><td>11692.98</td><td>1.0</td><td>1.0</td><td>1.0</td><td>0.0</td><td>5.7470493</td><td>0.0</td><td>5.4800777</td><td>2.4041638</td><td>1.0</td><td>3.2204e6</td><td>4.83067e6</td><td>497.261251</td><td>2711.51</td><td>5.0</td><td>9.66134e6</td><td>null</td><td>36.0</td><td>1.0</td></tr></tbody></table></div>"
      ],
      "text/plain": [
       "shape: (9, 32)\n",
       "┌───────────┬───────────┬───────────┬───────────┬───┬───────────┬───────────┬───────────┬──────────┐\n",
       "│ statistic ┆ srch_id   ┆ date_time ┆ site_id   ┆ … ┆ total_pri ┆ score2ma  ┆ promotion ┆ promotio │\n",
       "│ ---       ┆ ---       ┆ ---       ┆ ---       ┆   ┆ ce        ┆ ---       ┆ _count    ┆ n_any    │\n",
       "│ str       ┆ f64       ┆ f64       ┆ f64       ┆   ┆ ---       ┆ f64       ┆ ---       ┆ ---      │\n",
       "│           ┆           ┆           ┆           ┆   ┆ f64       ┆           ┆ f64       ┆ f64      │\n",
       "╞═══════════╪═══════════╪═══════════╪═══════════╪═══╪═══════════╪═══════════╪═══════════╪══════════╡\n",
       "│ count     ┆ 4.959183e ┆ 0.0       ┆ 4.959183e ┆ … ┆ 4.959183e ┆ 0.0       ┆ 4.959183e ┆ 4.959183 │\n",
       "│           ┆ 6         ┆           ┆ 6         ┆   ┆ 6         ┆           ┆ 6         ┆ e6       │\n",
       "│ null_coun ┆ 0.0       ┆ 4.959183e ┆ 0.0       ┆ … ┆ 0.0       ┆ 4.959183e ┆ 0.0       ┆ 0.0      │\n",
       "│ t         ┆           ┆ 6         ┆           ┆   ┆           ┆ 6         ┆           ┆          │\n",
       "│ mean      ┆ 166646.02 ┆ null      ┆ 9.979214  ┆ … ┆ 255.96023 ┆ null      ┆ 6.291075  ┆ 0.900008 │\n",
       "│           ┆ 3925      ┆           ┆           ┆   ┆ 9         ┆           ┆           ┆          │\n",
       "│ std       ┆ 96149.918 ┆ null      ┆ 7.667722  ┆ … ┆ 14121.362 ┆ null      ┆ 5.904977  ┆ 0.29999  │\n",
       "│           ┆ 406       ┆           ┆           ┆   ┆ 027       ┆           ┆           ┆          │\n",
       "│ min       ┆ 1.0       ┆ null      ┆ 1.0       ┆ … ┆ 0.0       ┆ null      ┆ 0.0       ┆ 0.0      │\n",
       "│ 25%       ┆ 83312.0   ┆ null      ┆ 5.0       ┆ … ┆ 89.0      ┆ null      ┆ 2.0       ┆ 1.0      │\n",
       "│ 50%       ┆ 167095.0  ┆ null      ┆ 5.0       ┆ … ┆ 129.0     ┆ null      ┆ 5.0       ┆ 1.0      │\n",
       "│ 75%       ┆ 249966.0  ┆ null      ┆ 14.0      ┆ … ┆ 200.0     ┆ null      ┆ 9.0       ┆ 1.0      │\n",
       "│ max       ┆ 332787.0  ┆ null      ┆ 34.0      ┆ … ┆ 9.66134e6 ┆ null      ┆ 36.0      ┆ 1.0      │\n",
       "└───────────┴───────────┴───────────┴───────────┴───┴───────────┴───────────┴───────────┴──────────┘"
      ]
     },
     "execution_count": 8,
     "metadata": {},
     "output_type": "execute_result"
    }
   ],
   "source": [
    "for col_name in engineered_data.columns:\n",
    "    if engineered_data[col_name].dtype == pl.Utf8:\n",
    "        engineered_data = engineered_data.with_columns(\n",
    "            engineered_data[col_name]\n",
    "            .str.replace(\"NULL\", \"NaN\") \n",
    "            .str.replace(\"N/A\", \"NaN\")   \n",
    "            .cast(pl.Float64)          \n",
    "            .alias(col_name)\n",
    "        )\n",
    "\n",
    "engineered_data.write_csv(\"../data/preprocessed/engineered_test_set.csv\")\n",
    "engineered_data.describe()"
   ]
  }
 ],
 "metadata": {
  "kernelspec": {
   "display_name": "Python 3",
   "language": "python",
   "name": "python3"
  },
  "language_info": {
   "codemirror_mode": {
    "name": "ipython",
    "version": 3
   },
   "file_extension": ".py",
   "mimetype": "text/x-python",
   "name": "python",
   "nbconvert_exporter": "python",
   "pygments_lexer": "ipython3",
   "version": "3.11.8"
  }
 },
 "nbformat": 4,
 "nbformat_minor": 2
}
