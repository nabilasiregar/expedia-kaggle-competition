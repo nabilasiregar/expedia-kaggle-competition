{
 "cells": [
  {
   "cell_type": "code",
   "execution_count": 2,
   "metadata": {},
   "outputs": [],
   "source": [
    "import polars as pl\n",
    "import numpy as np\n",
    "import pandas as pd"
   ]
  },
  {
   "cell_type": "code",
   "execution_count": 3,
   "metadata": {},
   "outputs": [],
   "source": [
<<<<<<< HEAD
    "df = pl.read_csv('../data/raw/test_set_VU_DM_2014')\n",
=======
    "raw_filepath = '../data/raw/training_set_VU_DM.csv'\n",
    "engineered_filepath = \"../data/preprocessed/engineered_train_set.csv\""
   ]
  },
  {
   "cell_type": "code",
   "execution_count": 3,
   "metadata": {},
   "outputs": [
    {
     "name": "stdout",
     "output_type": "stream",
     "text": [
      "['comp6_rate', 'comp7_inv', 'comp7_rate', 'comp3_rate_percent_diff', 'comp6_rate_percent_diff', 'comp6_inv', 'comp1_rate_percent_diff', 'comp7_rate_percent_diff', 'comp1_inv', 'comp4_rate', 'comp4_inv', 'comp1_rate', 'comp4_rate_percent_diff']\n"
     ]
    }
   ],
   "source": [
    "df = pl.read_csv(raw_filepath)\n",
    "\n",
    "# Convert NULL to None so polars can handle\n",
    "df_pandas = df.to_pandas()\n",
    "df_pandas = df_pandas.replace('NULL', pd.NA)\n",
    "df = pl.from_pandas(df_pandas)\n",
>>>>>>> master
    "\n",
    "# Handling outliers in price_usd based on maximum value of visitor_hist_adr_usd\n",
    "df = df.filter(pl.col('price_usd') < 2000)\n",
    "\n",
    "# Create binary indicators for historical data to denote whether the historical booking data is available for a user.\n",
    "df = df.with_columns([\n",
    "    df['visitor_hist_starrating'].is_not_null().cast(pl.UInt8).alias('has_hist_starrating'),\n",
    "    df['visitor_hist_adr_usd'].is_not_null().cast(pl.UInt8).alias('has_hist_adr_usd')\n",
    "])\n",
    "\n",
    "# Drop columns with more than 90% missing data\n",
    "threshold = 0.9 * df.height\n",
    "\n",
    "cols_to_drop = [col for col in df.columns if df[col].is_null().sum() > threshold]\n",
    "cols_to_keep = ['visitor_hist_starrating', 'visitor_hist_adr_usd', 'srch_query_affinity_score', 'gross_bookings_usd']\n",
    "final_columns_to_drop = list(set(cols_to_drop) - set(cols_to_keep))\n",
    "print(final_columns_to_drop)\n",
    "df = df.drop(final_columns_to_drop)"
   ]
  },
  {
   "cell_type": "markdown",
   "metadata": {},
   "source": [
    "## Creating hotel_quality feature"
   ]
  },
  {
   "cell_type": "code",
   "execution_count": 4,
   "metadata": {},
   "outputs": [],
   "source": [
    "# Create a score difference between prop_location_score2 and prop_location_score1\n",
    "df = df.with_columns([\n",
    "    df[\"prop_location_score2\"].map_elements(lambda x: None if x == \"NULL\" else x, return_dtype=pl.Float64).cast(pl.Float64).fill_nan(0).alias(\"prop_location_score2\"),\n",
    "    df[\"prop_location_score1\"].map_elements(lambda x: None if x == \"NULL\" else x, return_dtype=pl.Float64).cast(pl.Float64).fill_nan(0).alias(\"prop_location_score1\")\n",
    "])\n",
    "df = df.with_columns(\n",
    "    ((df[\"prop_location_score2\"] + 0.0001) / (df[\"prop_location_score1\"] + 0.0001)).alias(\"score1d2\")\n",
    ")\n",
    "\n",
    "# 3. Normalize features within each 'srch_id' group\n",
    "features_to_normalize = ['prop_starrating', 'score1d2', 'prop_review_score']\n",
    "for feature in features_to_normalize:\n",
    "    df = df.with_columns(\n",
    "        df[feature].map_elements(lambda x: None if x == \"NULL\" else x, return_dtype=pl.Float64)\n",
    "             .cast(pl.Float64)\n",
    "             .fill_null(0) \n",
    "             .alias(feature)\n",
    "    )\n",
    "\n",
    "for feature in features_to_normalize:\n",
    "    temp_mean_name = f'{feature}_mean_temp'\n",
    "    temp_std_name = f'{feature}_std_temp'\n",
    "    group_stats = df.group_by('srch_id').agg([\n",
    "        pl.col(feature).mean().alias(temp_mean_name),\n",
    "        pl.col(feature).std().alias(temp_std_name)\n",
    "    ])\n",
    "    df = df.join(group_stats, on='srch_id')\n",
    "\n",
    "    # Perform normalization and create new column\n",
    "    df = df.with_columns(\n",
    "        ((pl.col(feature) - pl.col(temp_mean_name)) / pl.col(temp_std_name))\n",
    "        .fill_nan(0)  # Handle division by zero or missing std dev\n",
    "        .alias(f'normalized_{feature}')\n",
    "    )\n",
    "\n",
    "    # Drop temporary columns to prevent duplicates\n",
    "    df = df.drop([temp_mean_name, temp_std_name])\n",
    "\n",
    "# 4. Engineer the 'hotel_quality' feature using a weighted sum of normalized features\n",
    "weights = {\n",
    "    'normalized_prop_starrating': 0.3,\n",
    "    'normalized_score1d2': 0.4,\n",
    "    'normalized_prop_review_score': 0.3\n",
    "}\n",
    "\n",
    "weighted_features = [pl.col(feature) * weight for feature, weight in weights.items()]\n",
    "df = df.with_columns(\n",
    "    sum(weighted_features).alias('hotel_quality')\n",
    ")\n",
    "\n",
    "# 5. Normalize the 'hotel_quality' score to range between 0 and 1\n",
    "df = df.with_columns(\n",
    "    ((df['hotel_quality'] - df['hotel_quality'].min()) / (df['hotel_quality'].max() - df['hotel_quality'].min())).alias('normalized_hotel_quality')\n",
    ")"
   ]
  },
  {
   "cell_type": "markdown",
   "metadata": {},
   "source": [
    "## Create price features"
   ]
  },
  {
   "cell_type": "code",
   "execution_count": 5,
   "metadata": {},
   "outputs": [],
   "source": [
    "# 1. Price per Person\n",
    "df = df.with_columns(\n",
    "    ((df[\"price_usd\"] * df[\"srch_room_count\"]) / \n",
    "     (df[\"srch_adults_count\"] + df[\"srch_children_count\"]).fill_null(1)).alias(\"price_per_person\")\n",
    ")\n",
    "\n",
    "# 2. Average Price per Day\n",
    "df = df.with_columns(\n",
    "    (df[\"price_usd\"] / df[\"srch_length_of_stay\"]).alias(\"avg_price_per_day\")\n",
    ")\n",
    "\n",
    "# 3. UMP (User Margin Price)\n",
    "df = df.with_columns(\n",
    "    (pl.col(\"prop_log_historical_price\").exp() - pl.col(\"price_usd\")).alias(\"ump\")\n",
    ")\n",
    "\n",
    "df = df.with_columns([\n",
    "    pl.col(\"visitor_hist_adr_usd\").map_elements(lambda x: None if x in [\"NULL\", \"\"] else float(x), return_dtype=pl.Float64).alias(\"visitor_hist_adr_usd\"),\n",
    "    pl.col(\"price_usd\").map_elements(lambda x: None if x in [\"NULL\", \"\"] else float(x), return_dtype=pl.Float64).alias(\"price_usd\"),\n",
    "    pl.col(\"visitor_hist_starrating\").map_elements(lambda x: None if x in [\"NULL\", \"\"] else float(x), return_dtype=pl.Float64).alias(\"visitor_hist_starrating\"),\n",
    "    pl.col(\"prop_starrating\").map_elements(lambda x: None if x in [\"NULL\", \"\"] else float(x), return_dtype=pl.Float64).alias(\"prop_starrating\"),\n",
    "    pl.col(\"srch_room_count\").map_elements(lambda x: None if x in [\"NULL\", \"\"] else float(x), return_dtype=pl.Float64).alias(\"srch_room_count\"),\n",
    "    pl.col(\"srch_query_affinity_score\").map_elements(lambda x: None if x in [\"NULL\", \"\"] else float(x), return_dtype=pl.Float64).alias(\"srch_query_affinity_score\")\n",
    "])\n",
    "\n",
    "df = df.with_columns([\n",
    "    # 4. Price Difference\n",
    "    pl.when(pl.col(\"visitor_hist_adr_usd\").is_null())\n",
    "       .then(None)\n",
    "       .otherwise(pl.col(\"visitor_hist_adr_usd\") - pl.col(\"price_usd\")).alias(\"price_diff\"),\n",
    "    # 5. Star Rating Difference\n",
    "    pl.when(pl.col(\"visitor_hist_starrating\").is_null())\n",
    "       .then(None)\n",
    "       .otherwise(pl.col(\"visitor_hist_starrating\") - pl.col(\"prop_starrating\")).alias(\"starrating_diff\")\n",
    "])\n",
    "\n",
    "# 6. Total Price\n",
    "df = df.with_columns(\n",
    "    (df[\"price_usd\"] * df[\"srch_room_count\"]).alias(\"total_price\")\n",
    ")"
   ]
  },
  {
   "cell_type": "markdown",
   "metadata": {},
   "source": [
    "## Promotion feature"
   ]
  },
  {
   "cell_type": "code",
   "execution_count": 6,
   "metadata": {},
   "outputs": [],
   "source": [
    "# Count how many promotions are flagged within each search\n",
    "promotion_agg = df.group_by(\"srch_id\").agg([\n",
    "    pl.col(\"promotion_flag\").sum().alias(\"promotion_count\")\n",
    "])\n",
    "df = df.join(promotion_agg, on=\"srch_id\", how=\"left\")\n",
    "\n",
    "# Check if any property was on promotion per srch_id\n",
    "promotion_any = df.group_by(\"srch_id\").agg([\n",
    "    (pl.col(\"promotion_flag\").max() > 0).cast(pl.UInt8).alias(\"promotion_any\")\n",
    "])\n",
    "\n",
    "df = df.join(promotion_any, on=\"srch_id\", how=\"left\")"
   ]
  },
  {
   "cell_type": "code",
   "execution_count": 7,
   "metadata": {},
   "outputs": [],
   "source": [
    "columns_to_drop = [\n",
    "    'prop_location_score2',\n",
    "    'prop_location_score1',\n",
    "    'prop_starrating', \n",
    "    'prop_review_score',\n",
    "    'price_usd',\n",
    "    'srch_room_count',\n",
    "    'prop_log_historical_price',\n",
    "    'srch_length_of_stay',\n",
    "    'srch_children_count',\n",
    "    'srch_adults_count',\n",
    "    'room_count',\n",
    "    'promotion_flag'\n",
    "]\n",
    "\n",
    "df = df.drop(columns_to_drop)\n",
    "\n",
    "drop_competitors = [col for col in df.columns if col.startswith(\"comp\") and \n",
    "                   (\"rate\" in col or \"inv\" in col or \"percent_diff\" in col)]\n",
    "\n",
    "df = df.drop(drop_competitors)\n",
    "\n",
    "def replace_with_nan(value):\n",
    "    try:\n",
    "        return float(value)\n",
    "    except ValueError:\n",
    "        return None\n",
    "\n",
    "for col in df.columns:\n",
    "    if df[col].dtype == pl.Utf8:\n",
    "        # Convert string columns, replacing non-convertible strings with NaN\n",
    "        df = df.with_columns(\n",
    "            df[col].map_elements(replace_with_nan, return_dtype=pl.Float64).alias(col)\n",
    "        )\n",
    "    elif df[col].dtype == pl.Float64:\n",
    "        # For numeric columns, just ensure that they do not contain invalid strings\n",
    "        df = df.with_columns(\n",
    "            df[col].map_elements(lambda x: x if isinstance(x, float) else None, return_dtype=pl.Float64).alias(col)\n",
    "        )\n",
    "\n",
    "\n",
<<<<<<< HEAD
    "df.write_csv('../data/preprocessed/engineered_training_set.csv')"
   ]
  },
  {
   "cell_type": "code",
   "execution_count": 8,
   "metadata": {},
   "outputs": [
    {
     "data": {
      "text/html": [
       "<div><style>\n",
       ".dataframe > thead > tr,\n",
       ".dataframe > tbody > tr {\n",
       "  text-align: right;\n",
       "  white-space: pre-wrap;\n",
       "}\n",
       "</style>\n",
       "<small>shape: (9, 36)</small><table border=\"1\" class=\"dataframe\"><thead><tr><th>statistic</th><th>srch_id</th><th>date_time</th><th>site_id</th><th>visitor_location_country_id</th><th>visitor_hist_starrating</th><th>visitor_hist_adr_usd</th><th>prop_country_id</th><th>prop_id</th><th>prop_brand_bool</th><th>position</th><th>srch_destination_id</th><th>srch_booking_window</th><th>srch_saturday_night_bool</th><th>orig_destination_distance</th><th>random_bool</th><th>click_bool</th><th>gross_bookings_usd</th><th>booking_bool</th><th>has_hist_starrating</th><th>has_hist_adr_usd</th><th>score1d2</th><th>normalized_prop_starrating</th><th>normalized_score1d2</th><th>normalized_prop_review_score</th><th>hotel_quality</th><th>normalized_hotel_quality</th><th>price_per_person</th><th>avg_price_per_day</th><th>ump</th><th>price_diff</th><th>starrating_diff</th><th>total_price</th><th>score2ma</th><th>promotion_count</th><th>promotion_any</th></tr><tr><td>str</td><td>f64</td><td>str</td><td>f64</td><td>f64</td><td>str</td><td>str</td><td>f64</td><td>f64</td><td>f64</td><td>f64</td><td>f64</td><td>f64</td><td>f64</td><td>f64</td><td>f64</td><td>f64</td><td>f64</td><td>f64</td><td>f64</td><td>f64</td><td>f64</td><td>f64</td><td>f64</td><td>f64</td><td>f64</td><td>f64</td><td>f64</td><td>f64</td><td>f64</td><td>str</td><td>str</td><td>f64</td><td>str</td><td>f64</td><td>f64</td></tr></thead><tbody><tr><td>&quot;count&quot;</td><td>4.953228e6</td><td>&quot;0&quot;</td><td>4.953228e6</td><td>4.953228e6</td><td>&quot;251792&quot;</td><td>&quot;252914&quot;</td><td>4.953228e6</td><td>4.953228e6</td><td>4.953228e6</td><td>4.953228e6</td><td>4.953228e6</td><td>4.953228e6</td><td>4.953228e6</td><td>3.348388e6</td><td>4.953228e6</td><td>4.953228e6</td><td>138275.0</td><td>4.953228e6</td><td>4.953228e6</td><td>4.953228e6</td><td>4.953228e6</td><td>4.953224e6</td><td>4.953224e6</td><td>4.953224e6</td><td>4.953224e6</td><td>4.953224e6</td><td>4.953228e6</td><td>4.953228e6</td><td>4.953228e6</td><td>&quot;252914&quot;</td><td>&quot;251792&quot;</td><td>4.953228e6</td><td>&quot;0&quot;</td><td>4.953228e6</td><td>4.953228e6</td></tr><tr><td>&quot;null_count&quot;</td><td>0.0</td><td>&quot;4953228&quot;</td><td>0.0</td><td>0.0</td><td>&quot;4701436&quot;</td><td>&quot;4700314&quot;</td><td>0.0</td><td>0.0</td><td>0.0</td><td>0.0</td><td>0.0</td><td>0.0</td><td>0.0</td><td>1.60484e6</td><td>0.0</td><td>0.0</td><td>4.814953e6</td><td>0.0</td><td>0.0</td><td>0.0</td><td>0.0</td><td>4.0</td><td>4.0</td><td>4.0</td><td>4.0</td><td>4.0</td><td>0.0</td><td>0.0</td><td>0.0</td><td>&quot;4700314&quot;</td><td>&quot;4701436&quot;</td><td>0.0</td><td>&quot;4953228&quot;</td><td>0.0</td><td>0.0</td></tr><tr><td>&quot;mean&quot;</td><td>166367.108221</td><td>null</td><td>9.953445</td><td>175.369853</td><td>null</td><td>null</td><td>173.999283</td><td>70077.122916</td><td>0.634832</td><td>16.857549</td><td>14042.200748</td><td>37.473272</td><td>0.502294</td><td>1300.442127</td><td>0.295835</td><td>0.044751</td><td>385.632155</td><td>0.027916</td><td>1.0</td><td>1.0</td><td>0.0</td><td>1.3289e-9</td><td>0.0</td><td>5.8107e-9</td><td>2.1778e-9</td><td>0.57336</td><td>85.293109</td><td>92.34218</td><td>-0.981179</td><td>null</td><td>null</td><td>170.66645</td><td>null</td><td>6.277791</td><td>0.898359</td></tr><tr><td>&quot;std&quot;</td><td>96110.062236</td><td>null</td><td>7.646976</td><td>65.904102</td><td>null</td><td>null</td><td>68.334449</td><td>40609.937868</td><td>0.481477</td><td>10.426479</td><td>8111.447094</td><td>51.993395</td><td>0.499995</td><td>2023.15977</td><td>0.456417</td><td>0.206756</td><td>804.686432</td><td>0.164733</td><td>0.0</td><td>0.0</td><td>0.0</td><td>0.970969</td><td>0.0</td><td>0.979434</td><td>0.484224</td><td>0.088648</td><td>82.613894</td><td>82.644123</td><td>107.787853</td><td>null</td><td>null</td><td>152.173464</td><td>null</td><td>5.896331</td><td>0.302176</td></tr><tr><td>&quot;min&quot;</td><td>1.0</td><td>null</td><td>1.0</td><td>1.0</td><td>&quot;1.41&quot;</td><td>&quot;0.0&quot;</td><td>1.0</td><td>1.0</td><td>0.0</td><td>1.0</td><td>2.0</td><td>0.0</td><td>0.0</td><td>0.01</td><td>0.0</td><td>0.0</td><td>0.0</td><td>0.0</td><td>1.0</td><td>1.0</td><td>0.0</td><td>-5.833333</td><td>0.0</td><td>-5.43742</td><td>-3.131872</td><td>0.0</td><td>0.0</td><td>0.0</td><td>-1998.16</td><td>&quot;-0.009999999999990905&quot;</td><td>&quot;-0.009999999999999787&quot;</td><td>0.0</td><td>null</td><td>0.0</td><td>0.0</td></tr><tr><td>&quot;25%&quot;</td><td>82936.0</td><td>null</td><td>5.0</td><td>100.0</td><td>null</td><td>null</td><td>100.0</td><td>35010.0</td><td>0.0</td><td>8.0</td><td>7101.0</td><td>4.0</td><td>0.0</td><td>139.76</td><td>0.0</td><td>0.0</td><td>123.99</td><td>0.0</td><td>1.0</td><td>1.0</td><td>0.0</td><td>-0.645497</td><td>0.0</td><td>-0.466997</td><td>-0.294509</td><td>0.5194433</td><td>40.0</td><td>40.25</td><td>-24.529985</td><td>null</td><td>null</td><td>89.0</td><td>null</td><td>2.0</td><td>1.0</td></tr><tr><td>&quot;50%&quot;</td><td>166503.0</td><td>null</td><td>5.0</td><td>219.0</td><td>null</td><td>null</td><td>219.0</td><td>69630.0</td><td>1.0</td><td>16.0</td><td>13541.0</td><td>17.0</td><td>1.0</td><td>386.46</td><td>0.0</td><td>0.0</td><td>218.36</td><td>0.0</td><td>1.0</td><td>1.0</td><td>0.0</td><td>0.040506</td><td>0.0</td><td>0.222286</td><td>0.057451</td><td>0.583878</td><td>63.04</td><td>71.486667</td><td>17.834287</td><td>null</td><td>null</td><td>129.0</td><td>null</td><td>5.0</td><td>1.0</td></tr><tr><td>&quot;75%&quot;</td><td>249721.0</td><td>null</td><td>14.0</td><td>219.0</td><td>null</td><td>null</td><td>219.0</td><td>105165.0</td><td>1.0</td><td>26.0</td><td>21084.0</td><td>48.0</td><td>1.0</td><td>1499.46</td><td>1.0</td><td>0.0</td><td>429.61</td><td>0.0</td><td>1.0</td><td>1.0</td><td>0.0</td><td>0.6561673</td><td>0.0</td><td>0.662652</td><td>0.345082</td><td>0.6365348</td><td>103.0</td><td>118.63</td><td>50.295562</td><td>null</td><td>null</td><td>199.64</td><td>null</td><td>9.0</td><td>1.0</td></tr><tr><td>&quot;max&quot;</td><td>332785.0</td><td>null</td><td>34.0</td><td>231.0</td><td>&quot;5.0&quot;</td><td>&quot;999.81&quot;</td><td>230.0</td><td>140821.0</td><td>1.0</td><td>40.0</td><td>28416.0</td><td>492.0</td><td>1.0</td><td>11666.64</td><td>1.0</td><td>1.0</td><td>159292.38</td><td>1.0</td><td>1.0</td><td>1.0</td><td>0.0</td><td>5.833334</td><td>0.0</td><td>5.294649</td><td>2.3304434</td><td>1.0</td><td>9150.0</td><td>1999.0</td><td>497.681251</td><td>&quot;997.0200000000001&quot;</td><td>&quot;5.0&quot;</td><td>9150.0</td><td>null</td><td>35.0</td><td>1.0</td></tr></tbody></table></div>"
      ],
      "text/plain": [
       "shape: (9, 36)\n",
       "┌───────────┬───────────┬───────────┬───────────┬───┬───────────┬──────────┬───────────┬───────────┐\n",
       "│ statistic ┆ srch_id   ┆ date_time ┆ site_id   ┆ … ┆ total_pri ┆ score2ma ┆ promotion ┆ promotion │\n",
       "│ ---       ┆ ---       ┆ ---       ┆ ---       ┆   ┆ ce        ┆ ---      ┆ _count    ┆ _any      │\n",
       "│ str       ┆ f64       ┆ str       ┆ f64       ┆   ┆ ---       ┆ str      ┆ ---       ┆ ---       │\n",
       "│           ┆           ┆           ┆           ┆   ┆ f64       ┆          ┆ f64       ┆ f64       │\n",
       "╞═══════════╪═══════════╪═══════════╪═══════════╪═══╪═══════════╪══════════╪═══════════╪═══════════╡\n",
       "│ count     ┆ 4.953228e ┆ 0         ┆ 4.953228e ┆ … ┆ 4.953228e ┆ 0        ┆ 4.953228e ┆ 4.953228e │\n",
       "│           ┆ 6         ┆           ┆ 6         ┆   ┆ 6         ┆          ┆ 6         ┆ 6         │\n",
       "│ null_coun ┆ 0.0       ┆ 4953228   ┆ 0.0       ┆ … ┆ 0.0       ┆ 4953228  ┆ 0.0       ┆ 0.0       │\n",
       "│ t         ┆           ┆           ┆           ┆   ┆           ┆          ┆           ┆           │\n",
       "│ mean      ┆ 166367.10 ┆ null      ┆ 9.953445  ┆ … ┆ 170.66645 ┆ null     ┆ 6.277791  ┆ 0.898359  │\n",
       "│           ┆ 8221      ┆           ┆           ┆   ┆           ┆          ┆           ┆           │\n",
       "│ std       ┆ 96110.062 ┆ null      ┆ 7.646976  ┆ … ┆ 152.17346 ┆ null     ┆ 5.896331  ┆ 0.302176  │\n",
       "│           ┆ 236       ┆           ┆           ┆   ┆ 4         ┆          ┆           ┆           │\n",
       "│ min       ┆ 1.0       ┆ null      ┆ 1.0       ┆ … ┆ 0.0       ┆ null     ┆ 0.0       ┆ 0.0       │\n",
       "│ 25%       ┆ 82936.0   ┆ null      ┆ 5.0       ┆ … ┆ 89.0      ┆ null     ┆ 2.0       ┆ 1.0       │\n",
       "│ 50%       ┆ 166503.0  ┆ null      ┆ 5.0       ┆ … ┆ 129.0     ┆ null     ┆ 5.0       ┆ 1.0       │\n",
       "│ 75%       ┆ 249721.0  ┆ null      ┆ 14.0      ┆ … ┆ 199.64    ┆ null     ┆ 9.0       ┆ 1.0       │\n",
       "│ max       ┆ 332785.0  ┆ null      ┆ 34.0      ┆ … ┆ 9150.0    ┆ null     ┆ 35.0      ┆ 1.0       │\n",
       "└───────────┴───────────┴───────────┴───────────┴───┴───────────┴──────────┴───────────┴───────────┘"
      ]
     },
     "execution_count": 8,
     "metadata": {},
     "output_type": "execute_result"
    }
   ],
   "source": [
    "engineered_data = pl.read_csv('../data/preprocessed/engineered_training_set.csv')\n",
    "engineered_data.describe()"
   ]
  },
  {
   "cell_type": "markdown",
   "metadata": {},
   "source": [
    "## Convert str datatype to float"
=======
    "df.write_csv(engineered_filepath)"
>>>>>>> master
   ]
  },
  {
   "cell_type": "code",
   "execution_count": 9,
   "metadata": {},
   "outputs": [
    {
     "data": {
      "text/html": [
       "<div><style>\n",
       ".dataframe > thead > tr,\n",
       ".dataframe > tbody > tr {\n",
       "  text-align: right;\n",
       "  white-space: pre-wrap;\n",
       "}\n",
       "</style>\n",
       "<small>shape: (9, 36)</small><table border=\"1\" class=\"dataframe\"><thead><tr><th>statistic</th><th>srch_id</th><th>date_time</th><th>site_id</th><th>visitor_location_country_id</th><th>visitor_hist_starrating</th><th>visitor_hist_adr_usd</th><th>prop_country_id</th><th>prop_id</th><th>prop_brand_bool</th><th>position</th><th>srch_destination_id</th><th>srch_booking_window</th><th>srch_saturday_night_bool</th><th>srch_query_affinity_score</th><th>orig_destination_distance</th><th>random_bool</th><th>click_bool</th><th>gross_bookings_usd</th><th>booking_bool</th><th>has_hist_starrating</th><th>has_hist_adr_usd</th><th>score1d2</th><th>normalized_prop_starrating</th><th>normalized_score1d2</th><th>normalized_prop_review_score</th><th>hotel_quality</th><th>normalized_hotel_quality</th><th>price_per_person</th><th>avg_price_per_day</th><th>ump</th><th>price_diff</th><th>starrating_diff</th><th>total_price</th><th>promotion_count</th><th>promotion_any</th></tr><tr><td>str</td><td>f64</td><td>str</td><td>f64</td><td>f64</td><td>str</td><td>str</td><td>f64</td><td>f64</td><td>f64</td><td>f64</td><td>f64</td><td>f64</td><td>f64</td><td>str</td><td>f64</td><td>f64</td><td>f64</td><td>f64</td><td>f64</td><td>f64</td><td>f64</td><td>f64</td><td>f64</td><td>f64</td><td>f64</td><td>f64</td><td>f64</td><td>f64</td><td>f64</td><td>f64</td><td>str</td><td>str</td><td>f64</td><td>f64</td><td>f64</td></tr></thead><tbody><tr><td>&quot;count&quot;</td><td>4.953228e6</td><td>&quot;0&quot;</td><td>4.953228e6</td><td>4.953228e6</td><td>&quot;251792&quot;</td><td>&quot;252914&quot;</td><td>4.953228e6</td><td>4.953228e6</td><td>4.953228e6</td><td>4.953228e6</td><td>4.953228e6</td><td>4.953228e6</td><td>4.953228e6</td><td>&quot;317241&quot;</td><td>3.348388e6</td><td>4.953228e6</td><td>4.953228e6</td><td>138275.0</td><td>4.953228e6</td><td>4.953228e6</td><td>4.953228e6</td><td>4.953228e6</td><td>4.953224e6</td><td>4.953224e6</td><td>4.953224e6</td><td>4.953224e6</td><td>4.953224e6</td><td>4.953228e6</td><td>4.953228e6</td><td>4.953228e6</td><td>&quot;252914&quot;</td><td>&quot;251792&quot;</td><td>4.953228e6</td><td>4.953228e6</td><td>4.953228e6</td></tr><tr><td>&quot;null_count&quot;</td><td>0.0</td><td>&quot;4953228&quot;</td><td>0.0</td><td>0.0</td><td>&quot;4701436&quot;</td><td>&quot;4700314&quot;</td><td>0.0</td><td>0.0</td><td>0.0</td><td>0.0</td><td>0.0</td><td>0.0</td><td>0.0</td><td>&quot;4635987&quot;</td><td>1.60484e6</td><td>0.0</td><td>0.0</td><td>4.814953e6</td><td>0.0</td><td>0.0</td><td>0.0</td><td>0.0</td><td>4.0</td><td>4.0</td><td>4.0</td><td>4.0</td><td>4.0</td><td>0.0</td><td>0.0</td><td>0.0</td><td>&quot;4700314&quot;</td><td>&quot;4701436&quot;</td><td>0.0</td><td>0.0</td><td>0.0</td></tr><tr><td>&quot;mean&quot;</td><td>166367.108221</td><td>null</td><td>9.953445</td><td>175.369853</td><td>null</td><td>null</td><td>173.999283</td><td>70077.122916</td><td>0.634832</td><td>16.857549</td><td>14042.200748</td><td>37.473272</td><td>0.502294</td><td>null</td><td>1300.442127</td><td>0.295835</td><td>0.044751</td><td>385.632155</td><td>0.027916</td><td>0.050834</td><td>0.05106</td><td>0.0</td><td>-1.5111e-17</td><td>0.0</td><td>-2.4190e-17</td><td>-2.2512e-17</td><td>0.57336</td><td>85.293109</td><td>92.34218</td><td>-0.981179</td><td>null</td><td>null</td><td>170.66645</td><td>6.277791</td><td>0.898359</td></tr><tr><td>&quot;std&quot;</td><td>96110.062236</td><td>null</td><td>7.646976</td><td>65.904102</td><td>null</td><td>null</td><td>68.334449</td><td>40609.937868</td><td>0.481477</td><td>10.426479</td><td>8111.447094</td><td>51.993395</td><td>0.499995</td><td>null</td><td>2023.15977</td><td>0.456417</td><td>0.206756</td><td>804.686432</td><td>0.164733</td><td>0.219658</td><td>0.220121</td><td>0.0</td><td>0.970969</td><td>0.0</td><td>0.979434</td><td>0.484224</td><td>0.088648</td><td>82.613894</td><td>82.644123</td><td>107.787853</td><td>null</td><td>null</td><td>152.173464</td><td>5.896331</td><td>0.302176</td></tr><tr><td>&quot;min&quot;</td><td>1.0</td><td>null</td><td>1.0</td><td>1.0</td><td>&quot;1.41&quot;</td><td>&quot;0.0&quot;</td><td>1.0</td><td>1.0</td><td>0.0</td><td>1.0</td><td>2.0</td><td>0.0</td><td>0.0</td><td>&quot;-10.0001&quot;</td><td>0.01</td><td>0.0</td><td>0.0</td><td>0.0</td><td>0.0</td><td>0.0</td><td>0.0</td><td>0.0</td><td>-5.833333</td><td>0.0</td><td>-5.43742</td><td>-3.131872</td><td>0.0</td><td>0.0</td><td>0.0</td><td>-1998.16</td><td>&quot;-0.009999999999990905&quot;</td><td>&quot;-0.009999999999999787&quot;</td><td>0.0</td><td>0.0</td><td>0.0</td></tr><tr><td>&quot;25%&quot;</td><td>82936.0</td><td>null</td><td>5.0</td><td>100.0</td><td>null</td><td>null</td><td>100.0</td><td>35010.0</td><td>0.0</td><td>8.0</td><td>7101.0</td><td>4.0</td><td>0.0</td><td>null</td><td>139.76</td><td>0.0</td><td>0.0</td><td>123.99</td><td>0.0</td><td>0.0</td><td>0.0</td><td>0.0</td><td>-0.645497</td><td>0.0</td><td>-0.466997</td><td>-0.294509</td><td>0.519443</td><td>40.0</td><td>40.25</td><td>-24.529985</td><td>null</td><td>null</td><td>89.0</td><td>2.0</td><td>1.0</td></tr><tr><td>&quot;50%&quot;</td><td>166503.0</td><td>null</td><td>5.0</td><td>219.0</td><td>null</td><td>null</td><td>219.0</td><td>69630.0</td><td>1.0</td><td>16.0</td><td>13541.0</td><td>17.0</td><td>1.0</td><td>null</td><td>386.46</td><td>0.0</td><td>0.0</td><td>218.36</td><td>0.0</td><td>0.0</td><td>0.0</td><td>0.0</td><td>0.040506</td><td>0.0</td><td>0.222287</td><td>0.057451</td><td>0.583878</td><td>63.04</td><td>71.486667</td><td>17.834287</td><td>null</td><td>null</td><td>129.0</td><td>5.0</td><td>1.0</td></tr><tr><td>&quot;75%&quot;</td><td>249721.0</td><td>null</td><td>14.0</td><td>219.0</td><td>null</td><td>null</td><td>219.0</td><td>105165.0</td><td>1.0</td><td>26.0</td><td>21084.0</td><td>48.0</td><td>1.0</td><td>null</td><td>1499.46</td><td>1.0</td><td>0.0</td><td>429.61</td><td>0.0</td><td>0.0</td><td>0.0</td><td>0.0</td><td>0.656167</td><td>0.0</td><td>0.662652</td><td>0.345082</td><td>0.636535</td><td>103.0</td><td>118.63</td><td>50.295562</td><td>null</td><td>null</td><td>199.64</td><td>9.0</td><td>1.0</td></tr><tr><td>&quot;max&quot;</td><td>332785.0</td><td>null</td><td>34.0</td><td>231.0</td><td>&quot;5.0&quot;</td><td>&quot;999.81&quot;</td><td>230.0</td><td>140821.0</td><td>1.0</td><td>40.0</td><td>28416.0</td><td>492.0</td><td>1.0</td><td>&quot;-99.9113&quot;</td><td>11666.64</td><td>1.0</td><td>1.0</td><td>159292.38</td><td>1.0</td><td>1.0</td><td>1.0</td><td>0.0</td><td>5.833333</td><td>0.0</td><td>5.294651</td><td>2.330443</td><td>1.0</td><td>9150.0</td><td>1999.0</td><td>497.681251</td><td>&quot;997.0200000000001&quot;</td><td>&quot;5.0&quot;</td><td>9150.0</td><td>35.0</td><td>1.0</td></tr></tbody></table></div>"
      ],
      "text/plain": [
       "shape: (9, 36)\n",
       "┌───────────┬───────────┬───────────┬───────────┬───┬───────────┬───────────┬───────────┬──────────┐\n",
       "│ statistic ┆ srch_id   ┆ date_time ┆ site_id   ┆ … ┆ starratin ┆ total_pri ┆ promotion ┆ promotio │\n",
       "│ ---       ┆ ---       ┆ ---       ┆ ---       ┆   ┆ g_diff    ┆ ce        ┆ _count    ┆ n_any    │\n",
       "│ str       ┆ f64       ┆ str       ┆ f64       ┆   ┆ ---       ┆ ---       ┆ ---       ┆ ---      │\n",
       "│           ┆           ┆           ┆           ┆   ┆ str       ┆ f64       ┆ f64       ┆ f64      │\n",
       "╞═══════════╪═══════════╪═══════════╪═══════════╪═══╪═══════════╪═══════════╪═══════════╪══════════╡\n",
       "│ count     ┆ 4.953228e ┆ 0         ┆ 4.953228e ┆ … ┆ 251792    ┆ 4.953228e ┆ 4.953228e ┆ 4.953228 │\n",
       "│           ┆ 6         ┆           ┆ 6         ┆   ┆           ┆ 6         ┆ 6         ┆ e6       │\n",
       "│ null_coun ┆ 0.0       ┆ 4953228   ┆ 0.0       ┆ … ┆ 4701436   ┆ 0.0       ┆ 0.0       ┆ 0.0      │\n",
       "│ t         ┆           ┆           ┆           ┆   ┆           ┆           ┆           ┆          │\n",
       "│ mean      ┆ 166367.10 ┆ null      ┆ 9.953445  ┆ … ┆ null      ┆ 170.66645 ┆ 6.277791  ┆ 0.898359 │\n",
       "│           ┆ 8221      ┆           ┆           ┆   ┆           ┆           ┆           ┆          │\n",
       "│ std       ┆ 96110.062 ┆ null      ┆ 7.646976  ┆ … ┆ null      ┆ 152.17346 ┆ 5.896331  ┆ 0.302176 │\n",
       "│           ┆ 236       ┆           ┆           ┆   ┆           ┆ 4         ┆           ┆          │\n",
       "│ min       ┆ 1.0       ┆ null      ┆ 1.0       ┆ … ┆ -0.009999 ┆ 0.0       ┆ 0.0       ┆ 0.0      │\n",
       "│           ┆           ┆           ┆           ┆   ┆ 999999999 ┆           ┆           ┆          │\n",
       "│           ┆           ┆           ┆           ┆   ┆ 787       ┆           ┆           ┆          │\n",
       "│ 25%       ┆ 82936.0   ┆ null      ┆ 5.0       ┆ … ┆ null      ┆ 89.0      ┆ 2.0       ┆ 1.0      │\n",
       "│ 50%       ┆ 166503.0  ┆ null      ┆ 5.0       ┆ … ┆ null      ┆ 129.0     ┆ 5.0       ┆ 1.0      │\n",
       "│ 75%       ┆ 249721.0  ┆ null      ┆ 14.0      ┆ … ┆ null      ┆ 199.64    ┆ 9.0       ┆ 1.0      │\n",
       "│ max       ┆ 332785.0  ┆ null      ┆ 34.0      ┆ … ┆ 5.0       ┆ 9150.0    ┆ 35.0      ┆ 1.0      │\n",
       "└───────────┴───────────┴───────────┴───────────┴───┴───────────┴───────────┴───────────┴──────────┘"
      ]
     },
     "execution_count": 9,
     "metadata": {},
     "output_type": "execute_result"
    }
   ],
   "source": [
    "engineered_data = pl.read_csv(engineered_filepath)\n",
    "engineered_data.describe()"
   ]
  },
  {
   "cell_type": "markdown",
   "metadata": {},
   "source": [
    "## Convert str datatype to float"
   ]
  },
  {
   "cell_type": "code",
   "execution_count": 9,
   "metadata": {},
   "outputs": [
    {
     "data": {
      "text/html": [
       "<div><style>\n",
       ".dataframe > thead > tr,\n",
       ".dataframe > tbody > tr {\n",
       "  text-align: right;\n",
       "  white-space: pre-wrap;\n",
       "}\n",
       "</style>\n",
       "<small>shape: (9, 36)</small><table border=\"1\" class=\"dataframe\"><thead><tr><th>statistic</th><th>srch_id</th><th>date_time</th><th>site_id</th><th>visitor_location_country_id</th><th>visitor_hist_starrating</th><th>visitor_hist_adr_usd</th><th>prop_country_id</th><th>prop_id</th><th>prop_brand_bool</th><th>position</th><th>srch_destination_id</th><th>srch_booking_window</th><th>srch_saturday_night_bool</th><th>srch_query_affinity_score</th><th>orig_destination_distance</th><th>random_bool</th><th>click_bool</th><th>gross_bookings_usd</th><th>booking_bool</th><th>has_hist_starrating</th><th>has_hist_adr_usd</th><th>score1d2</th><th>normalized_prop_starrating</th><th>normalized_score1d2</th><th>normalized_prop_review_score</th><th>hotel_quality</th><th>normalized_hotel_quality</th><th>price_per_person</th><th>avg_price_per_day</th><th>ump</th><th>price_diff</th><th>starrating_diff</th><th>total_price</th><th>promotion_count</th><th>promotion_any</th></tr><tr><td>str</td><td>f64</td><td>f64</td><td>f64</td><td>f64</td><td>f64</td><td>f64</td><td>f64</td><td>f64</td><td>f64</td><td>f64</td><td>f64</td><td>f64</td><td>f64</td><td>f64</td><td>f64</td><td>f64</td><td>f64</td><td>f64</td><td>f64</td><td>f64</td><td>f64</td><td>f64</td><td>f64</td><td>f64</td><td>f64</td><td>f64</td><td>f64</td><td>f64</td><td>f64</td><td>f64</td><td>f64</td><td>f64</td><td>f64</td><td>f64</td><td>f64</td></tr></thead><tbody><tr><td>&quot;count&quot;</td><td>4.953228e6</td><td>0.0</td><td>4.953228e6</td><td>4.953228e6</td><td>251792.0</td><td>252914.0</td><td>4.953228e6</td><td>4.953228e6</td><td>4.953228e6</td><td>4.953228e6</td><td>4.953228e6</td><td>4.953228e6</td><td>4.953228e6</td><td>317241.0</td><td>3.348388e6</td><td>4.953228e6</td><td>4.953228e6</td><td>138275.0</td><td>4.953228e6</td><td>4.953228e6</td><td>4.953228e6</td><td>4.953228e6</td><td>4.953224e6</td><td>4.953224e6</td><td>4.953224e6</td><td>4.953224e6</td><td>4.953224e6</td><td>4.953228e6</td><td>4.953228e6</td><td>4.953228e6</td><td>252914.0</td><td>251792.0</td><td>4.953228e6</td><td>4.953228e6</td><td>4.953228e6</td></tr><tr><td>&quot;null_count&quot;</td><td>0.0</td><td>4.953228e6</td><td>0.0</td><td>0.0</td><td>4.701436e6</td><td>4.700314e6</td><td>0.0</td><td>0.0</td><td>0.0</td><td>0.0</td><td>0.0</td><td>0.0</td><td>0.0</td><td>4.635987e6</td><td>1.60484e6</td><td>0.0</td><td>0.0</td><td>4.814953e6</td><td>0.0</td><td>0.0</td><td>0.0</td><td>0.0</td><td>4.0</td><td>4.0</td><td>4.0</td><td>4.0</td><td>4.0</td><td>0.0</td><td>0.0</td><td>0.0</td><td>4.700314e6</td><td>4.701436e6</td><td>0.0</td><td>0.0</td><td>0.0</td></tr><tr><td>&quot;mean&quot;</td><td>166367.108221</td><td>null</td><td>9.953445</td><td>175.369853</td><td>3.374219</td><td>176.010139</td><td>173.999283</td><td>70077.122916</td><td>0.634832</td><td>16.857549</td><td>14042.200748</td><td>37.473272</td><td>0.502294</td><td>-24.148264</td><td>1300.442127</td><td>0.295835</td><td>0.044751</td><td>385.632155</td><td>0.027916</td><td>0.050834</td><td>0.05106</td><td>0.0</td><td>-1.5111e-17</td><td>0.0</td><td>-2.4190e-17</td><td>-2.2512e-17</td><td>0.57336</td><td>85.293109</td><td>92.34218</td><td>-0.981179</td><td>23.608127</td><td>0.128882</td><td>170.66645</td><td>6.277791</td><td>0.898359</td></tr><tr><td>&quot;std&quot;</td><td>96110.062236</td><td>null</td><td>7.646976</td><td>65.904102</td><td>0.692507</td><td>107.256968</td><td>68.334449</td><td>40609.937868</td><td>0.481477</td><td>10.426479</td><td>8111.447094</td><td>51.993395</td><td>0.499995</td><td>15.744783</td><td>2023.15977</td><td>0.456417</td><td>0.206756</td><td>804.686432</td><td>0.164733</td><td>0.219658</td><td>0.220121</td><td>0.0</td><td>0.970969</td><td>0.0</td><td>0.979434</td><td>0.484224</td><td>0.088648</td><td>82.613894</td><td>82.644123</td><td>107.787853</td><td>139.708208</td><td>1.090254</td><td>152.173464</td><td>5.896331</td><td>0.302176</td></tr><tr><td>&quot;min&quot;</td><td>1.0</td><td>null</td><td>1.0</td><td>1.0</td><td>1.41</td><td>0.0</td><td>1.0</td><td>1.0</td><td>0.0</td><td>1.0</td><td>2.0</td><td>0.0</td><td>0.0</td><td>-326.5675</td><td>0.01</td><td>0.0</td><td>0.0</td><td>0.0</td><td>0.0</td><td>0.0</td><td>0.0</td><td>0.0</td><td>-5.833333</td><td>0.0</td><td>-5.43742</td><td>-3.131872</td><td>0.0</td><td>0.0</td><td>0.0</td><td>-1998.16</td><td>-1903.93</td><td>-3.5</td><td>0.0</td><td>0.0</td><td>0.0</td></tr><tr><td>&quot;25%&quot;</td><td>82936.0</td><td>null</td><td>5.0</td><td>100.0</td><td>2.92</td><td>109.81</td><td>100.0</td><td>35010.0</td><td>0.0</td><td>8.0</td><td>7101.0</td><td>4.0</td><td>0.0</td><td>-30.7735</td><td>139.76</td><td>0.0</td><td>0.0</td><td>123.99</td><td>0.0</td><td>0.0</td><td>0.0</td><td>0.0</td><td>-0.645497</td><td>0.0</td><td>-0.466997</td><td>-0.294509</td><td>0.519443</td><td>40.0</td><td>40.25</td><td>-24.529985</td><td>-31.56</td><td>-0.52</td><td>89.0</td><td>2.0</td><td>1.0</td></tr><tr><td>&quot;50%&quot;</td><td>166503.0</td><td>null</td><td>5.0</td><td>219.0</td><td>3.45</td><td>152.16</td><td>219.0</td><td>69630.0</td><td>1.0</td><td>16.0</td><td>13541.0</td><td>17.0</td><td>1.0</td><td>-20.4512</td><td>386.46</td><td>0.0</td><td>0.0</td><td>218.36</td><td>0.0</td><td>0.0</td><td>0.0</td><td>0.0</td><td>0.040506</td><td>0.0</td><td>0.222287</td><td>0.057451</td><td>0.583878</td><td>63.04</td><td>71.486667</td><td>17.834287</td><td>24.21</td><td>0.0</td><td>129.0</td><td>5.0</td><td>1.0</td></tr><tr><td>&quot;75%&quot;</td><td>249721.0</td><td>null</td><td>14.0</td><td>219.0</td><td>3.93</td><td>213.41</td><td>219.0</td><td>105165.0</td><td>1.0</td><td>26.0</td><td>21084.0</td><td>48.0</td><td>1.0</td><td>-13.3514</td><td>1499.46</td><td>1.0</td><td>0.0</td><td>429.61</td><td>0.0</td><td>0.0</td><td>0.0</td><td>0.0</td><td>0.656167</td><td>0.0</td><td>0.662652</td><td>0.345082</td><td>0.636535</td><td>103.0</td><td>118.63</td><td>50.295562</td><td>82.16</td><td>0.74</td><td>199.64</td><td>9.0</td><td>1.0</td></tr><tr><td>&quot;max&quot;</td><td>332785.0</td><td>null</td><td>34.0</td><td>231.0</td><td>5.0</td><td>1958.7</td><td>230.0</td><td>140821.0</td><td>1.0</td><td>40.0</td><td>28416.0</td><td>492.0</td><td>1.0</td><td>-2.4941</td><td>11666.64</td><td>1.0</td><td>1.0</td><td>159292.38</td><td>1.0</td><td>1.0</td><td>1.0</td><td>0.0</td><td>5.833333</td><td>0.0</td><td>5.294651</td><td>2.330443</td><td>1.0</td><td>9150.0</td><td>1999.0</td><td>497.681251</td><td>1903.7</td><td>5.0</td><td>9150.0</td><td>35.0</td><td>1.0</td></tr></tbody></table></div>"
      ],
      "text/plain": [
       "shape: (9, 36)\n",
       "┌───────────┬───────────┬───────────┬───────────┬───┬───────────┬───────────┬───────────┬──────────┐\n",
       "│ statistic ┆ srch_id   ┆ date_time ┆ site_id   ┆ … ┆ starratin ┆ total_pri ┆ promotion ┆ promotio │\n",
       "│ ---       ┆ ---       ┆ ---       ┆ ---       ┆   ┆ g_diff    ┆ ce        ┆ _count    ┆ n_any    │\n",
       "│ str       ┆ f64       ┆ f64       ┆ f64       ┆   ┆ ---       ┆ ---       ┆ ---       ┆ ---      │\n",
       "│           ┆           ┆           ┆           ┆   ┆ f64       ┆ f64       ┆ f64       ┆ f64      │\n",
       "╞═══════════╪═══════════╪═══════════╪═══════════╪═══╪═══════════╪═══════════╪═══════════╪══════════╡\n",
       "│ count     ┆ 4.953228e ┆ 0.0       ┆ 4.953228e ┆ … ┆ 251792.0  ┆ 4.953228e ┆ 4.953228e ┆ 4.953228 │\n",
       "│           ┆ 6         ┆           ┆ 6         ┆   ┆           ┆ 6         ┆ 6         ┆ e6       │\n",
       "│ null_coun ┆ 0.0       ┆ 4.953228e ┆ 0.0       ┆ … ┆ 4.701436e ┆ 0.0       ┆ 0.0       ┆ 0.0      │\n",
       "│ t         ┆           ┆ 6         ┆           ┆   ┆ 6         ┆           ┆           ┆          │\n",
       "│ mean      ┆ 166367.10 ┆ null      ┆ 9.953445  ┆ … ┆ 0.128882  ┆ 170.66645 ┆ 6.277791  ┆ 0.898359 │\n",
       "│           ┆ 8221      ┆           ┆           ┆   ┆           ┆           ┆           ┆          │\n",
       "│ std       ┆ 96110.062 ┆ null      ┆ 7.646976  ┆ … ┆ 1.090254  ┆ 152.17346 ┆ 5.896331  ┆ 0.302176 │\n",
       "│           ┆ 236       ┆           ┆           ┆   ┆           ┆ 4         ┆           ┆          │\n",
       "│ min       ┆ 1.0       ┆ null      ┆ 1.0       ┆ … ┆ -3.5      ┆ 0.0       ┆ 0.0       ┆ 0.0      │\n",
       "│ 25%       ┆ 82936.0   ┆ null      ┆ 5.0       ┆ … ┆ -0.52     ┆ 89.0      ┆ 2.0       ┆ 1.0      │\n",
       "│ 50%       ┆ 166503.0  ┆ null      ┆ 5.0       ┆ … ┆ 0.0       ┆ 129.0     ┆ 5.0       ┆ 1.0      │\n",
       "│ 75%       ┆ 249721.0  ┆ null      ┆ 14.0      ┆ … ┆ 0.74      ┆ 199.64    ┆ 9.0       ┆ 1.0      │\n",
       "│ max       ┆ 332785.0  ┆ null      ┆ 34.0      ┆ … ┆ 5.0       ┆ 9150.0    ┆ 35.0      ┆ 1.0      │\n",
       "└───────────┴───────────┴───────────┴───────────┴───┴───────────┴───────────┴───────────┴──────────┘"
      ]
     },
     "execution_count": 9,
     "metadata": {},
     "output_type": "execute_result"
    }
   ],
   "source": [
    "for col_name in engineered_data.columns:\n",
    "    if engineered_data[col_name].dtype == pl.Utf8:\n",
    "        engineered_data = engineered_data.with_columns(\n",
    "            engineered_data[col_name]\n",
    "            .str.replace(\"NULL\", \"NaN\") \n",
    "            .str.replace(\"N/A\", \"NaN\")   \n",
    "            .cast(pl.Float64)          \n",
    "            .alias(col_name)\n",
    "        )\n",
    "\n",
    "engineered_data.write_csv(engineered_filepath)\n",
    "engineered_data.describe()"
   ]
  }
 ],
 "metadata": {
  "kernelspec": {
   "display_name": "Python 3",
   "language": "python",
   "name": "python3"
  },
  "language_info": {
   "codemirror_mode": {
    "name": "ipython",
    "version": 3
   },
   "file_extension": ".py",
   "mimetype": "text/x-python",
   "name": "python",
   "nbconvert_exporter": "python",
   "pygments_lexer": "ipython3",
   "version": "3.11.4"
  }
 },
 "nbformat": 4,
 "nbformat_minor": 2
}
