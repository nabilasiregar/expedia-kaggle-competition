{
 "cells": [
  {
   "cell_type": "code",
   "execution_count": 1,
   "metadata": {},
   "outputs": [],
   "source": [
    "import xgboost as xg\n",
    "# import dask.dataframe as dd\n",
    "import polars as pl\n",
    "import numpy as np\n",
    "from sklearn.model_selection import train_test_split\n",
    "import pandas as pd\n",
    "from tqdm.notebook import tqdm\n",
    "import matplotlib.pyplot as plt\n",
    "from sklearn.metrics import ndcg_score"
   ]
  },
  {
   "cell_type": "code",
   "execution_count": 2,
   "metadata": {},
   "outputs": [],
   "source": [
    "\n",
    "#For making pretty LaTeX plots\n",
    "plt.rcParams.update({\n",
    "    \"font.family\": \"serif\",\n",
    "    \"font.size\": 18,\n",
    "    \"axes.titlesize\": 18,\n",
    "    \"axes.labelsize\": 14,\n",
    "    \"xtick.labelsize\": 12,\n",
    "    \"ytick.labelsize\": 12,\n",
    "    \"legend.fontsize\": 12,\n",
    "    \"figure.figsize\": (8, 6),\n",
    "    \"figure.dpi\": 100,\n",
    "    \"savefig.dpi\": 200,\n",
    "    \"savefig.format\": \"png\",\n",
    "    \"savefig.transparent\": True,\n",
    "    \"axes.grid\": True,\n",
    "    \"grid.linewidth\": 0.5,\n",
    "    \"grid.linestyle\": \"--\",\n",
    "    \"grid.color\": \"0.8\",\n",
    "    \"image.cmap\": \"Blues\",\n",
    "    \"lines.linewidth\": 1.5,\n",
    "    \"lines.markersize\": 6,\n",
    "    \"text.usetex\": True, \"mathtext.fontset\": \"cm\",\n",
    "    \"pgf.preamble\": r\"\\usepackage[utf8]{inputenc}\\usepackage[T1]{fontenc}\\usepackage{cmbright}\"\n",
    "})"
   ]
  },
  {
   "cell_type": "code",
   "execution_count": 3,
   "metadata": {},
   "outputs": [
    {
     "data": {
      "text/html": [
       "<div><style>\n",
       ".dataframe > thead > tr,\n",
       ".dataframe > tbody > tr {\n",
       "  text-align: right;\n",
       "  white-space: pre-wrap;\n",
       "}\n",
       "</style>\n",
       "<small>shape: (4_953_228, 35)</small><table border=\"1\" class=\"dataframe\"><thead><tr><th>srch_id</th><th>date_time</th><th>site_id</th><th>visitor_location_country_id</th><th>visitor_hist_starrating</th><th>visitor_hist_adr_usd</th><th>prop_country_id</th><th>prop_id</th><th>prop_brand_bool</th><th>position</th><th>srch_destination_id</th><th>srch_booking_window</th><th>srch_saturday_night_bool</th><th>orig_destination_distance</th><th>random_bool</th><th>click_bool</th><th>gross_bookings_usd</th><th>booking_bool</th><th>has_hist_starrating</th><th>has_hist_adr_usd</th><th>score1d2</th><th>normalized_prop_starrating</th><th>normalized_score1d2</th><th>normalized_prop_review_score</th><th>hotel_quality</th><th>normalized_hotel_quality</th><th>price_per_person</th><th>avg_price_per_day</th><th>ump</th><th>price_diff</th><th>starrating_diff</th><th>total_price</th><th>score2ma</th><th>promotion_count</th><th>promotion_any</th></tr><tr><td>i64</td><td>str</td><td>i64</td><td>i64</td><td>str</td><td>str</td><td>i64</td><td>i64</td><td>i64</td><td>i64</td><td>i64</td><td>i64</td><td>i64</td><td>f64</td><td>i64</td><td>i64</td><td>f64</td><td>i64</td><td>i64</td><td>i64</td><td>f64</td><td>f64</td><td>f64</td><td>f64</td><td>f64</td><td>f64</td><td>f64</td><td>f64</td><td>f64</td><td>str</td><td>str</td><td>f64</td><td>str</td><td>i64</td><td>i64</td></tr></thead><tbody><tr><td>1</td><td>null</td><td>12</td><td>187</td><td>null</td><td>null</td><td>219</td><td>893</td><td>1</td><td>27</td><td>23246</td><td>0</td><td>1</td><td>null</td><td>1</td><td>0</td><td>null</td><td>0</td><td>1</td><td>1</td><td>0.0</td><td>-0.093205</td><td>0.0</td><td>0.016094</td><td>-0.023134</td><td>0.5691247</td><td>26.1925</td><td>104.77</td><td>36.404964</td><td>null</td><td>null</td><td>104.77</td><td>null</td><td>1</td><td>1</td></tr><tr><td>1</td><td>null</td><td>12</td><td>187</td><td>null</td><td>null</td><td>219</td><td>10404</td><td>1</td><td>26</td><td>23246</td><td>0</td><td>1</td><td>null</td><td>1</td><td>0</td><td>null</td><td>0</td><td>1</td><td>1</td><td>0.0</td><td>1.2116711</td><td>0.0</td><td>0.466718</td><td>0.5035167</td><td>0.6655399</td><td>42.685</td><td>170.74</td><td>-17.806987</td><td>null</td><td>null</td><td>170.74</td><td>null</td><td>1</td><td>1</td></tr><tr><td>1</td><td>null</td><td>12</td><td>187</td><td>null</td><td>null</td><td>219</td><td>21315</td><td>1</td><td>21</td><td>23246</td><td>0</td><td>1</td><td>null</td><td>1</td><td>0</td><td>null</td><td>0</td><td>1</td><td>1</td><td>0.0</td><td>-0.093205</td><td>0.0</td><td>0.9173418</td><td>0.247241</td><td>0.6186229</td><td>44.95</td><td>179.8</td><td>-42.797387</td><td>null</td><td>null</td><td>179.8</td><td>null</td><td>1</td><td>1</td></tr><tr><td>1</td><td>null</td><td>12</td><td>187</td><td>null</td><td>null</td><td>219</td><td>27348</td><td>1</td><td>34</td><td>23246</td><td>0</td><td>1</td><td>null</td><td>1</td><td>0</td><td>null</td><td>0</td><td>1</td><td>1</td><td>0.0</td><td>-1.398082</td><td>0.0</td><td>0.466718</td><td>-0.279409</td><td>0.5222077</td><td>150.6925</td><td>602.77</td><td>-522.129581</td><td>null</td><td>null</td><td>602.77</td><td>null</td><td>1</td><td>1</td></tr><tr><td>1</td><td>null</td><td>12</td><td>187</td><td>null</td><td>null</td><td>219</td><td>29604</td><td>1</td><td>4</td><td>23246</td><td>0</td><td>1</td><td>null</td><td>1</td><td>0</td><td>null</td><td>0</td><td>1</td><td>1</td><td>0.0</td><td>1.2116711</td><td>0.0</td><td>0.016094</td><td>0.368329</td><td>0.6407908</td><td>35.895</td><td>143.58</td><td>-5.200488</td><td>null</td><td>null</td><td>143.58</td><td>null</td><td>1</td><td>1</td></tr><tr><td>&hellip;</td><td>&hellip;</td><td>&hellip;</td><td>&hellip;</td><td>&hellip;</td><td>&hellip;</td><td>&hellip;</td><td>&hellip;</td><td>&hellip;</td><td>&hellip;</td><td>&hellip;</td><td>&hellip;</td><td>&hellip;</td><td>&hellip;</td><td>&hellip;</td><td>&hellip;</td><td>&hellip;</td><td>&hellip;</td><td>&hellip;</td><td>&hellip;</td><td>&hellip;</td><td>&hellip;</td><td>&hellip;</td><td>&hellip;</td><td>&hellip;</td><td>&hellip;</td><td>&hellip;</td><td>&hellip;</td><td>&hellip;</td><td>&hellip;</td><td>&hellip;</td><td>&hellip;</td><td>&hellip;</td><td>&hellip;</td><td>&hellip;</td></tr><tr><td>332785</td><td>null</td><td>5</td><td>219</td><td>null</td><td>null</td><td>219</td><td>77700</td><td>1</td><td>2</td><td>16974</td><td>21</td><td>0</td><td>550.92</td><td>0</td><td>0</td><td>null</td><td>0</td><td>1</td><td>1</td><td>0.0</td><td>0.0</td><td>0.0</td><td>0.475383</td><td>0.142615</td><td>0.5994687</td><td>39.333333</td><td>118.0</td><td>-117.0</td><td>null</td><td>null</td><td>118.0</td><td>null</td><td>0</td><td>0</td></tr><tr><td>332785</td><td>null</td><td>5</td><td>219</td><td>null</td><td>null</td><td>219</td><td>88083</td><td>1</td><td>3</td><td>16974</td><td>21</td><td>0</td><td>553.14</td><td>0</td><td>0</td><td>null</td><td>0</td><td>1</td><td>1</td><td>0.0</td><td>0.0</td><td>0.0</td><td>0.475383</td><td>0.142615</td><td>0.5994687</td><td>29.666667</td><td>89.0</td><td>-88.0</td><td>null</td><td>null</td><td>89.0</td><td>null</td><td>0</td><td>0</td></tr><tr><td>332785</td><td>null</td><td>5</td><td>219</td><td>null</td><td>null</td><td>219</td><td>94508</td><td>1</td><td>4</td><td>16974</td><td>21</td><td>0</td><td>544.43</td><td>0</td><td>0</td><td>null</td><td>0</td><td>1</td><td>1</td><td>0.0</td><td>0.0</td><td>0.0</td><td>0.118846</td><td>0.035654</td><td>0.5798871</td><td>33.0</td><td>99.0</td><td>-98.0</td><td>null</td><td>null</td><td>99.0</td><td>null</td><td>0</td><td>0</td></tr><tr><td>332785</td><td>null</td><td>5</td><td>219</td><td>null</td><td>null</td><td>219</td><td>128360</td><td>1</td><td>1</td><td>16974</td><td>21</td><td>0</td><td>550.38</td><td>0</td><td>1</td><td>157.84</td><td>1</td><td>1</td><td>1</td><td>0.0</td><td>0.0</td><td>0.0</td><td>1.1884568</td><td>0.356537</td><td>0.638632</td><td>46.333333</td><td>139.0</td><td>-138.0</td><td>null</td><td>null</td><td>139.0</td><td>null</td><td>0</td><td>0</td></tr><tr><td>332785</td><td>null</td><td>5</td><td>219</td><td>null</td><td>null</td><td>219</td><td>134949</td><td>1</td><td>6</td><td>16974</td><td>21</td><td>0</td><td>583.25</td><td>0</td><td>0</td><td>null</td><td>0</td><td>1</td><td>1</td><td>0.0</td><td>0.0</td><td>0.0</td><td>-0.594228</td><td>-0.178268</td><td>0.5407238</td><td>20.333333</td><td>61.0</td><td>-60.0</td><td>null</td><td>null</td><td>61.0</td><td>null</td><td>0</td><td>0</td></tr></tbody></table></div>"
      ],
      "text/plain": [
       "shape: (4_953_228, 35)\n",
       "┌─────────┬───────────┬─────────┬────────────┬───┬────────────┬──────────┬────────────┬────────────┐\n",
       "│ srch_id ┆ date_time ┆ site_id ┆ visitor_lo ┆ … ┆ total_pric ┆ score2ma ┆ promotion_ ┆ promotion_ │\n",
       "│ ---     ┆ ---       ┆ ---     ┆ cation_cou ┆   ┆ e          ┆ ---      ┆ count      ┆ any        │\n",
       "│ i64     ┆ str       ┆ i64     ┆ ntry_id    ┆   ┆ ---        ┆ str      ┆ ---        ┆ ---        │\n",
       "│         ┆           ┆         ┆ ---        ┆   ┆ f64        ┆          ┆ i64        ┆ i64        │\n",
       "│         ┆           ┆         ┆ i64        ┆   ┆            ┆          ┆            ┆            │\n",
       "╞═════════╪═══════════╪═════════╪════════════╪═══╪════════════╪══════════╪════════════╪════════════╡\n",
       "│ 1       ┆ null      ┆ 12      ┆ 187        ┆ … ┆ 104.77     ┆ null     ┆ 1          ┆ 1          │\n",
       "│ 1       ┆ null      ┆ 12      ┆ 187        ┆ … ┆ 170.74     ┆ null     ┆ 1          ┆ 1          │\n",
       "│ 1       ┆ null      ┆ 12      ┆ 187        ┆ … ┆ 179.8      ┆ null     ┆ 1          ┆ 1          │\n",
       "│ 1       ┆ null      ┆ 12      ┆ 187        ┆ … ┆ 602.77     ┆ null     ┆ 1          ┆ 1          │\n",
       "│ 1       ┆ null      ┆ 12      ┆ 187        ┆ … ┆ 143.58     ┆ null     ┆ 1          ┆ 1          │\n",
       "│ …       ┆ …         ┆ …       ┆ …          ┆ … ┆ …          ┆ …        ┆ …          ┆ …          │\n",
       "│ 332785  ┆ null      ┆ 5       ┆ 219        ┆ … ┆ 118.0      ┆ null     ┆ 0          ┆ 0          │\n",
       "│ 332785  ┆ null      ┆ 5       ┆ 219        ┆ … ┆ 89.0       ┆ null     ┆ 0          ┆ 0          │\n",
       "│ 332785  ┆ null      ┆ 5       ┆ 219        ┆ … ┆ 99.0       ┆ null     ┆ 0          ┆ 0          │\n",
       "│ 332785  ┆ null      ┆ 5       ┆ 219        ┆ … ┆ 139.0      ┆ null     ┆ 0          ┆ 0          │\n",
       "│ 332785  ┆ null      ┆ 5       ┆ 219        ┆ … ┆ 61.0       ┆ null     ┆ 0          ┆ 0          │\n",
       "└─────────┴───────────┴─────────┴────────────┴───┴────────────┴──────────┴────────────┴────────────┘"
      ]
     },
     "metadata": {},
     "output_type": "display_data"
    }
   ],
   "source": [
    "data = pl.read_csv('../data/preprocessed/engineered_training_set.csv')\n",
    "display(data)"
   ]
  },
  {
   "cell_type": "code",
   "execution_count": 4,
   "metadata": {},
   "outputs": [
    {
     "data": {
      "text/plain": [
       "Text(0.5, 1.0, 'Histogram of prop_country_id')"
      ]
     },
     "execution_count": 4,
     "metadata": {},
     "output_type": "execute_result"
    },
    {
     "data": {
      "image/png": "[encoded data removed]",
      "text/plain": [
       "<Figure size 1200x600 with 1 Axes>"
      ]
     },
     "metadata": {},
     "output_type": "display_data"
    }
   ],
   "source": [
    "# hist of prop_country_id\n",
    "count = data['prop_country_id'].value_counts()\n",
    "\n",
    "plt.figure(figsize=(12, 6))\n",
    "plt.bar(count['prop_country_id'], count['count'])\n",
    "plt.xlabel('prop_country_id')\n",
    "plt.ylabel('count')\n",
    "plt.title('Histogram of prop_country_id')"
   ]
  },
  {
   "cell_type": "markdown",
   "metadata": {},
   "source": [
    "The following code is very messy, but essentially, all you need to do is choose a number of partitions, after which the variable `partition_list` will be a list of np.arrays, each of which are the `prop_country_id`'s for one partitions. Then you can train a model on each partition"
   ]
  },
  {
   "cell_type": "code",
   "execution_count": 87,
   "metadata": {},
   "outputs": [
    {
     "name": "stdout",
     "output_type": "stream",
     "text": [
      "Count for partion  1: 3028397\n",
      "Count for partion  2: 157590\n",
      "Count for partion  3: 0\n",
      "Count for partion  4: 321416\n",
      "Count for partion  5: 51136\n",
      "Count for partion  6: 220195\n",
      "Count for partion  7: 210016\n",
      "Count for partion  8: 96889\n",
      "Count for partion  9: 199931\n",
      "Count for partion 10: 52878\n",
      "Count for partion 11: 228730\n",
      "Count for partion 12: 221047\n",
      "Count for partion 13: 165003\n"
     ]
    }
   ],
   "source": [
    "partitions = 12\n",
    "partitions_list = [np.array([219])]\n",
    "countries = count['prop_country_id'].to_numpy()\n",
    "indx = countries != 219\n",
    "countries = countries[indx]\n",
    "count_array = count['count'].to_numpy()\n",
    "\n",
    "\n",
    "# We take a cumsum, and get the indices at which we should split the data, sometimes we get empty partitions\n",
    "count_array = count_array[indx]\n",
    "cum_sum = np.cumsum(count_array)\n",
    "total = cum_sum[-1]\n",
    "partition_size = total // partitions\n",
    "for i in range(0, partitions):\n",
    "    idx_min = np.argmax(cum_sum >= partition_size * i)\n",
    "    idx_max = np.argmax(cum_sum > partition_size * (i + 1))\n",
    "    if i == partitions - 1:\n",
    "        partitions_list.append(countries[idx_min:])\n",
    "    else:\n",
    "        partitions_list.append(countries[idx_min:idx_max])\n",
    "\n",
    "# For printing and getting all the empty partitions\n",
    "counts = 0\n",
    "zeros = []\n",
    "for i, part in enumerate(partitions_list):\n",
    "    countries = count.filter(count['prop_country_id'].is_in(part))\n",
    "    part_count = countries['count']\n",
    "    counts += sum(part_count)\n",
    "    if i < 9:\n",
    "        print(f'Count for partion  {i+1}: {sum(part_count)}')\n",
    "    else:\n",
    "        print(f'Count for partion {i+1}: {sum(part_count)}')\n",
    "\n",
    "    if sum(part_count) == 0:\n",
    "        zeros.append(0)\n",
    "    else:\n",
    "        zeros.append(1)\n",
    "\n",
    "# Remove empty partitions\n",
    "partitions_list = [x for i, x in enumerate(partitions_list) if zeros[i] == 1]\n",
    "\n",
    "assert counts == sum(count['count']), f'Expected {sum(count[\"count\"])} but got {counts}'"
   ]
  },
  {
   "cell_type": "code",
   "execution_count": 101,
   "metadata": {},
   "outputs": [
    {
     "data": {
      "text/plain": [
       "Text(0.5, 1.0, 'Histogram of prop_country_id partitions')"
      ]
     },
     "execution_count": 101,
     "metadata": {},
     "output_type": "execute_result"
    },
    {
     "data": {
      "image/png": "[encoded data removed]",
      "text/plain": [
       "<Figure size 1200x600 with 1 Axes>"
      ]
     },
     "metadata": {},
     "output_type": "display_data"
    }
   ],
   "source": [
    "plt.figure(figsize=(12, 6))\n",
    "plt.bar(range(1, 13), [sum(count.filter(count['prop_country_id'].is_in(part))['count']) for part in partitions_list])\n",
    "plt.xlabel('Partition')\n",
    "plt.ylabel('count')\n",
    "plt.title('Histogram of prop_country_id partitions')"
   ]
  },
  {
   "cell_type": "code",
   "execution_count": 6,
   "metadata": {},
   "outputs": [],
   "source": [
    "def split_data_set(data, partitions_list):\n",
    "    data_partitions = []\n",
    "    for part in partitions_list:\n",
    "        data_partitions.append(data.loc[data['prop_country_id'].isin(part)])\n",
    "    return data_partitions\n"
   ]
  },
  {
   "cell_type": "code",
   "execution_count": 7,
   "metadata": {},
   "outputs": [],
   "source": [
    "data = data.sort(['srch_id', 'booking_bool', 'click_bool'], descending=[False, True, True])"
   ]
  },
  {
   "cell_type": "code",
   "execution_count": 88,
   "metadata": {},
   "outputs": [],
   "source": [
    "# Convert polars DataFrames to pandas DataFrames\n",
    "data_pd = data.to_pandas()\n",
    "# replace all NULL values with np.nan\n",
    "data_pd = data_pd.replace('NULL', np.nan)\n",
    "ranking_pd = data_pd[['srch_id', 'prop_id']]\n",
    "\n",
    "# Convert object columns to appropriate data types\n",
    "object_columns = data_pd.select_dtypes(include=['object']).columns\n",
    "data_pd[object_columns] = data_pd[object_columns].apply(pd.to_numeric, errors='coerce')\n",
    "\n",
    "# Split the data into features (X) and target (y)\n",
    "X = data_pd.drop(['srch_id'], axis=1)\n",
    "y = ranking_pd['prop_id']\n",
    "\n",
    "\n",
    "# Split the data into training and testing sets based on srch_id\n",
    "srch_ids = data_pd['srch_id'].unique()\n",
    "train_srch_ids, test_srch_ids = train_test_split(srch_ids, test_size=0.2, random_state=42)\n",
    "\n",
    "# Create training and testing DataFrames\n",
    "train_data = data_pd[data_pd['srch_id'].isin(train_srch_ids)]\n",
    "test_data = data_pd[data_pd['srch_id'].isin(test_srch_ids)]\n",
    "\n",
    "\n",
    "split_train = split_data_set(train_data, partitions_list)\n",
    "split_test = split_data_set(test_data, partitions_list)\n",
    "split_full = split_data_set(data_pd, partitions_list)"
   ]
  },
  {
   "cell_type": "code",
   "execution_count": 92,
   "metadata": {},
   "outputs": [],
   "source": [
    "def train_model(data, params, num_boost, drop_cols):\n",
    "    # Create XGBoost DMatrix objects for training and testing\n",
    "    train_dmatrix = xg.DMatrix(\n",
    "        data.drop(drop_cols, axis=1),\n",
    "        label=data['prop_id'],\n",
    "        group=data['srch_id'].value_counts().sort_index().values\n",
    "    )\n",
    "    \n",
    "    return xg.train(params, train_dmatrix, num_boost_round=100)\n",
    "\n",
    "def evaluate_model(model, cdata, drop_cols):\n",
    "    data = cdata.copy()\n",
    "\n",
    "    # Capture the true order of prop_id before sorting\n",
    "\n",
    "    # Create XGBoost DMatrix object for testing\n",
    "    test_dmatrix = xg.DMatrix(\n",
    "        data.drop(drop_cols, axis=1),\n",
    "        group=data['srch_id'].value_counts().sort_index().values\n",
    "    )\n",
    "\n",
    "    # Make predictions on the test set\n",
    "    test_pred = model.predict(test_dmatrix)\n",
    "    data['pred'] = test_pred\n",
    "\n",
    "    # Order the prop_ids based on the predictions\n",
    "    results = data.sort_values(['srch_id', 'pred'], ascending=[True, False])[['srch_id', 'prop_id']]\n",
    "    \n",
    "\n",
    "    grouped = results.groupby('srch_id')['prop_id'].apply(list)\n",
    "    \n",
    "    return grouped.to_frame()\n",
    "\n",
    "\n",
    "def eval_models_partions(models, split_test, drop_cols, ncdg=True):\n",
    "    df = pd.DataFrame()\n",
    "    for model, part in zip(models, split_test):\n",
    "        grouped = evaluate_model(model, part, drop_cols)\n",
    "        true = part.groupby('srch_id')['prop_id'].apply(list)\n",
    "        grouped['prop_id_true'] = true\n",
    "\n",
    "        if ncdg:\n",
    "            grouped['ndcg'] = grouped.apply(lambda x: ndcg_score([x['prop_id_true']], [x['prop_id']], k=5) if len(x['prop_id_true']) > 1 else None, axis=1)\n",
    "            print(\"NDCG Score: \", grouped['ndcg'].mean())\n",
    "        df = pd.concat([df, grouped])\n",
    "    return df\n",
    "\n",
    "\n",
    "def train_models(split_train, params, num_boost, drop_cols):\n",
    "    models = []\n",
    "    for part in tqdm(split_train):\n",
    "        model = train_model(part, params, num_boost, drop_cols)\n",
    "        models.append(model)\n",
    "    return models"
   ]
  },
  {
   "cell_type": "code",
   "execution_count": 89,
   "metadata": {},
   "outputs": [
    {
     "data": {
      "application/vnd.jupyter.widget-view+json": {
       "model_id": "78480b931fe94117a0e2d64937643a4a",
       "version_major": 2,
       "version_minor": 0
      },
      "text/plain": [
       "  0%|          | 0/12 [00:00<?, ?it/s]"
      ]
     },
     "metadata": {},
     "output_type": "display_data"
    }
   ],
   "source": [
    "# Set XGBoost parameters\n",
    "params = {\n",
    "    'objective': 'rank:pairwise', # the objective, can also be rank:ndcg, but that is buggy\n",
    "    'lambdarank_pair_method': 'topk', # instead of looking at the mean, we look at the highest k\n",
    "    'lambdarank_num_pair_per_sample': 6, # set slightly higher than intended k\n",
    "    'eval_metric': 'ndcg',\n",
    "    'learning_rate': 0.1,\n",
    "    'max_depth': 6,\n",
    "    'subsample': 0.8,\n",
    "    'colsample_bytree': 0.8,\n",
    "    'seed': 42\n",
    "}\n",
    "\n",
    "drop_cols = ['srch_id','prop_id', 'booking_bool', 'gross_bookings_usd', 'position', 'click_bool']\n",
    "\n",
    "models = train_models(split_train, params, 120, drop_cols)\n"
   ]
  },
  {
   "cell_type": "code",
   "execution_count": 93,
   "metadata": {},
   "outputs": [
    {
     "name": "stdout",
     "output_type": "stream",
     "text": [
      "NDCG Score:  0.558087713749949\n",
      "NDCG Score:  0.5617006506263169\n",
      "NDCG Score:  0.5236271658525239\n",
      "NDCG Score:  0.5218362423689373\n",
      "NDCG Score:  0.5611185122119089\n",
      "NDCG Score:  0.5377220856106713\n",
      "NDCG Score:  0.5376482259944536\n",
      "NDCG Score:  0.5559450370050281\n",
      "NDCG Score:  0.5047762094098726\n",
      "NDCG Score:  0.5532280867413524\n",
      "NDCG Score:  0.5748710369767882\n",
      "NDCG Score:  0.5486515863496851\n"
     ]
    }
   ],
   "source": [
    "drop_cols = ['srch_id','prop_id', 'booking_bool', 'gross_bookings_usd', 'position', 'click_bool']\n",
    "grouped = eval_models_partions(models, split_test, drop_cols)"
   ]
  },
  {
   "cell_type": "code",
   "execution_count": 95,
   "metadata": {},
   "outputs": [
    {
     "data": {
      "application/vnd.jupyter.widget-view+json": {
       "model_id": "2f31b77ee4eb4ec48721729512b97835",
       "version_major": 2,
       "version_minor": 0
      },
      "text/plain": [
       "  0%|          | 0/12 [00:00<?, ?it/s]"
      ]
     },
     "metadata": {},
     "output_type": "display_data"
    }
   ],
   "source": [
    "# Full training\n",
    "models_full = train_models(split_full, params, 120, drop_cols)"
   ]
  },
  {
   "cell_type": "code",
   "execution_count": null,
   "metadata": {},
   "outputs": [],
   "source": [
    "# save the model\n",
    "\n",
    "for i, model in enumerate(models_full):\n",
    "    model.save_model(f'models/model_{i}.json')\n",
    "# load the model\n",
    "models_full = [xg.Booster() for i in range(len(models_full))]\n",
    "models_full = [models_full[i].load_model(f'models/model_{i}.json') for i in range(len(models_full))]"
   ]
  },
  {
   "cell_type": "code",
   "execution_count": 94,
   "metadata": {},
   "outputs": [],
   "source": [
    "test_set = pl.read_csv('../data/preprocessed/engineered_test_set.csv')\n",
    "test_set = test_set.to_pandas()\n",
    "test_set = test_set.replace('NULL', np.nan)\n",
    "\n",
    "object_columns = test_set.select_dtypes(include=['object']).columns\n",
    "test_set[object_columns] = test_set[object_columns].apply(pd.to_numeric, errors='coerce')\n",
    "\n",
    "split_eval = split_data_set(test_set, partitions_list)\n",
    "\n",
    "assert sum([len(x) for x in split_eval]) == len(test_set)"
   ]
  },
  {
   "cell_type": "code",
   "execution_count": null,
   "metadata": {},
   "outputs": [
    {
     "data": {
      "text/html": [
       "<div>\n",
       "<style scoped>\n",
       "    .dataframe tbody tr th:only-of-type {\n",
       "        vertical-align: middle;\n",
       "    }\n",
       "\n",
       "    .dataframe tbody tr th {\n",
       "        vertical-align: top;\n",
       "    }\n",
       "\n",
       "    .dataframe thead th {\n",
       "        text-align: right;\n",
       "    }\n",
       "</style>\n",
       "<table border=\"1\" class=\"dataframe\">\n",
       "  <thead>\n",
       "    <tr style=\"text-align: right;\">\n",
       "      <th></th>\n",
       "      <th>srch_id</th>\n",
       "      <th>date_time</th>\n",
       "      <th>site_id</th>\n",
       "      <th>visitor_location_country_id</th>\n",
       "      <th>visitor_hist_starrating</th>\n",
       "      <th>visitor_hist_adr_usd</th>\n",
       "      <th>prop_country_id</th>\n",
       "      <th>prop_id</th>\n",
       "      <th>prop_brand_bool</th>\n",
       "      <th>srch_destination_id</th>\n",
       "      <th>...</th>\n",
       "      <th>price_per_person</th>\n",
       "      <th>avg_price_per_day</th>\n",
       "      <th>ump</th>\n",
       "      <th>price_diff</th>\n",
       "      <th>starrating_diff</th>\n",
       "      <th>total_price</th>\n",
       "      <th>score2ma</th>\n",
       "      <th>promotion_count</th>\n",
       "      <th>promotion_any</th>\n",
       "      <th>pred</th>\n",
       "    </tr>\n",
       "  </thead>\n",
       "  <tbody>\n",
       "    <tr>\n",
       "      <th>0</th>\n",
       "      <td>1</td>\n",
       "      <td>NaN</td>\n",
       "      <td>24</td>\n",
       "      <td>216</td>\n",
       "      <td>NaN</td>\n",
       "      <td>NaN</td>\n",
       "      <td>219</td>\n",
       "      <td>3180</td>\n",
       "      <td>1</td>\n",
       "      <td>19222</td>\n",
       "      <td>...</td>\n",
       "      <td>59.5</td>\n",
       "      <td>119.0</td>\n",
       "      <td>33.933013</td>\n",
       "      <td>NaN</td>\n",
       "      <td>NaN</td>\n",
       "      <td>119.0</td>\n",
       "      <td>NaN</td>\n",
       "      <td>6</td>\n",
       "      <td>1</td>\n",
       "      <td>-5.039828</td>\n",
       "    </tr>\n",
       "    <tr>\n",
       "      <th>1</th>\n",
       "      <td>1</td>\n",
       "      <td>NaN</td>\n",
       "      <td>24</td>\n",
       "      <td>216</td>\n",
       "      <td>NaN</td>\n",
       "      <td>NaN</td>\n",
       "      <td>219</td>\n",
       "      <td>5543</td>\n",
       "      <td>1</td>\n",
       "      <td>19222</td>\n",
       "      <td>...</td>\n",
       "      <td>59.0</td>\n",
       "      <td>118.0</td>\n",
       "      <td>20.379512</td>\n",
       "      <td>NaN</td>\n",
       "      <td>NaN</td>\n",
       "      <td>118.0</td>\n",
       "      <td>NaN</td>\n",
       "      <td>6</td>\n",
       "      <td>1</td>\n",
       "      <td>-5.001843</td>\n",
       "    </tr>\n",
       "    <tr>\n",
       "      <th>2</th>\n",
       "      <td>1</td>\n",
       "      <td>NaN</td>\n",
       "      <td>24</td>\n",
       "      <td>216</td>\n",
       "      <td>NaN</td>\n",
       "      <td>NaN</td>\n",
       "      <td>219</td>\n",
       "      <td>14142</td>\n",
       "      <td>1</td>\n",
       "      <td>19222</td>\n",
       "      <td>...</td>\n",
       "      <td>24.5</td>\n",
       "      <td>49.0</td>\n",
       "      <td>15.071523</td>\n",
       "      <td>NaN</td>\n",
       "      <td>NaN</td>\n",
       "      <td>49.0</td>\n",
       "      <td>NaN</td>\n",
       "      <td>6</td>\n",
       "      <td>1</td>\n",
       "      <td>-4.660777</td>\n",
       "    </tr>\n",
       "    <tr>\n",
       "      <th>3</th>\n",
       "      <td>1</td>\n",
       "      <td>NaN</td>\n",
       "      <td>24</td>\n",
       "      <td>216</td>\n",
       "      <td>NaN</td>\n",
       "      <td>NaN</td>\n",
       "      <td>219</td>\n",
       "      <td>22393</td>\n",
       "      <td>1</td>\n",
       "      <td>19222</td>\n",
       "      <td>...</td>\n",
       "      <td>71.5</td>\n",
       "      <td>143.0</td>\n",
       "      <td>9.933013</td>\n",
       "      <td>NaN</td>\n",
       "      <td>NaN</td>\n",
       "      <td>143.0</td>\n",
       "      <td>NaN</td>\n",
       "      <td>6</td>\n",
       "      <td>1</td>\n",
       "      <td>-4.574502</td>\n",
       "    </tr>\n",
       "    <tr>\n",
       "      <th>4</th>\n",
       "      <td>1</td>\n",
       "      <td>NaN</td>\n",
       "      <td>24</td>\n",
       "      <td>216</td>\n",
       "      <td>NaN</td>\n",
       "      <td>NaN</td>\n",
       "      <td>219</td>\n",
       "      <td>24194</td>\n",
       "      <td>1</td>\n",
       "      <td>19222</td>\n",
       "      <td>...</td>\n",
       "      <td>39.5</td>\n",
       "      <td>79.0</td>\n",
       "      <td>33.168253</td>\n",
       "      <td>NaN</td>\n",
       "      <td>NaN</td>\n",
       "      <td>79.0</td>\n",
       "      <td>NaN</td>\n",
       "      <td>6</td>\n",
       "      <td>1</td>\n",
       "      <td>-4.570467</td>\n",
       "    </tr>\n",
       "  </tbody>\n",
       "</table>\n",
       "<p>5 rows × 32 columns</p>\n",
       "</div>"
      ],
      "text/plain": [
       "   srch_id  date_time  site_id  visitor_location_country_id  \\\n",
       "0        1        NaN       24                          216   \n",
       "1        1        NaN       24                          216   \n",
       "2        1        NaN       24                          216   \n",
       "3        1        NaN       24                          216   \n",
       "4        1        NaN       24                          216   \n",
       "\n",
       "   visitor_hist_starrating  visitor_hist_adr_usd  prop_country_id  prop_id  \\\n",
       "0                      NaN                   NaN              219     3180   \n",
       "1                      NaN                   NaN              219     5543   \n",
       "2                      NaN                   NaN              219    14142   \n",
       "3                      NaN                   NaN              219    22393   \n",
       "4                      NaN                   NaN              219    24194   \n",
       "\n",
       "   prop_brand_bool  srch_destination_id  ...  price_per_person  \\\n",
       "0                1                19222  ...              59.5   \n",
       "1                1                19222  ...              59.0   \n",
       "2                1                19222  ...              24.5   \n",
       "3                1                19222  ...              71.5   \n",
       "4                1                19222  ...              39.5   \n",
       "\n",
       "   avg_price_per_day        ump  price_diff  starrating_diff  total_price  \\\n",
       "0              119.0  33.933013         NaN              NaN        119.0   \n",
       "1              118.0  20.379512         NaN              NaN        118.0   \n",
       "2               49.0  15.071523         NaN              NaN         49.0   \n",
       "3              143.0   9.933013         NaN              NaN        143.0   \n",
       "4               79.0  33.168253         NaN              NaN         79.0   \n",
       "\n",
       "   score2ma  promotion_count  promotion_any      pred  \n",
       "0       NaN                6              1 -5.039828  \n",
       "1       NaN                6              1 -5.001843  \n",
       "2       NaN                6              1 -4.660777  \n",
       "3       NaN                6              1 -4.574502  \n",
       "4       NaN                6              1 -4.570467  \n",
       "\n",
       "[5 rows x 32 columns]"
      ]
     },
     "execution_count": 18,
     "metadata": {},
     "output_type": "execute_result"
    }
   ],
   "source": [
    "test_set.head()"
   ]
  },
  {
   "cell_type": "code",
   "execution_count": 96,
   "metadata": {},
   "outputs": [],
   "source": [
    "drop_cols = ['srch_id','prop_id']\n",
    "grouped = eval_models_partions(models_full, split_eval, ncdg=False, drop_cols=drop_cols)"
   ]
  },
  {
   "cell_type": "code",
   "execution_count": 100,
   "metadata": {},
   "outputs": [
    {
     "data": {
      "text/html": [
       "<div>\n",
       "<style scoped>\n",
       "    .dataframe tbody tr th:only-of-type {\n",
       "        vertical-align: middle;\n",
       "    }\n",
       "\n",
       "    .dataframe tbody tr th {\n",
       "        vertical-align: top;\n",
       "    }\n",
       "\n",
       "    .dataframe thead th {\n",
       "        text-align: right;\n",
       "    }\n",
       "</style>\n",
       "<table border=\"1\" class=\"dataframe\">\n",
       "  <thead>\n",
       "    <tr style=\"text-align: right;\">\n",
       "      <th></th>\n",
       "      <th>srch_id</th>\n",
       "      <th>prop_id</th>\n",
       "    </tr>\n",
       "    <tr>\n",
       "      <th>srch_id</th>\n",
       "      <th></th>\n",
       "      <th></th>\n",
       "    </tr>\n",
       "  </thead>\n",
       "  <tbody>\n",
       "    <tr>\n",
       "      <th>1</th>\n",
       "      <td>1</td>\n",
       "      <td>89466</td>\n",
       "    </tr>\n",
       "    <tr>\n",
       "      <th>1</th>\n",
       "      <td>1</td>\n",
       "      <td>37567</td>\n",
       "    </tr>\n",
       "    <tr>\n",
       "      <th>1</th>\n",
       "      <td>1</td>\n",
       "      <td>128871</td>\n",
       "    </tr>\n",
       "    <tr>\n",
       "      <th>1</th>\n",
       "      <td>1</td>\n",
       "      <td>134992</td>\n",
       "    </tr>\n",
       "    <tr>\n",
       "      <th>1</th>\n",
       "      <td>1</td>\n",
       "      <td>128085</td>\n",
       "    </tr>\n",
       "  </tbody>\n",
       "</table>\n",
       "</div>"
      ],
      "text/plain": [
       "         srch_id prop_id\n",
       "srch_id                 \n",
       "1              1   89466\n",
       "1              1   37567\n",
       "1              1  128871\n",
       "1              1  134992\n",
       "1              1  128085"
      ]
     },
     "execution_count": 100,
     "metadata": {},
     "output_type": "execute_result"
    }
   ],
   "source": [
    "submission = grouped.explode('prop_id')\n",
    "submission['srch_id'] = submission.index\n",
    "submission = submission[['srch_id', 'prop_id']]\n",
    "\n",
    "assert len(submission) == len(test_set)\n",
    "\n",
    "submission.head()"
   ]
  },
  {
   "cell_type": "code",
   "execution_count": 98,
   "metadata": {},
   "outputs": [],
   "source": [
    "submission.to_csv('submit/submission.csv', index=False)"
   ]
  },
  {
   "cell_type": "markdown",
   "metadata": {},
   "source": [
    "# old stuff for single model"
   ]
  },
  {
   "cell_type": "code",
   "execution_count": null,
   "metadata": {},
   "outputs": [],
   "source": [
    "test_set_dmatrix = xg.DMatrix(test_set.drop(['srch_id'], axis=1), group=test_set['srch_id'].value_counts().sort_index().values)\n",
    "test_set['pred'] = model.predict(test_set_dmatrix)\n",
    "\n",
    "# same as earlier, without need for calculating the ndcg, so less steps\n",
    "submission = test_set.sort_values(['srch_id', 'pred'], ascending=[True, False])[['srch_id', 'prop_id']]\n",
    "submission.to_csv('submit/submission.csv', index=False)"
   ]
  },
  {
   "cell_type": "code",
   "execution_count": null,
   "metadata": {},
   "outputs": [],
   "source": [
    "test_set = pl.read_csv('../data/preprocessed/engineered_test_set.csv')\n",
    "shuffled_test_set = test_set.sort(['srch_id', 'price_per_person'], descending=[False, True])[['srch_id', 'prop_id']]\n"
   ]
  },
  {
   "cell_type": "code",
   "execution_count": null,
   "metadata": {},
   "outputs": [],
   "source": [
    "shuffled_test_set.write_csv('submit/submission.csv')"
   ]
  },
  {
   "cell_type": "code",
   "execution_count": null,
   "metadata": {},
   "outputs": [],
   "source": [
    "# srch_ids = test_set['srch_id'].unique()\n",
    "\n",
    "# # Create an empty DataFrame to store the predictions\n",
    "# submission_df = pd.DataFrame(columns=['srch_id', 'prop_id'])\n",
    "\n",
    "# #  Unique srch_ids in the test set\n",
    "# srch_ids = test_set['srch_id'].unique()\n",
    "\n",
    "# # Pre-allocate a list to collect results\n",
    "# results = []\n",
    "\n",
    "# # Iterate over each srch_id and make predictions\n",
    "# for srch_id in tqdm(srch_ids):\n",
    "#     # Get the data for the current srch_id\n",
    "#     srch_data = test_set[test_set['srch_id'] == srch_id]\n",
    "\n",
    "#     # Create DMatrix for the current srch_id\n",
    "#     srch_dmatrix = xg.DMatrix(srch_data.drop(['srch_id'], axis=1))\n",
    "\n",
    "#     # Make predictions for the current srch_id\n",
    "#     srch_pred = model.predict(srch_dmatrix)\n",
    "\n",
    "#     # Get the corresponding prop_ids for the current srch_id\n",
    "#     srch_prop_ids = srch_data['prop_id'].values\n",
    "\n",
    "#     # Sort the prop_ids based on the predicted scores\n",
    "#     sorted_indices = np.argsort(srch_pred)[::-1]\n",
    "#     sorted_prop_ids = srch_prop_ids[sorted_indices]\n",
    "\n",
    "#     # Collect the results for the current srch_id\n",
    "#     results.append(pd.DataFrame({'srch_id': srch_id, 'prop_id': sorted_prop_ids}))\n",
    "\n",
    "# # Concatenate all results into a single DataFrame\n",
    "# submission_df = pd.concat(results, ignore_index=True)\n",
    "\n",
    "\n",
    "# # Check final submission DataFrame size\n",
    "# print(f\"Expected number of entries: {len(test_set)}\")\n",
    "# print(f\"Actual number of entries: {len(submission_df)}\")\n",
    "\n",
    "# # Save the submission DataFrame to a CSV file\n",
    "# submission_df.to_csv('submit/submission.csv', index=False)"
   ]
  }
 ],
 "metadata": {
  "kernelspec": {
   "display_name": "ComputationalEnv",
   "language": "python",
   "name": "python3"
  },
  "language_info": {
   "codemirror_mode": {
    "name": "ipython",
    "version": 3
   },
   "file_extension": ".py",
   "mimetype": "text/x-python",
   "name": "python",
   "nbconvert_exporter": "python",
   "pygments_lexer": "ipython3",
   "version": "3.11.8"
  }
 },
 "nbformat": 4,
 "nbformat_minor": 2
}
