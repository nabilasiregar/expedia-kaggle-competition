{
 "cells": [
  {
   "cell_type": "code",
   "execution_count": 26,
   "metadata": {},
   "outputs": [],
   "source": [
    "import xgboost as xg\n",
    "# import dask.dataframe as dd\n",
    "import polars as pl\n",
    "import numpy as np\n",
    "from sklearn.model_selection import train_test_split\n",
    "import pandas as pd\n",
    "from tqdm.notebook import tqdm\n",
    "import matplotlib.pyplot as plt"
   ]
  },
  {
   "cell_type": "code",
   "execution_count": 27,
   "metadata": {},
   "outputs": [],
   "source": [
    "\n",
    "#For making pretty LaTeX plots\n",
    "plt.rcParams.update({\n",
    "    \"font.family\": \"serif\",\n",
    "    \"font.size\": 18,\n",
    "    \"axes.titlesize\": 18,\n",
    "    \"axes.labelsize\": 14,\n",
    "    \"xtick.labelsize\": 12,\n",
    "    \"ytick.labelsize\": 12,\n",
    "    \"legend.fontsize\": 12,\n",
    "    \"figure.figsize\": (8, 6),\n",
    "    \"figure.dpi\": 100,\n",
    "    \"savefig.dpi\": 200,\n",
    "    \"savefig.format\": \"png\",\n",
    "    \"savefig.transparent\": True,\n",
    "    \"axes.grid\": True,\n",
    "    \"grid.linewidth\": 0.5,\n",
    "    \"grid.linestyle\": \"--\",\n",
    "    \"grid.color\": \"0.8\",\n",
    "    \"image.cmap\": \"Blues\",\n",
    "    \"lines.linewidth\": 1.5,\n",
    "    \"lines.markersize\": 6,\n",
    "    \"text.usetex\": True, \"mathtext.fontset\": \"cm\",\n",
    "    \"pgf.preamble\": r\"\\usepackage[utf8]{inputenc}\\usepackage[T1]{fontenc}\\usepackage{cmbright}\"\n",
    "})"
   ]
  },
  {
   "cell_type": "code",
   "execution_count": 28,
   "metadata": {},
   "outputs": [
    {
     "data": {
      "text/html": [
       "<div><style>\n",
       ".dataframe > thead > tr,\n",
       ".dataframe > tbody > tr {\n",
       "  text-align: right;\n",
       "  white-space: pre-wrap;\n",
       "}\n",
       "</style>\n",
       "<small>shape: (4_958_347, 38)</small><table border=\"1\" class=\"dataframe\"><thead><tr><th>srch_id</th><th>date_time</th><th>site_id</th><th>visitor_location_country_id</th><th>visitor_hist_starrating</th><th>visitor_hist_adr_usd</th><th>prop_country_id</th><th>prop_id</th><th>prop_brand_bool</th><th>prop_location_score2</th><th>position</th><th>srch_destination_id</th><th>srch_booking_window</th><th>srch_saturday_night_bool</th><th>srch_query_affinity_score</th><th>orig_destination_distance</th><th>random_bool</th><th>click_bool</th><th>gross_bookings_usd</th><th>booking_bool</th><th>has_hist_starrating</th><th>has_hist_adr_usd</th><th>score1d2</th><th>normalized_prop_starrating</th><th>normalized_score1d2</th><th>normalized_prop_review_score</th><th>hotel_quality</th><th>normalized_hotel_quality</th><th>price_per_person</th><th>avg_price_per_day</th><th>ump</th><th>price_diff</th><th>starrating_diff</th><th>total_price</th><th>promotion_count</th><th>promotion_any</th><th>price_rank</th><th>star_rank</th></tr><tr><td>i64</td><td>str</td><td>i64</td><td>i64</td><td>str</td><td>str</td><td>i64</td><td>i64</td><td>i64</td><td>f64</td><td>i64</td><td>i64</td><td>i64</td><td>i64</td><td>str</td><td>f64</td><td>i64</td><td>i64</td><td>f64</td><td>i64</td><td>i64</td><td>i64</td><td>f64</td><td>f64</td><td>f64</td><td>f64</td><td>f64</td><td>f64</td><td>f64</td><td>f64</td><td>f64</td><td>str</td><td>str</td><td>f64</td><td>i64</td><td>i64</td><td>i64</td><td>i64</td></tr></thead><tbody><tr><td>1</td><td>null</td><td>12</td><td>187</td><td>null</td><td>null</td><td>219</td><td>893</td><td>1</td><td>0.0438</td><td>27</td><td>23246</td><td>0</td><td>1</td><td>null</td><td>null</td><td>1</td><td>0</td><td>null</td><td>0</td><td>0</td><td>0</td><td>0.015512</td><td>-0.093204</td><td>-0.193586</td><td>0.016094</td><td>-0.100568</td><td>0.499887</td><td>26.1925</td><td>104.77</td><td>36.404964</td><td>null</td><td>null</td><td>104.77</td><td>1</td><td>1</td><td>3</td><td>2</td></tr><tr><td>1</td><td>null</td><td>12</td><td>187</td><td>null</td><td>null</td><td>219</td><td>10404</td><td>1</td><td>0.0149</td><td>26</td><td>23246</td><td>0</td><td>1</td><td>null</td><td>null</td><td>1</td><td>0</td><td>null</td><td>0</td><td>0</td><td>0</td><td>0.006818</td><td>1.211655</td><td>-0.702177</td><td>0.466714</td><td>0.22264</td><td>0.537972</td><td>42.685</td><td>170.74</td><td>-17.806987</td><td>null</td><td>null</td><td>170.74</td><td>1</td><td>1</td><td>14</td><td>1</td></tr><tr><td>1</td><td>null</td><td>12</td><td>187</td><td>null</td><td>null</td><td>219</td><td>21315</td><td>1</td><td>0.0245</td><td>21</td><td>23246</td><td>0</td><td>1</td><td>null</td><td>null</td><td>1</td><td>0</td><td>null</td><td>0</td><td>0</td><td>0</td><td>0.011181</td><td>-0.093204</td><td>-0.446918</td><td>0.917334</td><td>0.068471</td><td>0.519805</td><td>44.95</td><td>179.8</td><td>-42.797387</td><td>null</td><td>null</td><td>179.8</td><td>1</td><td>1</td><td>15</td><td>2</td></tr><tr><td>1</td><td>null</td><td>12</td><td>187</td><td>null</td><td>null</td><td>219</td><td>27348</td><td>1</td><td>0.0125</td><td>34</td><td>23246</td><td>0</td><td>1</td><td>null</td><td>null</td><td>1</td><td>0</td><td>null</td><td>0</td><td>0</td><td>0</td><td>0.004452</td><td>-1.398064</td><td>-0.84057</td><td>0.466714</td><td>-0.615633</td><td>0.439194</td><td>150.6925</td><td>602.77</td><td>-522.129581</td><td>null</td><td>null</td><td>602.77</td><td>1</td><td>1</td><td>22</td><td>3</td></tr><tr><td>1</td><td>null</td><td>12</td><td>187</td><td>null</td><td>null</td><td>219</td><td>29604</td><td>1</td><td>0.1241</td><td>4</td><td>23246</td><td>0</td><td>1</td><td>null</td><td>null</td><td>1</td><td>0</td><td>null</td><td>0</td><td>0</td><td>0</td><td>0.047044</td><td>1.211655</td><td>1.651007</td><td>0.016094</td><td>1.028727</td><td>0.632957</td><td>35.895</td><td>143.58</td><td>-5.200488</td><td>null</td><td>null</td><td>143.58</td><td>1</td><td>1</td><td>11</td><td>1</td></tr><tr><td>&hellip;</td><td>&hellip;</td><td>&hellip;</td><td>&hellip;</td><td>&hellip;</td><td>&hellip;</td><td>&hellip;</td><td>&hellip;</td><td>&hellip;</td><td>&hellip;</td><td>&hellip;</td><td>&hellip;</td><td>&hellip;</td><td>&hellip;</td><td>&hellip;</td><td>&hellip;</td><td>&hellip;</td><td>&hellip;</td><td>&hellip;</td><td>&hellip;</td><td>&hellip;</td><td>&hellip;</td><td>&hellip;</td><td>&hellip;</td><td>&hellip;</td><td>&hellip;</td><td>&hellip;</td><td>&hellip;</td><td>&hellip;</td><td>&hellip;</td><td>&hellip;</td><td>&hellip;</td><td>&hellip;</td><td>&hellip;</td><td>&hellip;</td><td>&hellip;</td><td>&hellip;</td><td>&hellip;</td></tr><tr><td>332785</td><td>null</td><td>5</td><td>219</td><td>null</td><td>null</td><td>219</td><td>77700</td><td>1</td><td>0.0471</td><td>2</td><td>16974</td><td>21</td><td>0</td><td>null</td><td>550.92</td><td>0</td><td>0</td><td>null</td><td>0</td><td>0</td><td>0</td><td>0.029315</td><td>0.0</td><td>-0.035405</td><td>0.475379</td><td>0.128452</td><td>0.526873</td><td>39.333333</td><td>118.0</td><td>-117.0</td><td>null</td><td>null</td><td>118.0</td><td>0</td><td>0</td><td>5</td><td>1</td></tr><tr><td>332785</td><td>null</td><td>5</td><td>219</td><td>null</td><td>null</td><td>219</td><td>88083</td><td>1</td><td>0.152</td><td>3</td><td>16974</td><td>21</td><td>0</td><td>null</td><td>553.14</td><td>0</td><td>0</td><td>null</td><td>0</td><td>0</td><td>0</td><td>0.077996</td><td>0.0</td><td>1.89005</td><td>0.475379</td><td>0.898634</td><td>0.617627</td><td>29.666667</td><td>89.0</td><td>-88.0</td><td>null</td><td>null</td><td>89.0</td><td>0</td><td>0</td><td>2</td><td>1</td></tr><tr><td>332785</td><td>null</td><td>5</td><td>219</td><td>null</td><td>null</td><td>219</td><td>94508</td><td>1</td><td>0.0164</td><td>4</td><td>16974</td><td>21</td><td>0</td><td>null</td><td>544.43</td><td>0</td><td>0</td><td>null</td><td>0</td><td>0</td><td>0</td><td>0.014999</td><td>0.0</td><td>-0.60165</td><td>0.118845</td><td>-0.205007</td><td>0.48758</td><td>33.0</td><td>99.0</td><td>-98.0</td><td>null</td><td>null</td><td>99.0</td><td>0</td><td>0</td><td>3</td><td>1</td></tr><tr><td>332785</td><td>null</td><td>5</td><td>219</td><td>null</td><td>null</td><td>219</td><td>128360</td><td>1</td><td>0.0662</td><td>1</td><td>16974</td><td>21</td><td>0</td><td>null</td><td>550.38</td><td>0</td><td>1</td><td>157.84</td><td>1</td><td>0</td><td>0</td><td>0.033998</td><td>0.0</td><td>0.149832</td><td>1.188448</td><td>0.416467</td><td>0.560811</td><td>46.333333</td><td>139.0</td><td>-138.0</td><td>null</td><td>null</td><td>139.0</td><td>0</td><td>0</td><td>6</td><td>1</td></tr><tr><td>332785</td><td>null</td><td>5</td><td>219</td><td>null</td><td>null</td><td>219</td><td>134949</td><td>1</td><td>0.0182</td><td>6</td><td>16974</td><td>21</td><td>0</td><td>null</td><td>583.25</td><td>0</td><td>0</td><td>null</td><td>0</td><td>0</td><td>0</td><td>0.016635</td><td>0.0</td><td>-0.536934</td><td>-0.594224</td><td>-0.393041</td><td>0.465423</td><td>20.333333</td><td>61.0</td><td>-60.0</td><td>null</td><td>null</td><td>61.0</td><td>0</td><td>0</td><td>1</td><td>1</td></tr></tbody></table></div>"
      ],
      "text/plain": [
       "shape: (4_958_347, 38)\n",
       "┌─────────┬───────────┬─────────┬────────────┬───┬────────────┬────────────┬───────────┬───────────┐\n",
       "│ srch_id ┆ date_time ┆ site_id ┆ visitor_lo ┆ … ┆ promotion_ ┆ promotion_ ┆ price_ran ┆ star_rank │\n",
       "│ ---     ┆ ---       ┆ ---     ┆ cation_cou ┆   ┆ count      ┆ any        ┆ k         ┆ ---       │\n",
       "│ i64     ┆ str       ┆ i64     ┆ ntry_id    ┆   ┆ ---        ┆ ---        ┆ ---       ┆ i64       │\n",
       "│         ┆           ┆         ┆ ---        ┆   ┆ i64        ┆ i64        ┆ i64       ┆           │\n",
       "│         ┆           ┆         ┆ i64        ┆   ┆            ┆            ┆           ┆           │\n",
       "╞═════════╪═══════════╪═════════╪════════════╪═══╪════════════╪════════════╪═══════════╪═══════════╡\n",
       "│ 1       ┆ null      ┆ 12      ┆ 187        ┆ … ┆ 1          ┆ 1          ┆ 3         ┆ 2         │\n",
       "│ 1       ┆ null      ┆ 12      ┆ 187        ┆ … ┆ 1          ┆ 1          ┆ 14        ┆ 1         │\n",
       "│ 1       ┆ null      ┆ 12      ┆ 187        ┆ … ┆ 1          ┆ 1          ┆ 15        ┆ 2         │\n",
       "│ 1       ┆ null      ┆ 12      ┆ 187        ┆ … ┆ 1          ┆ 1          ┆ 22        ┆ 3         │\n",
       "│ 1       ┆ null      ┆ 12      ┆ 187        ┆ … ┆ 1          ┆ 1          ┆ 11        ┆ 1         │\n",
       "│ …       ┆ …         ┆ …       ┆ …          ┆ … ┆ …          ┆ …          ┆ …         ┆ …         │\n",
       "│ 332785  ┆ null      ┆ 5       ┆ 219        ┆ … ┆ 0          ┆ 0          ┆ 5         ┆ 1         │\n",
       "│ 332785  ┆ null      ┆ 5       ┆ 219        ┆ … ┆ 0          ┆ 0          ┆ 2         ┆ 1         │\n",
       "│ 332785  ┆ null      ┆ 5       ┆ 219        ┆ … ┆ 0          ┆ 0          ┆ 3         ┆ 1         │\n",
       "│ 332785  ┆ null      ┆ 5       ┆ 219        ┆ … ┆ 0          ┆ 0          ┆ 6         ┆ 1         │\n",
       "│ 332785  ┆ null      ┆ 5       ┆ 219        ┆ … ┆ 0          ┆ 0          ┆ 1         ┆ 1         │\n",
       "└─────────┴───────────┴─────────┴────────────┴───┴────────────┴────────────┴───────────┴───────────┘"
      ]
     },
     "metadata": {},
     "output_type": "display_data"
    }
   ],
   "source": [
    "data = pl.read_csv('../data/preprocessed/engineered_train_set.csv')\n",
    "display(data)"
   ]
  },
  {
   "cell_type": "code",
   "execution_count": 29,
   "metadata": {},
   "outputs": [
    {
     "data": {
      "text/plain": [
       "Text(0.5, 1.0, 'Histogram of prop_country_id')"
      ]
     },
     "execution_count": 29,
     "metadata": {},
     "output_type": "execute_result"
    },
    {
     "data": {
      "image/png": "[encoded data removed]",
      "text/plain": [
       "<Figure size 1200x600 with 1 Axes>"
      ]
     },
     "metadata": {},
     "output_type": "display_data"
    }
   ],
   "source": [
    "# hist of prop_country_id\n",
    "count = data['prop_country_id'].value_counts()\n",
    "\n",
    "plt.figure(figsize=(12, 6))\n",
    "plt.bar(count['prop_country_id'], count['count'])\n",
    "plt.xlabel('prop_country_id')\n",
    "plt.ylabel('count')\n",
    "plt.title('Histogram of prop_country_id')"
   ]
  },
  {
   "cell_type": "markdown",
   "metadata": {},
   "source": [
    "The following code is very messy, but essentially, all you need to do is choose a number of partitions, after which the variable `partition_list` will be a list of np.arrays, each of which are the `prop_country_id`'s for one partitions. Then you can train a model on each partition"
   ]
  },
  {
   "cell_type": "code",
   "execution_count": 30,
   "metadata": {},
   "outputs": [
    {
     "name": "stdout",
     "output_type": "stream",
     "text": [
      "Count for partion  1: 3030125\n",
      "Count for partion  2: 157307\n",
      "Count for partion  3: 160830\n",
      "Count for partion  4: 58703\n",
      "Count for partion  5: 188564\n",
      "Count for partion  6: 155507\n",
      "Count for partion  7: 0\n",
      "Count for partion  8: 401258\n",
      "Count for partion  9: 124191\n",
      "Count for partion 10: 138753\n",
      "Count for partion 11: 211331\n",
      "Count for partion 12: 170835\n",
      "Count for partion 13: 160943\n"
     ]
    }
   ],
   "source": [
    "partitions = 12\n",
    "partitions_list = [np.array([219])]\n",
    "countries = count['prop_country_id'].to_numpy()\n",
    "indx = countries != 219\n",
    "countries = countries[indx]\n",
    "count_array = count['count'].to_numpy()\n",
    "\n",
    "\n",
    "# We take a cumsum, and get the indices at which we should split the data, sometimes we get empty partitions\n",
    "count_array = count_array[indx]\n",
    "cum_sum = np.cumsum(count_array)\n",
    "total = cum_sum[-1]\n",
    "partition_size = total // partitions\n",
    "for i in range(0, partitions):\n",
    "    idx_min = np.argmax(cum_sum >= partition_size * i)\n",
    "    idx_max = np.argmax(cum_sum > partition_size * (i + 1))\n",
    "    if i == partitions - 1:\n",
    "        partitions_list.append(countries[idx_min:])\n",
    "    else:\n",
    "        partitions_list.append(countries[idx_min:idx_max])\n",
    "\n",
    "# For printing and getting all the empty partitions\n",
    "counts = 0\n",
    "zeros = []\n",
    "for i, part in enumerate(partitions_list):\n",
    "    countries = count.filter(count['prop_country_id'].is_in(part))\n",
    "    part_count = countries['count']\n",
    "    counts += sum(part_count)\n",
    "    if i < 9:\n",
    "        print(f'Count for partion  {i+1}: {sum(part_count)}')\n",
    "    else:\n",
    "        print(f'Count for partion {i+1}: {sum(part_count)}')\n",
    "\n",
    "    if sum(part_count) == 0:\n",
    "        zeros.append(0)\n",
    "    else:\n",
    "        zeros.append(1)\n",
    "\n",
    "# Remove empty partitions\n",
    "partitions_list = [x for i, x in enumerate(partitions_list) if zeros[i] == 1]\n",
    "\n",
    "assert counts == sum(count['count']), f'Expected {sum(count[\"count\"])} but got {counts}'"
   ]
  },
  {
   "cell_type": "code",
   "execution_count": 31,
   "metadata": {},
   "outputs": [],
   "source": [
    "def split_data_set(data, partitions_list):\n",
    "    data_partitions = []\n",
    "    for part in partitions_list:\n",
    "        data_partitions.append(data.loc[data['prop_country_id'].isin(part)])\n",
    "    return data_partitions\n"
   ]
  },
  {
   "cell_type": "code",
   "execution_count": 32,
   "metadata": {},
   "outputs": [],
   "source": [
    "data = data.sort(['srch_id', 'booking_bool', 'click_bool'], descending=[False, True, True])"
   ]
  },
  {
   "cell_type": "code",
   "execution_count": 33,
   "metadata": {},
   "outputs": [],
   "source": [
    "# Convert polars DataFrames to pandas DataFrames\n",
    "data_pd = data.to_pandas()\n",
    "data_pd['weight'] = 5 * data_pd['booking_bool'] + data_pd['click_bool']\n",
    "# replace all NULL values with np.nan\n",
    "data_pd = data_pd.replace('NULL', np.nan)\n",
    "ranking_pd = data_pd[['srch_id', 'prop_id']]\n",
    "\n",
    "# Convert object columns to appropriate data types\n",
    "object_columns = data_pd.select_dtypes(include=['object']).columns\n",
    "data_pd[object_columns] = data_pd[object_columns].apply(pd.to_numeric, errors='coerce')\n",
    "\n",
    "# Split the data into features (X) and target (y)\n",
    "X = data_pd.drop(['srch_id'], axis=1)\n",
    "y = ranking_pd['prop_id']\n",
    "\n",
    "\n",
    "# Split the data into training and testing sets based on srch_id\n",
    "srch_ids = data_pd['srch_id'].unique()\n",
    "train_srch_ids, test_srch_ids = train_test_split(srch_ids, test_size=0.2, random_state=42)\n",
    "\n",
    "# Create training and testing DataFrames\n",
    "train_data = data_pd[data_pd['srch_id'] % 10 != 1]\n",
    "test_data = data_pd[data_pd['srch_id'] % 10 == 1]\n",
    "\n",
    "features = [col for col in data.columns if col not in ['srch_id', 'prop_id', 'booking_bool', 'click_bool', 'gross_bookings_usd', 'position', 'relevance_grade', 'date_time', 'orig_destination_distance']]\n",
    "data = data[features]\n",
    "\n",
    "split_train = split_data_set(train_data, partitions_list)\n",
    "split_test = split_data_set(test_data, partitions_list)\n",
    "split_full = split_data_set(data_pd, partitions_list)"
   ]
  },
  {
   "cell_type": "code",
   "execution_count": 34,
   "metadata": {},
   "outputs": [],
   "source": [
    "def train_model(data, params, num_boost, drop_cols):\n",
    "    # Create XGBoost DMatrix objects for training and testing\n",
    "    train_dmatrix = xg.DMatrix(\n",
    "        data.drop(drop_cols, axis=1),\n",
    "        label=data['weight'],\n",
    "        qid=data['srch_id']\n",
    "    )\n",
    "    \n",
    "    return xg.train(params, train_dmatrix, num_boost_round=num_boost)\n",
    "\n",
    "\n",
    "def dcg_at_k(r, k, method=1):\n",
    "    r = np.asfarray(r)[:k]\n",
    "    if r.size:\n",
    "        if method == 1:\n",
    "            return r[0] + np.sum(r[1:] / np.log2(np.arange(2, r.size + 1)))\n",
    "        else:\n",
    "            return np.sum(r / np.log2(np.arange(2, r.size + 2)))\n",
    "    return 0.\n",
    "\n",
    "\n",
    "def ndcg_at_k(r, k, method=1):\n",
    "    dcg_max = dcg_at_k(sorted(r, reverse=True), k, method)\n",
    "    if not dcg_max:\n",
    "        return 0.\n",
    "    return dcg_at_k(r, k, method) / dcg_max\n",
    "\n",
    "\n",
    "def calculate_grades(data):\n",
    "    data['grade'] = np.where(data['booking_bool'] == 1, 5,\n",
    "                             np.where(data['click_bool'] == 1, 1, 0))\n",
    "    return data\n",
    "\n",
    "\n",
    "def predict_and_evaluate(model, dmatrix, t_data, ndcg=True):\n",
    "    test_pred = model.predict(dmatrix)\n",
    "    results_data = t_data.copy()\n",
    "    results_data['pred'] = test_pred\n",
    "\n",
    "    # Assign grades based on booking and clicking\n",
    "    if ndcg:\n",
    "        results_data = calculate_grades(results_data)\n",
    "\n",
    "    # Sort predictions with highest probability first\n",
    "    ordered_results = results_data.sort_values(['srch_id', 'pred'], ascending=[True, False])\n",
    "    if ndcg:\n",
    "        grouped = ordered_results.groupby('srch_id')['grade'].apply(list).reset_index()\n",
    "\n",
    "        ndcg_scores = grouped['grade'].apply(lambda grades: ndcg_at_k(grades, 5))\n",
    "        mean_ndcg = ndcg_scores.mean()\n",
    "        print(f'Mean NDCG: {mean_ndcg}')\n",
    "    \n",
    "    return ordered_results[['srch_id', 'pred', 'prop_id']], mean_ndcg if ndcg else None\n",
    "\n",
    "\n",
    "def eval_models_partions(models, split_test, drop_cols, ndcg=True):\n",
    "    df = pd.DataFrame()\n",
    "    mean_ndcgs = []\n",
    "    for model, part in zip(models, split_test):\n",
    "        dmat = xg.DMatrix(\n",
    "            part.drop(drop_cols, axis=1), \n",
    "            group=part['srch_id'].value_counts().sort_index().values\n",
    ")\n",
    "        grouped, mean = predict_and_evaluate(model, dmat, part, ndcg=ndcg)\n",
    "\n",
    "        df = pd.concat([df, grouped])\n",
    "        if ndcg:\n",
    "            mean_ndcgs.append(mean*len(part))\n",
    "    return df, mean_ndcgs\n",
    "\n",
    "\n",
    "def train_models(split_train, params, num_boost, drop_cols):\n",
    "    models = []\n",
    "    for part in tqdm(split_train):\n",
    "        model = train_model(part, params, num_boost, drop_cols)\n",
    "        models.append(model)\n",
    "    return models"
   ]
  },
  {
   "cell_type": "code",
   "execution_count": null,
   "metadata": {},
   "outputs": [],
   "source": []
  },
  {
   "cell_type": "code",
   "execution_count": 41,
   "metadata": {},
   "outputs": [
    {
     "data": {
      "application/vnd.jupyter.widget-view+json": {
       "model_id": "163e96d78830498fb4da355669e6c918",
       "version_major": 2,
       "version_minor": 0
      },
      "text/plain": [
       "  0%|          | 0/12 [00:00<?, ?it/s]"
      ]
     },
     "metadata": {},
     "output_type": "display_data"
    }
   ],
   "source": [
    "config_pair = {\n",
    "    'objective': 'rank:pairwise', # the objective, can also be rank:ndcg, but that is buggy\n",
    "    'lambdarank_pair_method': 'topk', # instead of looking at the mean, we look at the highest k\n",
    "    'lambdarank_num_pair_per_sample': 6, # set slightly higher than intended k\n",
    "    'eval_metric': 'ndcg',\n",
    "    'eta': 0.13963013806537555,\n",
    "    'max_depth': 9,\n",
    "    'subsample': 0.7038375178678972,\n",
    "    'colsample_bytree': 0.7015452447331039,\n",
    "    'seed': 42\n",
    "}\n",
    "\n",
    "config = {\n",
    "    'objective': 'rank:ndcg',\n",
    "    'eval_metric': 'ndcg@5',\n",
    "    'eta': 0.13963013806537555,\n",
    "    'max_depth': 9,\n",
    "    'subsample': 0.7038375178678972,\n",
    "    'colsample_bytree': 0.7015452447331039,\n",
    "    'seed': 42\n",
    "}\n",
    "\n",
    "drop_cols = ['srch_id','prop_id', 'booking_bool', 'gross_bookings_usd', 'position', 'click_bool', 'weight', 'date_time', 'orig_destination_distance']\n",
    "\n",
    "models_partions = train_models(split_train, config, 120, drop_cols)\n",
    "model_pair = xg.train(config_pair, xg.DMatrix(train_data.drop(drop_cols, axis=1), label=train_data['weight']), num_boost_round=120)\n"
   ]
  },
  {
   "cell_type": "code",
   "execution_count": 36,
   "metadata": {},
   "outputs": [],
   "source": [
    "model_ndcg = xg.Booster()\n",
    "model_ndcg.load_model('../scripts/models/final_model.json')"
   ]
  },
  {
   "cell_type": "code",
   "execution_count": 43,
   "metadata": {},
   "outputs": [
    {
     "name": "stdout",
     "output_type": "stream",
     "text": [
      "Mean NDCG: 0.44861920969351904\n",
      "Mean NDCG: 0.347954864656225\n",
      "Mean NDCG: 0.35699796754833013\n",
      "Mean NDCG: 0.3817991104488935\n",
      "Mean NDCG: 0.4540813474556002\n",
      "Mean NDCG: 0.3698617520896693\n",
      "Mean NDCG: 0.4030965196632455\n",
      "Mean NDCG: 0.42733943894057047\n",
      "Mean NDCG: 0.424908499506761\n",
      "Mean NDCG: 0.41103049036001477\n",
      "Mean NDCG: 0.3881138728236419\n",
      "Mean NDCG: 0.39542035180160945\n",
      "Mean NDCG: 0.3502865545905981\n",
      "Mean NDCG: 0.43635435912137094\n",
      "\\begin{tabular}{lr}\n",
      "\\toprule\n",
      "Model & Mean NDCG \\\\\n",
      "\\midrule\n",
      "Pairwise & 0.350287 \\\\\n",
      "NDCG & 0.436354 \\\\\n",
      "Partitions & 0.429313 \\\\\n",
      "\\bottomrule\n",
      "\\end{tabular}\n",
      "\n"
     ]
    }
   ],
   "source": [
    "# Evaluate the models\n",
    "_, part_means = eval_models_partions(models_partions, split_test, drop_cols)\n",
    "_, mean_pair = predict_and_evaluate(model_pair, xg.DMatrix(test_data.drop(drop_cols, axis=1)), test_data)\n",
    "_, mean_ndcg = predict_and_evaluate(model_ndcg, xg.DMatrix(test_data.drop(drop_cols, axis=1)), test_data, ndcg=True)\n",
    "\n",
    "part_mean_performance = sum(part_means) / len(test_data)\n",
    "\n",
    "df = pd.DataFrame({\n",
    "    'Model': ['Pairwise', 'NDCG', 'Partitions'],\n",
    "    'Mean NDCG': [mean_pair, mean_ndcg, part_mean_performance]\n",
    "})\n",
    "\n",
    "\n",
    "print(df.to_latex(index=False))\n"
   ]
  },
  {
   "cell_type": "code",
   "execution_count": null,
   "metadata": {},
   "outputs": [],
   "source": [
    "# Full training\n",
    "models_full = train_models(split_full, config, 120, drop_cols)"
   ]
  },
  {
   "cell_type": "code",
   "execution_count": null,
   "metadata": {},
   "outputs": [],
   "source": [
    "# save the model\n",
    "\n",
    "\n",
    "for i, model in enumerate(models_full):\n",
    "    model.save_model(f'models/model_{i}.json')\n",
    "# load the model\n",
    "models_full = [xg.Booster() for i in range(len(partitions_list))]\n",
    "[models_full[i].load_model(f'models/model_{i}.json') for i in range(len(models_full))]\n"
   ]
  },
  {
   "cell_type": "code",
   "execution_count": null,
   "metadata": {},
   "outputs": [],
   "source": [
    "test_set = pl.read_csv('../data/preprocessed/engineered_test_set.csv')\n",
    "test_set = test_set.to_pandas()\n",
    "test_set = test_set.replace('NULL', np.nan)\n",
    "\n",
    "object_columns = test_set.select_dtypes(include=['object']).columns\n",
    "test_set[object_columns] = test_set[object_columns].apply(pd.to_numeric, errors='coerce')\n",
    "\n",
    "split_eval = split_data_set(test_set, partitions_list)\n",
    "\n",
    "assert sum([len(x) for x in split_eval]) == len(test_set)"
   ]
  },
  {
   "cell_type": "code",
   "execution_count": null,
   "metadata": {},
   "outputs": [],
   "source": [
    "test_set.head()"
   ]
  },
  {
   "cell_type": "code",
   "execution_count": null,
   "metadata": {},
   "outputs": [],
   "source": [
    "drop_cols = ['srch_id','prop_id']\n",
    "grouped, mean = eval_models_partions(models_full, split_eval, ndcg=False, drop_cols=drop_cols)"
   ]
  },
  {
   "cell_type": "code",
   "execution_count": null,
   "metadata": {},
   "outputs": [],
   "source": [
    "submission = grouped[['srch_id', 'prop_id']]\n",
    "\n",
    "assert len(submission) == len(test_set)\n",
    "\n",
    "submission.head()"
   ]
  },
  {
   "cell_type": "code",
   "execution_count": null,
   "metadata": {},
   "outputs": [],
   "source": [
    "submission.to_csv('submit/submission.csv', index=False)"
   ]
  },
  {
   "cell_type": "markdown",
   "metadata": {},
   "source": [
    "# old stuff for single model"
   ]
  },
  {
   "cell_type": "markdown",
   "metadata": {},
   "source": [
    "\n",
    "test_set_dmatrix = xg.DMatrix(test_set.drop(['srch_id'], axis=1), group=test_set['srch_id'].value_counts().sort_index().values)\n",
    "test_set['pred'] = model.predict(test_set_dmatrix)\n",
    "\n",
    "# same as earlier, without need for calculating the ndcg, so less steps\n",
    "submission = test_set.sort_values(['srch_id', 'pred'], ascending=[True, False])[['srch_id', 'prop_id']]\n",
    "submission.to_csv('submit/submission.csv', index=False)"
   ]
  },
  {
   "cell_type": "markdown",
   "metadata": {},
   "source": [
    "test_set = pl.read_csv('../data/preprocessed/engineered_test_set.csv')\n",
    "shuffled_test_set = test_set.sort(['srch_id', 'price_per_person'], descending=[False, True])[['srch_id', 'prop_id']]\n"
   ]
  },
  {
   "cell_type": "markdown",
   "metadata": {},
   "source": [
    "shuffled_test_set.write_csv('submit/submission.csv')"
   ]
  }
 ],
 "metadata": {
  "kernelspec": {
   "display_name": "ComputationalEnv",
   "language": "python",
   "name": "python3"
  },
  "language_info": {
   "codemirror_mode": {
    "name": "ipython",
    "version": 3
   },
   "file_extension": ".py",
   "mimetype": "text/x-python",
   "name": "python",
   "nbconvert_exporter": "python",
   "pygments_lexer": "ipython3",
   "version": "3.11.8"
  }
 },
 "nbformat": 4,
 "nbformat_minor": 2
}
