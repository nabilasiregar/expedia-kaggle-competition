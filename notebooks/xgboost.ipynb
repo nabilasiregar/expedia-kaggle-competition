{
 "cells": [
  {
   "cell_type": "code",
   "execution_count": 1,
   "metadata": {},
   "outputs": [],
   "source": [
    "import xgboost as xg\n",
    "import polars as pl\n",
    "import numpy as np\n",
    "from sklearn.model_selection import train_test_split\n",
    "import pandas as pd\n",
    "from tqdm.notebook import tqdm"
   ]
  },
  {
   "cell_type": "code",
   "execution_count": 2,
   "metadata": {},
   "outputs": [],
   "source": [
    "def test_rankings(pred, order):\n",
    "    for srch in pred.srch_id.unique():\n",
    "        srch_pred = pred[pred.srch_id == srch]\n",
    "        srch_order = order[order.srch_id == srch]\n",
    "        assert len(srch_pred) == len(srch_order)\n",
    "        assert (srch_pred.prop_id == srch_order.prop_id).all()"
   ]
  },
  {
   "cell_type": "code",
   "execution_count": 3,
   "metadata": {},
   "outputs": [
    {
     "data": {
      "text/html": [
       "<div><style>\n",
       ".dataframe > thead > tr,\n",
       ".dataframe > tbody > tr {\n",
       "  text-align: right;\n",
       "  white-space: pre-wrap;\n",
       "}\n",
       "</style>\n",
       "<small>shape: (9, 36)</small><table border=\"1\" class=\"dataframe\"><thead><tr><th>statistic</th><th>srch_id</th><th>date_time</th><th>site_id</th><th>visitor_location_country_id</th><th>visitor_hist_starrating</th><th>visitor_hist_adr_usd</th><th>prop_country_id</th><th>prop_id</th><th>prop_brand_bool</th><th>position</th><th>srch_destination_id</th><th>srch_booking_window</th><th>srch_saturday_night_bool</th><th>orig_destination_distance</th><th>random_bool</th><th>click_bool</th><th>gross_bookings_usd</th><th>booking_bool</th><th>has_hist_starrating</th><th>has_hist_adr_usd</th><th>score1d2</th><th>normalized_prop_starrating</th><th>normalized_score1d2</th><th>normalized_prop_review_score</th><th>hotel_quality</th><th>normalized_hotel_quality</th><th>price_per_person</th><th>avg_price_per_day</th><th>ump</th><th>price_diff</th><th>starrating_diff</th><th>total_price</th><th>score2ma</th><th>promotion_count</th><th>promotion_any</th></tr><tr><td>str</td><td>f64</td><td>f64</td><td>f64</td><td>f64</td><td>f64</td><td>f64</td><td>f64</td><td>f64</td><td>f64</td><td>f64</td><td>f64</td><td>f64</td><td>f64</td><td>f64</td><td>f64</td><td>f64</td><td>f64</td><td>f64</td><td>f64</td><td>f64</td><td>f64</td><td>f64</td><td>f64</td><td>f64</td><td>f64</td><td>f64</td><td>f64</td><td>f64</td><td>f64</td><td>f64</td><td>f64</td><td>f64</td><td>f64</td><td>f64</td><td>f64</td></tr></thead><tbody><tr><td>&quot;count&quot;</td><td>4.953228e6</td><td>0.0</td><td>4.953228e6</td><td>4.953228e6</td><td>251792.0</td><td>252914.0</td><td>4.953228e6</td><td>4.953228e6</td><td>4.953228e6</td><td>4.953228e6</td><td>4.953228e6</td><td>4.953228e6</td><td>4.953228e6</td><td>3.348388e6</td><td>4.953228e6</td><td>4.953228e6</td><td>138275.0</td><td>4.953228e6</td><td>4.953228e6</td><td>4.953228e6</td><td>4.953228e6</td><td>4.953224e6</td><td>4.953224e6</td><td>4.953224e6</td><td>4.953224e6</td><td>4.953224e6</td><td>4.953228e6</td><td>4.953228e6</td><td>4.953228e6</td><td>252914.0</td><td>251792.0</td><td>4.953228e6</td><td>0.0</td><td>4.953228e6</td><td>4.953228e6</td></tr><tr><td>&quot;null_count&quot;</td><td>0.0</td><td>4.953228e6</td><td>0.0</td><td>0.0</td><td>4.701436e6</td><td>4.700314e6</td><td>0.0</td><td>0.0</td><td>0.0</td><td>0.0</td><td>0.0</td><td>0.0</td><td>0.0</td><td>1.60484e6</td><td>0.0</td><td>0.0</td><td>4.814953e6</td><td>0.0</td><td>0.0</td><td>0.0</td><td>0.0</td><td>4.0</td><td>4.0</td><td>4.0</td><td>4.0</td><td>4.0</td><td>0.0</td><td>0.0</td><td>0.0</td><td>4.700314e6</td><td>4.701436e6</td><td>0.0</td><td>4.953228e6</td><td>0.0</td><td>0.0</td></tr><tr><td>&quot;mean&quot;</td><td>166367.108221</td><td>null</td><td>9.953445</td><td>175.369853</td><td>3.374219</td><td>176.010139</td><td>173.999283</td><td>70077.122916</td><td>0.634832</td><td>16.857549</td><td>14042.200748</td><td>37.473272</td><td>0.502294</td><td>1300.442127</td><td>0.295835</td><td>0.044751</td><td>385.632155</td><td>0.027916</td><td>1.0</td><td>1.0</td><td>0.0</td><td>1.3289e-9</td><td>0.0</td><td>5.8107e-9</td><td>2.1778e-9</td><td>0.57336</td><td>85.293109</td><td>92.34218</td><td>-0.981179</td><td>23.608127</td><td>0.128882</td><td>170.66645</td><td>null</td><td>6.277791</td><td>0.898359</td></tr><tr><td>&quot;std&quot;</td><td>96110.062236</td><td>null</td><td>7.646976</td><td>65.904102</td><td>0.692507</td><td>107.256968</td><td>68.334449</td><td>40609.937868</td><td>0.481477</td><td>10.426479</td><td>8111.447094</td><td>51.993395</td><td>null</td><td>2023.15977</td><td>null</td><td>null</td><td>804.686432</td><td>null</td><td>0.0</td><td>0.0</td><td>0.0</td><td>0.970969</td><td>0.0</td><td>0.979434</td><td>0.484224</td><td>0.088648</td><td>82.613894</td><td>82.644123</td><td>107.787853</td><td>139.708208</td><td>1.090254</td><td>152.173464</td><td>null</td><td>5.896331</td><td>0.302176</td></tr><tr><td>&quot;min&quot;</td><td>1.0</td><td>null</td><td>1.0</td><td>1.0</td><td>1.41</td><td>0.0</td><td>1.0</td><td>1.0</td><td>0.0</td><td>1.0</td><td>2.0</td><td>0.0</td><td>0.0</td><td>0.01</td><td>0.0</td><td>0.0</td><td>0.0</td><td>0.0</td><td>1.0</td><td>1.0</td><td>0.0</td><td>-5.833333</td><td>0.0</td><td>-5.43742</td><td>-3.131872</td><td>0.0</td><td>0.0</td><td>0.0</td><td>-1998.16</td><td>-1903.93</td><td>-3.5</td><td>0.0</td><td>null</td><td>0.0</td><td>0.0</td></tr><tr><td>&quot;25%&quot;</td><td>82936.0</td><td>null</td><td>5.0</td><td>100.0</td><td>2.92</td><td>109.81</td><td>100.0</td><td>35010.0</td><td>0.0</td><td>8.0</td><td>7101.0</td><td>4.0</td><td>null</td><td>139.76</td><td>null</td><td>null</td><td>123.99</td><td>null</td><td>1.0</td><td>1.0</td><td>0.0</td><td>-0.645497</td><td>0.0</td><td>-0.466997</td><td>-0.294509</td><td>0.5194433</td><td>40.0</td><td>40.25</td><td>-24.529985</td><td>-31.56</td><td>-0.52</td><td>89.0</td><td>null</td><td>2.0</td><td>1.0</td></tr><tr><td>&quot;50%&quot;</td><td>166503.0</td><td>null</td><td>5.0</td><td>219.0</td><td>3.45</td><td>152.16</td><td>219.0</td><td>69630.0</td><td>1.0</td><td>16.0</td><td>13541.0</td><td>17.0</td><td>null</td><td>386.46</td><td>null</td><td>null</td><td>218.36</td><td>null</td><td>1.0</td><td>1.0</td><td>0.0</td><td>0.040506</td><td>0.0</td><td>0.222286</td><td>0.057451</td><td>0.583878</td><td>63.04</td><td>71.486667</td><td>17.834287</td><td>24.21</td><td>0.0</td><td>129.0</td><td>null</td><td>5.0</td><td>1.0</td></tr><tr><td>&quot;75%&quot;</td><td>249721.0</td><td>null</td><td>14.0</td><td>219.0</td><td>3.93</td><td>213.41</td><td>219.0</td><td>105165.0</td><td>1.0</td><td>26.0</td><td>21084.0</td><td>48.0</td><td>null</td><td>1499.46</td><td>null</td><td>null</td><td>429.61</td><td>null</td><td>1.0</td><td>1.0</td><td>0.0</td><td>0.6561673</td><td>0.0</td><td>0.662652</td><td>0.345082</td><td>0.6365348</td><td>103.0</td><td>118.63</td><td>50.295562</td><td>82.16</td><td>0.74</td><td>199.64</td><td>null</td><td>9.0</td><td>1.0</td></tr><tr><td>&quot;max&quot;</td><td>332785.0</td><td>null</td><td>34.0</td><td>231.0</td><td>5.0</td><td>1958.7</td><td>230.0</td><td>140821.0</td><td>1.0</td><td>40.0</td><td>28416.0</td><td>492.0</td><td>1.0</td><td>11666.64</td><td>1.0</td><td>1.0</td><td>159292.38</td><td>1.0</td><td>1.0</td><td>1.0</td><td>0.0</td><td>5.833334</td><td>0.0</td><td>5.294649</td><td>2.3304434</td><td>1.0</td><td>9150.0</td><td>1999.0</td><td>497.681251</td><td>1903.7</td><td>5.0</td><td>9150.0</td><td>null</td><td>35.0</td><td>1.0</td></tr></tbody></table></div>"
      ],
      "text/plain": [
       "shape: (9, 36)\n",
       "┌───────────┬───────────┬───────────┬───────────┬───┬───────────┬───────────┬───────────┬──────────┐\n",
       "│ statistic ┆ srch_id   ┆ date_time ┆ site_id   ┆ … ┆ total_pri ┆ score2ma  ┆ promotion ┆ promotio │\n",
       "│ ---       ┆ ---       ┆ ---       ┆ ---       ┆   ┆ ce        ┆ ---       ┆ _count    ┆ n_any    │\n",
       "│ str       ┆ f64       ┆ f64       ┆ f64       ┆   ┆ ---       ┆ f64       ┆ ---       ┆ ---      │\n",
       "│           ┆           ┆           ┆           ┆   ┆ f64       ┆           ┆ f64       ┆ f64      │\n",
       "╞═══════════╪═══════════╪═══════════╪═══════════╪═══╪═══════════╪═══════════╪═══════════╪══════════╡\n",
       "│ count     ┆ 4.953228e ┆ 0.0       ┆ 4.953228e ┆ … ┆ 4.953228e ┆ 0.0       ┆ 4.953228e ┆ 4.953228 │\n",
       "│           ┆ 6         ┆           ┆ 6         ┆   ┆ 6         ┆           ┆ 6         ┆ e6       │\n",
       "│ null_coun ┆ 0.0       ┆ 4.953228e ┆ 0.0       ┆ … ┆ 0.0       ┆ 4.953228e ┆ 0.0       ┆ 0.0      │\n",
       "│ t         ┆           ┆ 6         ┆           ┆   ┆           ┆ 6         ┆           ┆          │\n",
       "│ mean      ┆ 166367.10 ┆ null      ┆ 9.953445  ┆ … ┆ 170.66645 ┆ null      ┆ 6.277791  ┆ 0.898359 │\n",
       "│           ┆ 8221      ┆           ┆           ┆   ┆           ┆           ┆           ┆          │\n",
       "│ std       ┆ 96110.062 ┆ null      ┆ 7.646976  ┆ … ┆ 152.17346 ┆ null      ┆ 5.896331  ┆ 0.302176 │\n",
       "│           ┆ 236       ┆           ┆           ┆   ┆ 4         ┆           ┆           ┆          │\n",
       "│ min       ┆ 1.0       ┆ null      ┆ 1.0       ┆ … ┆ 0.0       ┆ null      ┆ 0.0       ┆ 0.0      │\n",
       "│ 25%       ┆ 82936.0   ┆ null      ┆ 5.0       ┆ … ┆ 89.0      ┆ null      ┆ 2.0       ┆ 1.0      │\n",
       "│ 50%       ┆ 166503.0  ┆ null      ┆ 5.0       ┆ … ┆ 129.0     ┆ null      ┆ 5.0       ┆ 1.0      │\n",
       "│ 75%       ┆ 249721.0  ┆ null      ┆ 14.0      ┆ … ┆ 199.64    ┆ null      ┆ 9.0       ┆ 1.0      │\n",
       "│ max       ┆ 332785.0  ┆ null      ┆ 34.0      ┆ … ┆ 9150.0    ┆ null      ┆ 35.0      ┆ 1.0      │\n",
       "└───────────┴───────────┴───────────┴───────────┴───┴───────────┴───────────┴───────────┴──────────┘"
      ]
     },
     "execution_count": 3,
     "metadata": {},
     "output_type": "execute_result"
    }
   ],
   "source": [
    "data = pl.read_csv('../data/preprocessed/engineered_training_set.csv')\n",
    "for col_name in data.columns:\n",
    "    if data[col_name].dtype == pl.Utf8:\n",
    "        data = data.with_columns(\n",
    "            data[col_name]\n",
    "            .str.replace(\"NULL\", \"NaN\") \n",
    "            .str.replace(\"N/A\", \"NaN\")   \n",
    "            .cast(pl.Float64)          \n",
    "            .alias(col_name)\n",
    "        )\n",
    "data.describe()"
   ]
  },
  {
   "cell_type": "code",
   "execution_count": 4,
   "metadata": {},
   "outputs": [],
   "source": [
    "data = data.sort(['srch_id', 'booking_bool', 'click_bool'], descending=[False, True, True])"
   ]
  },
  {
   "cell_type": "code",
   "execution_count": 5,
   "metadata": {},
   "outputs": [
    {
     "name": "stdout",
     "output_type": "stream",
     "text": [
      "(4953228, 35)\n"
     ]
    }
   ],
   "source": [
    "print(data.shape)"
   ]
  },
  {
   "cell_type": "markdown",
   "metadata": {},
   "source": [
    "> CHANGE THE DATA TO ENGINEERED DATA, EVERYTHING SHOULD WORK"
   ]
  },
  {
   "cell_type": "code",
   "execution_count": 38,
   "metadata": {},
   "outputs": [],
   "source": [
    "# Convert polars DataFrames to pandas DataFrames\n",
    "data_pd = data.to_pandas()\n",
    "# replace all NULL values with np.nan\n",
    "# data_pd = data_pd.replace('NULL', np.nan)\n",
    "ranking_pd = data_pd[['srch_id', 'prop_id']]\n",
    "\n",
    "# Convert object columns to appropriate data types\n",
    "object_columns = data_pd.select_dtypes(include=['object']).columns\n",
    "data_pd[object_columns] = data_pd[object_columns].apply(pd.to_numeric, errors='coerce')\n",
    "\n",
    "# Split the data into features (X) and target (y)\n",
    "X = data_pd.drop(['srch_id', 'prop_id', 'date_time', 'orig_destination_distance', 'score1d2', 'normalized_prop_starrating', 'normalized_score1d2', 'normalized_prop_review_score', 'hotel_quality', 'score2ma'], axis=1)\n",
    "y = ranking_pd['prop_id']\n",
    "\n",
    "\n",
    "# Split the data into training and testing sets based on srch_id\n",
    "srch_ids = data_pd['srch_id'].unique()\n",
    "train_srch_ids, test_srch_ids = train_test_split(srch_ids, test_size=0.2, random_state=42)\n",
    "\n",
    "# Create training and testing DataFrames\n",
    "columns_to_drop = [\n",
    "    'date_time', 'orig_destination_distance', 'score1d2', 'normalized_prop_starrating', 'normalized_score1d2', \n",
    "    'normalized_prop_review_score', 'hotel_quality', 'score2ma'\n",
    "]\n",
    "train_data = data_pd[data_pd['srch_id'].isin(train_srch_ids)].drop(columns_to_drop, axis=1)\n",
    "test_data = data_pd[data_pd['srch_id'].isin(test_srch_ids)].drop(columns_to_drop, axis=1)\n",
    "\n",
    "# Create training and testing ranking DataFrames\n",
    "train_ranking = ranking_pd[ranking_pd['srch_id'].isin(train_srch_ids)]\n",
    "test_ranking = ranking_pd[ranking_pd['srch_id'].isin(test_srch_ids)]\n"
   ]
  },
  {
   "cell_type": "code",
   "execution_count": 39,
   "metadata": {},
   "outputs": [],
   "source": [
    "\n",
    "\n",
    "# Create XGBoost DMatrix objects for training and testing\n",
    "train_dmatrix = xg.DMatrix(\n",
    "    train_data.drop(['srch_id', 'booking_bool', 'gross_bookings_usd', 'position', 'click_bool'], axis=1),\n",
    "    label=train_data['prop_id'],\n",
    "    group=train_data['srch_id'].value_counts().sort_index().values\n",
    ")\n",
    "test_dmatrix = xg.DMatrix(\n",
    "    test_data.drop(['srch_id', 'booking_bool', 'gross_bookings_usd', 'position', 'click_bool'], axis=1),\n",
    "    label=test_data['prop_id'],\n",
    "    group=test_data['srch_id'].value_counts().sort_index().values\n",
    ")\n",
    "\n",
    "# MAKE SURE TO USE FULL DATA SET IN THE END\n",
    "full_dmatrix = xg.DMatrix(\n",
    "    X.drop(['booking_bool', 'gross_bookings_usd', 'position', 'click_bool'], axis=1),\n",
    "    label=y,\n",
    "    group=data_pd['srch_id'].value_counts().sort_index().values\n",
    ")\n",
    "\n",
    "# Set XGBoost parameters\n",
    "params = {\n",
    "    'objective': 'rank:pairwise',\n",
    "    'eval_metric': 'ndcg',\n",
    "    'learning_rate': 0.1,\n",
    "    'max_depth': 7,\n",
    "    'subsample': 0.8,\n",
    "    'colsample_bytree': 0.8,\n",
    "    'seed': 42\n",
    "}\n",
    "\n",
    "# Train the XGBoost ranking model\n",
    "model = xg.train(params, train_dmatrix, num_boost_round=100)\n",
    "\n"
   ]
  },
  {
   "cell_type": "code",
   "execution_count": 40,
   "metadata": {},
   "outputs": [
    {
     "name": "stdout",
     "output_type": "stream",
     "text": [
      "Number of documents in test_ranking_query: 1\n",
      "Number of documents in sorted_prop_ids: 1\n",
      "Number of documents in test_ranking_query: 1\n",
      "Number of documents in sorted_prop_ids: 1\n",
      "Mean NDCG: 0.4207\n"
     ]
    }
   ],
   "source": [
    "from sklearn.metrics import ndcg_score\n",
    "# Make predictions on the test set\n",
    "test_pred = model.predict(test_dmatrix)\n",
    "\n",
    "# Evaluate the model\n",
    "ndcg_scores = []\n",
    "for srch_id in test_srch_ids:\n",
    "    # Get the data for the current srch_id\n",
    "    srch_data = test_data[test_data['srch_id'] == srch_id]\n",
    "    \n",
    "    # Create DMatrix for the current srch_id\n",
    "    srch_dmatrix = xg.DMatrix(srch_data.drop(['srch_id', 'booking_bool', 'gross_bookings_usd', 'position', 'click_bool'], axis=1))\n",
    "    \n",
    "    # Make predictions for the current srch_id\n",
    "    srch_pred = model.predict(srch_dmatrix)\n",
    "    \n",
    "    # Get the corresponding prop_ids for the current srch_id\n",
    "    srch_prop_ids = srch_data['prop_id']\n",
    "    \n",
    "    # Sort the prop_ids based on the predicted scores\n",
    "    sorted_prop_ids = srch_prop_ids.iloc[np.argsort(srch_pred)[::-1]]\n",
    "    \n",
    "    # Get the ground truth rankings for the current srch_id\n",
    "    test_ranking_query = test_ranking[test_ranking['srch_id'] == srch_id]['prop_id']\n",
    "    \n",
    "    # Calculate NDCG score for the current srch_id\n",
    "    if len(test_ranking_query) > 1:\n",
    "        ndcg = ndcg_score([test_ranking_query], [sorted_prop_ids], k=5)\n",
    "    else:\n",
    "        print(\"Number of documents in test_ranking_query:\", len(test_ranking_query))\n",
    "        print(\"Number of documents in sorted_prop_ids:\", len(sorted_prop_ids))\n",
    "        ndcg = 1  # means only 1 result\n",
    "    ndcg_scores.append(ndcg)\n",
    "\n",
    "# Calculate the mean NDCG score\n",
    "mean_ndcg = sum(ndcg_scores) / len(ndcg_scores)\n",
    "print(f\"Mean NDCG: {mean_ndcg:.4f}\")"
   ]
  },
  {
   "cell_type": "code",
   "execution_count": 17,
   "metadata": {},
   "outputs": [
    {
     "ename": "TypeError",
     "evalue": "('invalid cache item: DataFrame', [         visitor_hist_starrating  visitor_hist_adr_usd  prop_country_id  \\\n0                            NaN                   NaN              219   \n1                            NaN                   NaN              219   \n2                            NaN                   NaN              219   \n3                            NaN                   NaN              219   \n4                            NaN                   NaN              219   \n...                          ...                   ...              ...   \n4953223                      NaN                   NaN              219   \n4953224                      NaN                   NaN              219   \n4953225                      NaN                   NaN              219   \n4953226                      NaN                   NaN              219   \n4953227                      NaN                   NaN              219   \n\n         prop_brand_bool  position  srch_destination_id  \\\n0                      1        13                23246   \n1                      1        21                23246   \n2                      1        34                23246   \n3                      1         4                23246   \n4                      1         7                23246   \n...                  ...       ...                  ...   \n4953223                1         7                16974   \n4953224                1         2                16974   \n4953225                1         3                16974   \n4953226                1         4                16974   \n4953227                1         6                16974   \n\n         srch_saturday_night_bool  random_bool  click_bool  \\\n0                            True         True        True   \n1                            True         True       False   \n2                            True         True       False   \n3                            True         True       False   \n4                            True         True       False   \n...                           ...          ...         ...   \n4953223                     False        False       False   \n4953224                     False        False       False   \n4953225                     False        False       False   \n4953226                     False        False       False   \n4953227                     False        False       False   \n\n         gross_bookings_usd  ...  has_hist_adr_usd  normalized_hotel_quality  \\\n0                    114.29  ...                 1                  0.472710   \n1                       NaN  ...                 1                  0.618623   \n2                       NaN  ...                 1                  0.522208   \n3                       NaN  ...                 1                  0.640791   \n4                       NaN  ...                 1                  0.690289   \n...                     ...  ...               ...                       ...   \n4953223                 NaN  ...                 1                  0.481979   \n4953224                 NaN  ...                 1                  0.599469   \n4953225                 NaN  ...                 1                  0.599469   \n4953226                 NaN  ...                 1                  0.579887   \n4953227                 NaN  ...                 1                  0.540724   \n\n         price_per_person  avg_price_per_day         ump  price_diff  \\\n0               25.222500             100.89  -16.115058         NaN   \n1               44.950000             179.80  -42.797387         NaN   \n2              150.692500             602.77 -522.129581         NaN   \n3               35.895000             143.58   -5.200488         NaN   \n4               48.830000             195.32  -14.047758         NaN   \n...                   ...                ...         ...         ...   \n4953223         36.333333             109.00 -108.000000         NaN   \n4953224         39.333333             118.00 -117.000000         NaN   \n4953225         29.666667              89.00  -88.000000         NaN   \n4953226         33.000000              99.00  -98.000000         NaN   \n4953227         20.333333              61.00  -60.000000         NaN   \n\n         starrating_diff  total_price  promotion_count  promotion_any  \n0                    NaN       100.89                1              1  \n1                    NaN       179.80                1              1  \n2                    NaN       602.77                1              1  \n3                    NaN       143.58                1              1  \n4                    NaN       195.32                1              1  \n...                  ...          ...              ...            ...  \n4953223              NaN       109.00                0              0  \n4953224              NaN       118.00                0              0  \n4953225              NaN        89.00                0              0  \n4953226              NaN        99.00                0              0  \n4953227              NaN        61.00                0              0  \n\n[4953228 rows x 22 columns]])",
     "output_type": "error",
     "traceback": [
      "\u001b[0;31m---------------------------------------------------------------------------\u001b[0m",
      "\u001b[0;31mTypeError\u001b[0m                                 Traceback (most recent call last)",
      "Cell \u001b[0;32mIn[17], line 1\u001b[0m\n\u001b[0;32m----> 1\u001b[0m model \u001b[38;5;241m=\u001b[39m xg\u001b[38;5;241m.\u001b[39mtrain(params, X, num_boost_round\u001b[38;5;241m=\u001b[39m\u001b[38;5;241m100\u001b[39m)\n",
      "File \u001b[0;32m/opt/homebrew/anaconda3/lib/python3.11/site-packages/xgboost/core.py:730\u001b[0m, in \u001b[0;36mrequire_keyword_args.<locals>.throw_if.<locals>.inner_f\u001b[0;34m(*args, **kwargs)\u001b[0m\n\u001b[1;32m    728\u001b[0m \u001b[38;5;28;01mfor\u001b[39;00m k, arg \u001b[38;5;129;01min\u001b[39;00m \u001b[38;5;28mzip\u001b[39m(sig\u001b[38;5;241m.\u001b[39mparameters, args):\n\u001b[1;32m    729\u001b[0m     kwargs[k] \u001b[38;5;241m=\u001b[39m arg\n\u001b[0;32m--> 730\u001b[0m \u001b[38;5;28;01mreturn\u001b[39;00m func(\u001b[38;5;241m*\u001b[39m\u001b[38;5;241m*\u001b[39mkwargs)\n",
      "File \u001b[0;32m/opt/homebrew/anaconda3/lib/python3.11/site-packages/xgboost/training.py:159\u001b[0m, in \u001b[0;36mtrain\u001b[0;34m(params, dtrain, num_boost_round, evals, obj, feval, maximize, early_stopping_rounds, evals_result, verbose_eval, xgb_model, callbacks, custom_metric)\u001b[0m\n\u001b[1;32m    156\u001b[0m metric_fn \u001b[38;5;241m=\u001b[39m _configure_custom_metric(feval, custom_metric)\n\u001b[1;32m    157\u001b[0m evals \u001b[38;5;241m=\u001b[39m \u001b[38;5;28mlist\u001b[39m(evals) \u001b[38;5;28;01mif\u001b[39;00m evals \u001b[38;5;28;01melse\u001b[39;00m []\n\u001b[0;32m--> 159\u001b[0m bst \u001b[38;5;241m=\u001b[39m Booster(params, [dtrain] \u001b[38;5;241m+\u001b[39m [d[\u001b[38;5;241m0\u001b[39m] \u001b[38;5;28;01mfor\u001b[39;00m d \u001b[38;5;129;01min\u001b[39;00m evals], model_file\u001b[38;5;241m=\u001b[39mxgb_model)\n\u001b[1;32m    160\u001b[0m start_iteration \u001b[38;5;241m=\u001b[39m \u001b[38;5;241m0\u001b[39m\n\u001b[1;32m    162\u001b[0m \u001b[38;5;28;01mif\u001b[39;00m verbose_eval:\n",
      "File \u001b[0;32m/opt/homebrew/anaconda3/lib/python3.11/site-packages/xgboost/core.py:1655\u001b[0m, in \u001b[0;36mBooster.__init__\u001b[0;34m(self, params, cache, model_file)\u001b[0m\n\u001b[1;32m   1653\u001b[0m \u001b[38;5;28;01mfor\u001b[39;00m d \u001b[38;5;129;01min\u001b[39;00m cache:\n\u001b[1;32m   1654\u001b[0m     \u001b[38;5;28;01mif\u001b[39;00m \u001b[38;5;129;01mnot\u001b[39;00m \u001b[38;5;28misinstance\u001b[39m(d, DMatrix):\n\u001b[0;32m-> 1655\u001b[0m         \u001b[38;5;28;01mraise\u001b[39;00m \u001b[38;5;167;01mTypeError\u001b[39;00m(\u001b[38;5;124mf\u001b[39m\u001b[38;5;124m\"\u001b[39m\u001b[38;5;124minvalid cache item: \u001b[39m\u001b[38;5;132;01m{\u001b[39;00m\u001b[38;5;28mtype\u001b[39m(d)\u001b[38;5;241m.\u001b[39m\u001b[38;5;18m__name__\u001b[39m\u001b[38;5;132;01m}\u001b[39;00m\u001b[38;5;124m\"\u001b[39m, cache)\n\u001b[1;32m   1657\u001b[0m dmats \u001b[38;5;241m=\u001b[39m c_array(ctypes\u001b[38;5;241m.\u001b[39mc_void_p, [d\u001b[38;5;241m.\u001b[39mhandle \u001b[38;5;28;01mfor\u001b[39;00m d \u001b[38;5;129;01min\u001b[39;00m cache])\n\u001b[1;32m   1658\u001b[0m \u001b[38;5;28mself\u001b[39m\u001b[38;5;241m.\u001b[39mhandle: Optional[ctypes\u001b[38;5;241m.\u001b[39mc_void_p] \u001b[38;5;241m=\u001b[39m ctypes\u001b[38;5;241m.\u001b[39mc_void_p()\n",
      "\u001b[0;31mTypeError\u001b[0m: ('invalid cache item: DataFrame', [         visitor_hist_starrating  visitor_hist_adr_usd  prop_country_id  \\\n0                            NaN                   NaN              219   \n1                            NaN                   NaN              219   \n2                            NaN                   NaN              219   \n3                            NaN                   NaN              219   \n4                            NaN                   NaN              219   \n...                          ...                   ...              ...   \n4953223                      NaN                   NaN              219   \n4953224                      NaN                   NaN              219   \n4953225                      NaN                   NaN              219   \n4953226                      NaN                   NaN              219   \n4953227                      NaN                   NaN              219   \n\n         prop_brand_bool  position  srch_destination_id  \\\n0                      1        13                23246   \n1                      1        21                23246   \n2                      1        34                23246   \n3                      1         4                23246   \n4                      1         7                23246   \n...                  ...       ...                  ...   \n4953223                1         7                16974   \n4953224                1         2                16974   \n4953225                1         3                16974   \n4953226                1         4                16974   \n4953227                1         6                16974   \n\n         srch_saturday_night_bool  random_bool  click_bool  \\\n0                            True         True        True   \n1                            True         True       False   \n2                            True         True       False   \n3                            True         True       False   \n4                            True         True       False   \n...                           ...          ...         ...   \n4953223                     False        False       False   \n4953224                     False        False       False   \n4953225                     False        False       False   \n4953226                     False        False       False   \n4953227                     False        False       False   \n\n         gross_bookings_usd  ...  has_hist_adr_usd  normalized_hotel_quality  \\\n0                    114.29  ...                 1                  0.472710   \n1                       NaN  ...                 1                  0.618623   \n2                       NaN  ...                 1                  0.522208   \n3                       NaN  ...                 1                  0.640791   \n4                       NaN  ...                 1                  0.690289   \n...                     ...  ...               ...                       ...   \n4953223                 NaN  ...                 1                  0.481979   \n4953224                 NaN  ...                 1                  0.599469   \n4953225                 NaN  ...                 1                  0.599469   \n4953226                 NaN  ...                 1                  0.579887   \n4953227                 NaN  ...                 1                  0.540724   \n\n         price_per_person  avg_price_per_day         ump  price_diff  \\\n0               25.222500             100.89  -16.115058         NaN   \n1               44.950000             179.80  -42.797387         NaN   \n2              150.692500             602.77 -522.129581         NaN   \n3               35.895000             143.58   -5.200488         NaN   \n4               48.830000             195.32  -14.047758         NaN   \n...                   ...                ...         ...         ...   \n4953223         36.333333             109.00 -108.000000         NaN   \n4953224         39.333333             118.00 -117.000000         NaN   \n4953225         29.666667              89.00  -88.000000         NaN   \n4953226         33.000000              99.00  -98.000000         NaN   \n4953227         20.333333              61.00  -60.000000         NaN   \n\n         starrating_diff  total_price  promotion_count  promotion_any  \n0                    NaN       100.89                1              1  \n1                    NaN       179.80                1              1  \n2                    NaN       602.77                1              1  \n3                    NaN       143.58                1              1  \n4                    NaN       195.32                1              1  \n...                  ...          ...              ...            ...  \n4953223              NaN       109.00                0              0  \n4953224              NaN       118.00                0              0  \n4953225              NaN        89.00                0              0  \n4953226              NaN        99.00                0              0  \n4953227              NaN        61.00                0              0  \n\n[4953228 rows x 22 columns]])"
     ]
    }
   ],
   "source": [
    "model = xg.train(params, X, num_boost_round=100)"
   ]
  },
  {
   "cell_type": "code",
   "execution_count": 3,
   "metadata": {},
   "outputs": [],
   "source": [
    "# save the model\n",
    "\n",
    "model.save_model('model.json')\n",
    "# load the model\n",
    "model = xg.Booster()\n",
    "model.load_model('model.json')"
   ]
  },
  {
   "cell_type": "code",
   "execution_count": 4,
   "metadata": {},
   "outputs": [],
   "source": [
    "\n",
    "test_set = pl.read_csv('../data/raw/test_set_VU_DM.csv')\n",
    "test_set = test_set.to_pandas()\n",
    "test_set = test_set.replace('NULL', np.nan)\n",
    "\n",
    "object_columns = test_set.select_dtypes(include=['object']).columns\n",
    "test_set[object_columns] = test_set[object_columns].apply(pd.to_numeric, errors='coerce')"
   ]
  },
  {
   "cell_type": "code",
   "execution_count": 14,
   "metadata": {},
   "outputs": [
    {
     "data": {
      "application/vnd.jupyter.widget-view+json": {
       "model_id": "35b9ecc957d14744b7d42e25da94d6c9",
       "version_major": 2,
       "version_minor": 0
      },
      "text/plain": [
       "  0%|          | 0/199549 [00:00<?, ?it/s]"
      ]
     },
     "metadata": {},
     "output_type": "display_data"
    },
    {
     "ename": "NameError",
     "evalue": "name 'test_data' is not defined",
     "output_type": "error",
     "traceback": [
      "\u001b[0;31m---------------------------------------------------------------------------\u001b[0m",
      "\u001b[0;31mNameError\u001b[0m                                 Traceback (most recent call last)",
      "Cell \u001b[0;32mIn[14], line 38\u001b[0m\n\u001b[1;32m     34\u001b[0m submission_df \u001b[38;5;241m=\u001b[39m pd\u001b[38;5;241m.\u001b[39mconcat(results, ignore_index\u001b[38;5;241m=\u001b[39m\u001b[38;5;28;01mTrue\u001b[39;00m)\n\u001b[1;32m     37\u001b[0m \u001b[38;5;66;03m# Check final submission DataFrame size\u001b[39;00m\n\u001b[0;32m---> 38\u001b[0m \u001b[38;5;28mprint\u001b[39m(\u001b[38;5;124mf\u001b[39m\u001b[38;5;124m\"\u001b[39m\u001b[38;5;124mExpected number of entries: \u001b[39m\u001b[38;5;132;01m{\u001b[39;00m\u001b[38;5;28mlen\u001b[39m(\u001b[43mtest_data\u001b[49m)\u001b[38;5;132;01m}\u001b[39;00m\u001b[38;5;124m\"\u001b[39m)\n\u001b[1;32m     39\u001b[0m \u001b[38;5;28mprint\u001b[39m(\u001b[38;5;124mf\u001b[39m\u001b[38;5;124m\"\u001b[39m\u001b[38;5;124mActual number of entries: \u001b[39m\u001b[38;5;132;01m{\u001b[39;00m\u001b[38;5;28mlen\u001b[39m(submission_df)\u001b[38;5;132;01m}\u001b[39;00m\u001b[38;5;124m\"\u001b[39m)\n\u001b[1;32m     41\u001b[0m \u001b[38;5;66;03m# Save the submission DataFrame to a CSV file\u001b[39;00m\n",
      "\u001b[0;31mNameError\u001b[0m: name 'test_data' is not defined"
     ]
    }
   ],
   "source": [
    "srch_ids = test_set['srch_id'].unique()\n",
    "\n",
    "# Create an empty DataFrame to store the predictions\n",
    "submission_df = pd.DataFrame(columns=['srch_id', 'prop_id'])\n",
    "\n",
    "#  Unique srch_ids in the test set\n",
    "srch_ids = test_set['srch_id'].unique()\n",
    "\n",
    "# Pre-allocate a list to collect results\n",
    "results = []\n",
    "\n",
    "# Iterate over each srch_id and make predictions\n",
    "for srch_id in tqdm(srch_ids):\n",
    "    # Get the data for the current srch_id\n",
    "    srch_data = test_set[test_set['srch_id'] == srch_id]\n",
    "\n",
    "    # Create DMatrix for the current srch_id\n",
    "    srch_dmatrix = xg.DMatrix(srch_data.drop(['srch_id'], axis=1))\n",
    "\n",
    "    # Make predictions for the current srch_id\n",
    "    srch_pred = model.predict(srch_dmatrix)\n",
    "\n",
    "    # Get the corresponding prop_ids for the current srch_id\n",
    "    srch_prop_ids = srch_data['prop_id'].values\n",
    "\n",
    "    # Sort the prop_ids based on the predicted scores\n",
    "    sorted_indices = np.argsort(srch_pred)[::-1]\n",
    "    sorted_prop_ids = srch_prop_ids[sorted_indices]\n",
    "\n",
    "    # Collect the results for the current srch_id\n",
    "    results.append(pd.DataFrame({'srch_id': srch_id, 'prop_id': sorted_prop_ids}))\n",
    "\n",
    "# Concatenate all results into a single DataFrame\n",
    "submission_df = pd.concat(results, ignore_index=True)\n",
    "\n",
    "\n",
    "# Check final submission DataFrame size\n",
    "print(f\"Expected number of entries: {len(test_set)}\")\n",
    "print(f\"Actual number of entries: {len(submission_df)}\")\n",
    "\n",
    "# Save the submission DataFrame to a CSV file\n",
    "submission_df.to_csv('submit/submission.csv', index=False)"
   ]
  }
 ],
 "metadata": {
  "kernelspec": {
   "display_name": "ComputationalEnv",
   "language": "python",
   "name": "python3"
  },
  "language_info": {
   "codemirror_mode": {
    "name": "ipython",
    "version": 3
   },
   "file_extension": ".py",
   "mimetype": "text/x-python",
   "name": "python",
   "nbconvert_exporter": "python",
   "pygments_lexer": "ipython3",
   "version": "3.11.4"
  }
 },
 "nbformat": 4,
 "nbformat_minor": 2
}
