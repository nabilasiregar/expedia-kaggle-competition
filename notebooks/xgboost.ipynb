{
 "cells": [
  {
   "cell_type": "code",
   "execution_count": 1,
   "metadata": {},
   "outputs": [],
   "source": [
    "import xgboost as xg\n",
    "# import dask.dataframe as dd\n",
    "import polars as pl\n",
    "import numpy as np\n",
    "from sklearn.model_selection import train_test_split\n",
    "import pandas as pd\n",
    "from tqdm.notebook import tqdm"
   ]
  },
  {
   "cell_type": "code",
   "execution_count": 2,
   "metadata": {},
   "outputs": [
    {
     "data": {
      "text/html": [
       "<div><style>\n",
       ".dataframe > thead > tr,\n",
       ".dataframe > tbody > tr {\n",
       "  text-align: right;\n",
       "  white-space: pre-wrap;\n",
       "}\n",
       "</style>\n",
       "<small>shape: (9, 36)</small><table border=\"1\" class=\"dataframe\"><thead><tr><th>statistic</th><th>srch_id</th><th>date_time</th><th>site_id</th><th>visitor_location_country_id</th><th>visitor_hist_starrating</th><th>visitor_hist_adr_usd</th><th>prop_country_id</th><th>prop_id</th><th>prop_brand_bool</th><th>position</th><th>srch_destination_id</th><th>srch_booking_window</th><th>srch_saturday_night_bool</th><th>orig_destination_distance</th><th>random_bool</th><th>click_bool</th><th>gross_bookings_usd</th><th>booking_bool</th><th>has_hist_starrating</th><th>has_hist_adr_usd</th><th>score1d2</th><th>normalized_prop_starrating</th><th>normalized_score1d2</th><th>normalized_prop_review_score</th><th>hotel_quality</th><th>normalized_hotel_quality</th><th>price_per_person</th><th>avg_price_per_day</th><th>ump</th><th>price_diff</th><th>starrating_diff</th><th>total_price</th><th>score2ma</th><th>promotion_count</th><th>promotion_any</th></tr><tr><td>str</td><td>f64</td><td>str</td><td>f64</td><td>f64</td><td>str</td><td>str</td><td>f64</td><td>f64</td><td>f64</td><td>f64</td><td>f64</td><td>f64</td><td>f64</td><td>f64</td><td>f64</td><td>f64</td><td>f64</td><td>f64</td><td>f64</td><td>f64</td><td>f64</td><td>f64</td><td>f64</td><td>f64</td><td>f64</td><td>f64</td><td>f64</td><td>f64</td><td>f64</td><td>str</td><td>str</td><td>f64</td><td>str</td><td>f64</td><td>f64</td></tr></thead><tbody><tr><td>&quot;count&quot;</td><td>4.953228e6</td><td>&quot;0&quot;</td><td>4.953228e6</td><td>4.953228e6</td><td>&quot;251792&quot;</td><td>&quot;252914&quot;</td><td>4.953228e6</td><td>4.953228e6</td><td>4.953228e6</td><td>4.953228e6</td><td>4.953228e6</td><td>4.953228e6</td><td>4.953228e6</td><td>3.348388e6</td><td>4.953228e6</td><td>4.953228e6</td><td>138275.0</td><td>4.953228e6</td><td>4.953228e6</td><td>4.953228e6</td><td>4.953228e6</td><td>4.953224e6</td><td>4.953224e6</td><td>4.953224e6</td><td>4.953224e6</td><td>4.953224e6</td><td>4.953228e6</td><td>4.953228e6</td><td>4.953228e6</td><td>&quot;252914&quot;</td><td>&quot;251792&quot;</td><td>4.953228e6</td><td>&quot;0&quot;</td><td>4.953228e6</td><td>4.953228e6</td></tr><tr><td>&quot;null_count&quot;</td><td>0.0</td><td>&quot;4953228&quot;</td><td>0.0</td><td>0.0</td><td>&quot;4701436&quot;</td><td>&quot;4700314&quot;</td><td>0.0</td><td>0.0</td><td>0.0</td><td>0.0</td><td>0.0</td><td>0.0</td><td>0.0</td><td>1.60484e6</td><td>0.0</td><td>0.0</td><td>4.814953e6</td><td>0.0</td><td>0.0</td><td>0.0</td><td>0.0</td><td>4.0</td><td>4.0</td><td>4.0</td><td>4.0</td><td>4.0</td><td>0.0</td><td>0.0</td><td>0.0</td><td>&quot;4700314&quot;</td><td>&quot;4701436&quot;</td><td>0.0</td><td>&quot;4953228&quot;</td><td>0.0</td><td>0.0</td></tr><tr><td>&quot;mean&quot;</td><td>166367.108221</td><td>null</td><td>9.953445</td><td>175.369853</td><td>null</td><td>null</td><td>173.999283</td><td>70077.122916</td><td>0.634832</td><td>16.857549</td><td>14042.200748</td><td>37.473272</td><td>0.502294</td><td>1300.442127</td><td>0.295835</td><td>0.044751</td><td>385.632155</td><td>0.027916</td><td>1.0</td><td>1.0</td><td>0.0</td><td>1.3289e-9</td><td>0.0</td><td>5.8107e-9</td><td>2.1778e-9</td><td>0.57336</td><td>85.293109</td><td>92.34218</td><td>-0.981179</td><td>null</td><td>null</td><td>170.66645</td><td>null</td><td>6.277791</td><td>0.898359</td></tr><tr><td>&quot;std&quot;</td><td>96110.062236</td><td>null</td><td>7.646976</td><td>65.904102</td><td>null</td><td>null</td><td>68.334449</td><td>40609.937868</td><td>0.481477</td><td>10.426479</td><td>8111.447094</td><td>51.993395</td><td>0.499995</td><td>2023.15977</td><td>0.456417</td><td>0.206756</td><td>804.686432</td><td>0.164733</td><td>0.0</td><td>0.0</td><td>0.0</td><td>0.970969</td><td>0.0</td><td>0.979434</td><td>0.484224</td><td>0.088648</td><td>82.613894</td><td>82.644123</td><td>107.787853</td><td>null</td><td>null</td><td>152.173464</td><td>null</td><td>5.896331</td><td>0.302176</td></tr><tr><td>&quot;min&quot;</td><td>1.0</td><td>null</td><td>1.0</td><td>1.0</td><td>&quot;1.41&quot;</td><td>&quot;0.0&quot;</td><td>1.0</td><td>1.0</td><td>0.0</td><td>1.0</td><td>2.0</td><td>0.0</td><td>0.0</td><td>0.01</td><td>0.0</td><td>0.0</td><td>0.0</td><td>0.0</td><td>1.0</td><td>1.0</td><td>0.0</td><td>-5.833333</td><td>0.0</td><td>-5.43742</td><td>-3.131872</td><td>0.0</td><td>0.0</td><td>0.0</td><td>-1998.16</td><td>&quot;-0.009999999999990905&quot;</td><td>&quot;-0.009999999999999787&quot;</td><td>0.0</td><td>null</td><td>0.0</td><td>0.0</td></tr><tr><td>&quot;25%&quot;</td><td>82936.0</td><td>null</td><td>5.0</td><td>100.0</td><td>null</td><td>null</td><td>100.0</td><td>35010.0</td><td>0.0</td><td>8.0</td><td>7101.0</td><td>4.0</td><td>0.0</td><td>139.76</td><td>0.0</td><td>0.0</td><td>123.99</td><td>0.0</td><td>1.0</td><td>1.0</td><td>0.0</td><td>-0.645497</td><td>0.0</td><td>-0.466997</td><td>-0.294509</td><td>0.5194433</td><td>40.0</td><td>40.25</td><td>-24.529985</td><td>null</td><td>null</td><td>89.0</td><td>null</td><td>2.0</td><td>1.0</td></tr><tr><td>&quot;50%&quot;</td><td>166503.0</td><td>null</td><td>5.0</td><td>219.0</td><td>null</td><td>null</td><td>219.0</td><td>69630.0</td><td>1.0</td><td>16.0</td><td>13541.0</td><td>17.0</td><td>1.0</td><td>386.46</td><td>0.0</td><td>0.0</td><td>218.36</td><td>0.0</td><td>1.0</td><td>1.0</td><td>0.0</td><td>0.040506</td><td>0.0</td><td>0.222286</td><td>0.057451</td><td>0.583878</td><td>63.04</td><td>71.486667</td><td>17.834287</td><td>null</td><td>null</td><td>129.0</td><td>null</td><td>5.0</td><td>1.0</td></tr><tr><td>&quot;75%&quot;</td><td>249721.0</td><td>null</td><td>14.0</td><td>219.0</td><td>null</td><td>null</td><td>219.0</td><td>105165.0</td><td>1.0</td><td>26.0</td><td>21084.0</td><td>48.0</td><td>1.0</td><td>1499.46</td><td>1.0</td><td>0.0</td><td>429.61</td><td>0.0</td><td>1.0</td><td>1.0</td><td>0.0</td><td>0.6561673</td><td>0.0</td><td>0.662652</td><td>0.345082</td><td>0.6365348</td><td>103.0</td><td>118.63</td><td>50.295562</td><td>null</td><td>null</td><td>199.64</td><td>null</td><td>9.0</td><td>1.0</td></tr><tr><td>&quot;max&quot;</td><td>332785.0</td><td>null</td><td>34.0</td><td>231.0</td><td>&quot;5.0&quot;</td><td>&quot;999.81&quot;</td><td>230.0</td><td>140821.0</td><td>1.0</td><td>40.0</td><td>28416.0</td><td>492.0</td><td>1.0</td><td>11666.64</td><td>1.0</td><td>1.0</td><td>159292.38</td><td>1.0</td><td>1.0</td><td>1.0</td><td>0.0</td><td>5.833334</td><td>0.0</td><td>5.294649</td><td>2.3304434</td><td>1.0</td><td>9150.0</td><td>1999.0</td><td>497.681251</td><td>&quot;997.0200000000001&quot;</td><td>&quot;5.0&quot;</td><td>9150.0</td><td>null</td><td>35.0</td><td>1.0</td></tr></tbody></table></div>"
      ],
      "text/plain": [
       "shape: (9, 36)\n",
       "┌───────────┬───────────┬───────────┬───────────┬───┬───────────┬──────────┬───────────┬───────────┐\n",
       "│ statistic ┆ srch_id   ┆ date_time ┆ site_id   ┆ … ┆ total_pri ┆ score2ma ┆ promotion ┆ promotion │\n",
       "│ ---       ┆ ---       ┆ ---       ┆ ---       ┆   ┆ ce        ┆ ---      ┆ _count    ┆ _any      │\n",
       "│ str       ┆ f64       ┆ str       ┆ f64       ┆   ┆ ---       ┆ str      ┆ ---       ┆ ---       │\n",
       "│           ┆           ┆           ┆           ┆   ┆ f64       ┆          ┆ f64       ┆ f64       │\n",
       "╞═══════════╪═══════════╪═══════════╪═══════════╪═══╪═══════════╪══════════╪═══════════╪═══════════╡\n",
       "│ count     ┆ 4.953228e ┆ 0         ┆ 4.953228e ┆ … ┆ 4.953228e ┆ 0        ┆ 4.953228e ┆ 4.953228e │\n",
       "│           ┆ 6         ┆           ┆ 6         ┆   ┆ 6         ┆          ┆ 6         ┆ 6         │\n",
       "│ null_coun ┆ 0.0       ┆ 4953228   ┆ 0.0       ┆ … ┆ 0.0       ┆ 4953228  ┆ 0.0       ┆ 0.0       │\n",
       "│ t         ┆           ┆           ┆           ┆   ┆           ┆          ┆           ┆           │\n",
       "│ mean      ┆ 166367.10 ┆ null      ┆ 9.953445  ┆ … ┆ 170.66645 ┆ null     ┆ 6.277791  ┆ 0.898359  │\n",
       "│           ┆ 8221      ┆           ┆           ┆   ┆           ┆          ┆           ┆           │\n",
       "│ std       ┆ 96110.062 ┆ null      ┆ 7.646976  ┆ … ┆ 152.17346 ┆ null     ┆ 5.896331  ┆ 0.302176  │\n",
       "│           ┆ 236       ┆           ┆           ┆   ┆ 4         ┆          ┆           ┆           │\n",
       "│ min       ┆ 1.0       ┆ null      ┆ 1.0       ┆ … ┆ 0.0       ┆ null     ┆ 0.0       ┆ 0.0       │\n",
       "│ 25%       ┆ 82936.0   ┆ null      ┆ 5.0       ┆ … ┆ 89.0      ┆ null     ┆ 2.0       ┆ 1.0       │\n",
       "│ 50%       ┆ 166503.0  ┆ null      ┆ 5.0       ┆ … ┆ 129.0     ┆ null     ┆ 5.0       ┆ 1.0       │\n",
       "│ 75%       ┆ 249721.0  ┆ null      ┆ 14.0      ┆ … ┆ 199.64    ┆ null     ┆ 9.0       ┆ 1.0       │\n",
       "│ max       ┆ 332785.0  ┆ null      ┆ 34.0      ┆ … ┆ 9150.0    ┆ null     ┆ 35.0      ┆ 1.0       │\n",
       "└───────────┴───────────┴───────────┴───────────┴───┴───────────┴──────────┴───────────┴───────────┘"
      ]
     },
     "execution_count": 2,
     "metadata": {},
     "output_type": "execute_result"
    }
   ],
   "source": [
    "data = pl.read_csv('../data/preprocessed/engineered_training_set.csv')\n",
    "data.describe()"
   ]
  },
  {
   "cell_type": "code",
   "execution_count": 3,
   "metadata": {},
   "outputs": [],
   "source": [
    "data = data.sort(['srch_id', 'booking_bool', 'click_bool'], descending=[False, True, True])"
   ]
  },
  {
   "cell_type": "code",
   "execution_count": 4,
   "metadata": {},
   "outputs": [
    {
     "name": "stdout",
     "output_type": "stream",
     "text": [
      "(4958347, 54)\n"
     ]
    }
   ],
   "source": [
    "print(data.shape)"
   ]
  },
  {
   "cell_type": "markdown",
   "metadata": {},
   "source": [
    "> CHANGE THE DATA TO ENGINEERED DATA, EVERYTHING SHOULD WORK"
   ]
  },
  {
   "cell_type": "code",
   "execution_count": 4,
   "metadata": {},
   "outputs": [],
   "source": [
    "# Convert polars DataFrames to pandas DataFrames\n",
    "data_pd = data.to_pandas()\n",
    "# replace all NULL values with np.nan\n",
    "data_pd = data_pd.replace('NULL', np.nan)\n",
    "ranking_pd = data_pd[['srch_id', 'prop_id']]\n",
    "\n",
    "# Convert object columns to appropriate data types\n",
    "object_columns = data_pd.select_dtypes(include=['object']).columns\n",
    "data_pd[object_columns] = data_pd[object_columns].apply(pd.to_numeric, errors='coerce')\n",
    "\n",
    "# Split the data into features (X) and target (y)\n",
    "X = data_pd.drop(['srch_id', 'prop_id'], axis=1)\n",
    "y = ranking_pd['prop_id']\n",
    "\n",
    "\n",
    "# Split the data into training and testing sets based on srch_id\n",
    "srch_ids = data_pd['srch_id'].unique()\n",
    "train_srch_ids, test_srch_ids = train_test_split(srch_ids, test_size=0.2, random_state=42)\n",
    "\n",
    "# Create training and testing DataFrames\n",
    "train_data = data_pd[data_pd['srch_id'].isin(train_srch_ids)]\n",
    "test_data = data_pd[data_pd['srch_id'].isin(test_srch_ids)]\n",
    "\n",
    "# Create training and testing ranking DataFrames\n",
    "train_ranking = ranking_pd[ranking_pd['srch_id'].isin(train_srch_ids)]\n",
    "test_ranking = ranking_pd[ranking_pd['srch_id'].isin(test_srch_ids)]\n"
   ]
  },
  {
   "cell_type": "code",
   "execution_count": 17,
   "metadata": {},
   "outputs": [],
   "source": [
    "\n",
    "\n",
    "# Create XGBoost DMatrix objects for training and testing\n",
    "train_dmatrix = xg.DMatrix(\n",
    "    train_data.drop(['srch_id', 'booking_bool', 'gross_bookings_usd', 'position', 'click_bool'], axis=1),\n",
    "    label=train_data['prop_id'],\n",
    "    group=train_data['srch_id'].value_counts().sort_index().values\n",
    ")\n",
    "test_dmatrix = xg.DMatrix(\n",
    "    test_data.drop(['srch_id', 'booking_bool', 'gross_bookings_usd', 'position', 'click_bool'], axis=1),\n",
    "    label=test_data['prop_id'],\n",
    "    group=test_data['srch_id'].value_counts().sort_index().values\n",
    ")\n",
    "\n",
    "# MAKE SURE TO USE FULL DATA SET IN THE END\n",
    "full_dmatrix = xg.DMatrix(\n",
    "    X.drop(['booking_bool', 'gross_bookings_usd', 'position', 'click_bool'], axis=1),\n",
    "    label=y,\n",
    "    group=data_pd['srch_id'].value_counts().sort_index().values\n",
    ")\n",
    "\n",
    "# Set XGBoost parameters\n",
    "params = {\n",
    "    'objective': 'rank:pairwise',\n",
    "    'eval_metric': 'ndcg',\n",
    "    'learning_rate': 0.1,\n",
    "    'max_depth': 1,\n",
    "    'subsample': 0.1,\n",
    "    'colsample_bytree': 0.8,\n",
    "    'seed': 42\n",
    "}\n",
    "\n",
    "# Train the XGBoost ranking model\n",
    "model = xg.train(params, train_dmatrix, num_boost_round=100)\n",
    "\n"
   ]
  },
  {
   "cell_type": "code",
   "execution_count": 19,
   "metadata": {},
   "outputs": [
    {
     "name": "stdout",
     "output_type": "stream",
     "text": [
      "Mean NDCG: 0.4220\n"
     ]
    }
   ],
   "source": [
    "from sklearn.metrics import ndcg_score\n",
    "# Make predictions on the test set\n",
    "test_pred = model.predict(test_dmatrix)\n",
    "\n",
    "# Evaluate the model\n",
    "ndcg_scores = []\n",
    "for srch_id in test_srch_ids[:5000]:\n",
    "    # Get the data for the current srch_id\n",
    "    srch_data = test_data[test_data['srch_id'] == srch_id]\n",
    "    \n",
    "    # Create DMatrix for the current srch_id\n",
    "    srch_dmatrix = xg.DMatrix(srch_data.drop(['srch_id', 'booking_bool', 'gross_bookings_usd', 'position', 'click_bool'], axis=1))\n",
    "    \n",
    "    # Make predictions for the current srch_id\n",
    "    srch_pred = model.predict(srch_dmatrix)\n",
    "    \n",
    "    # Get the corresponding prop_ids for the current srch_id\n",
    "    srch_prop_ids = srch_data['prop_id']\n",
    "    \n",
    "    # Sort the prop_ids based on the predicted scores\n",
    "    sorted_prop_ids = srch_prop_ids.iloc[np.argsort(srch_pred)[::-1]]\n",
    "    \n",
    "    # Get the ground truth rankings for the current srch_id\n",
    "    test_ranking_query = test_ranking[test_ranking['srch_id'] == srch_id]['prop_id']\n",
    "    \n",
    "    # Calculate NDCG score for the current srch_id\n",
    "    if len(test_ranking_query) < 2:\n",
    "        continue\n",
    "    ndcg = ndcg_score([test_ranking_query], [sorted_prop_ids], k=5)\n",
    "    ndcg_scores.append(ndcg)\n",
    "\n",
    "# Calculate the mean NDCG score\n",
    "mean_ndcg = sum(ndcg_scores) / len(ndcg_scores)\n",
    "print(f\"Mean NDCG: {mean_ndcg:.4f}\")"
   ]
  },
  {
   "cell_type": "code",
   "execution_count": null,
   "metadata": {},
   "outputs": [],
   "source": [
    "model = xg.train(params, X, num_boost_round=100)"
   ]
  },
  {
   "cell_type": "code",
   "execution_count": 5,
   "metadata": {},
   "outputs": [],
   "source": [
    "# save the model\n",
    "\n",
    "model.save_model('models/model.json')\n",
    "# load the model\n",
    "model = xg.Booster()\n",
    "model.load_model('models/model.json')"
   ]
  },
  {
   "cell_type": "code",
   "execution_count": 4,
   "metadata": {},
   "outputs": [],
   "source": [
    "\n",
    "test_set = pl.read_csv('../data/raw/test_set_VU_DM.csv')\n",
    "test_set = test_set.to_pandas()\n",
    "test_set = test_set.replace('NULL', np.nan)\n",
    "\n",
    "object_columns = test_set.select_dtypes(include=['object']).columns\n",
    "test_set[object_columns] = test_set[object_columns].apply(pd.to_numeric, errors='coerce')"
   ]
  },
  {
   "cell_type": "code",
   "execution_count": 14,
   "metadata": {},
   "outputs": [
    {
     "data": {
      "application/vnd.jupyter.widget-view+json": {
       "model_id": "35b9ecc957d14744b7d42e25da94d6c9",
       "version_major": 2,
       "version_minor": 0
      },
      "text/plain": [
       "  0%|          | 0/199549 [00:00<?, ?it/s]"
      ]
     },
     "metadata": {},
     "output_type": "display_data"
    },
    {
     "ename": "NameError",
     "evalue": "name 'test_data' is not defined",
     "output_type": "error",
     "traceback": [
      "\u001b[0;31m---------------------------------------------------------------------------\u001b[0m",
      "\u001b[0;31mNameError\u001b[0m                                 Traceback (most recent call last)",
      "Cell \u001b[0;32mIn[14], line 38\u001b[0m\n\u001b[1;32m     34\u001b[0m submission_df \u001b[38;5;241m=\u001b[39m pd\u001b[38;5;241m.\u001b[39mconcat(results, ignore_index\u001b[38;5;241m=\u001b[39m\u001b[38;5;28;01mTrue\u001b[39;00m)\n\u001b[1;32m     37\u001b[0m \u001b[38;5;66;03m# Check final submission DataFrame size\u001b[39;00m\n\u001b[0;32m---> 38\u001b[0m \u001b[38;5;28mprint\u001b[39m(\u001b[38;5;124mf\u001b[39m\u001b[38;5;124m\"\u001b[39m\u001b[38;5;124mExpected number of entries: \u001b[39m\u001b[38;5;132;01m{\u001b[39;00m\u001b[38;5;28mlen\u001b[39m(\u001b[43mtest_data\u001b[49m)\u001b[38;5;132;01m}\u001b[39;00m\u001b[38;5;124m\"\u001b[39m)\n\u001b[1;32m     39\u001b[0m \u001b[38;5;28mprint\u001b[39m(\u001b[38;5;124mf\u001b[39m\u001b[38;5;124m\"\u001b[39m\u001b[38;5;124mActual number of entries: \u001b[39m\u001b[38;5;132;01m{\u001b[39;00m\u001b[38;5;28mlen\u001b[39m(submission_df)\u001b[38;5;132;01m}\u001b[39;00m\u001b[38;5;124m\"\u001b[39m)\n\u001b[1;32m     41\u001b[0m \u001b[38;5;66;03m# Save the submission DataFrame to a CSV file\u001b[39;00m\n",
      "\u001b[0;31mNameError\u001b[0m: name 'test_data' is not defined"
     ]
    }
   ],
   "source": [
    "srch_ids = test_set['srch_id'].unique()\n",
    "\n",
    "# Create an empty DataFrame to store the predictions\n",
    "submission_df = pd.DataFrame(columns=['srch_id', 'prop_id'])\n",
    "\n",
    "#  Unique srch_ids in the test set\n",
    "srch_ids = test_set['srch_id'].unique()\n",
    "\n",
    "# Pre-allocate a list to collect results\n",
    "results = []\n",
    "\n",
    "# Iterate over each srch_id and make predictions\n",
    "for srch_id in tqdm(srch_ids):\n",
    "    # Get the data for the current srch_id\n",
    "    srch_data = test_set[test_set['srch_id'] == srch_id]\n",
    "\n",
    "    # Create DMatrix for the current srch_id\n",
    "    srch_dmatrix = xg.DMatrix(srch_data.drop(['srch_id'], axis=1))\n",
    "\n",
    "    # Make predictions for the current srch_id\n",
    "    srch_pred = model.predict(srch_dmatrix)\n",
    "\n",
    "    # Get the corresponding prop_ids for the current srch_id\n",
    "    srch_prop_ids = srch_data['prop_id'].values\n",
    "\n",
    "    # Sort the prop_ids based on the predicted scores\n",
    "    sorted_indices = np.argsort(srch_pred)[::-1]\n",
    "    sorted_prop_ids = srch_prop_ids[sorted_indices]\n",
    "\n",
    "    # Collect the results for the current srch_id\n",
    "    results.append(pd.DataFrame({'srch_id': srch_id, 'prop_id': sorted_prop_ids}))\n",
    "\n",
    "# Concatenate all results into a single DataFrame\n",
    "submission_df = pd.concat(results, ignore_index=True)\n",
    "\n",
    "\n",
    "# Check final submission DataFrame size\n",
    "print(f\"Expected number of entries: {len(test_set)}\")\n",
    "print(f\"Actual number of entries: {len(submission_df)}\")\n",
    "\n",
    "# Save the submission DataFrame to a CSV file\n",
    "submission_df.to_csv('submit/submission.csv', index=False)"
   ]
  }
 ],
 "metadata": {
  "kernelspec": {
   "display_name": "ComputationalEnv",
   "language": "python",
   "name": "python3"
  },
  "language_info": {
   "codemirror_mode": {
    "name": "ipython",
    "version": 3
   },
   "file_extension": ".py",
   "mimetype": "text/x-python",
   "name": "python",
   "nbconvert_exporter": "python",
   "pygments_lexer": "ipython3",
   "version": "3.11.8"
  }
 },
 "nbformat": 4,
 "nbformat_minor": 2
}
