{
 "cells": [
  {
   "cell_type": "code",
   "execution_count": 1,
   "metadata": {},
   "outputs": [],
   "source": [
    "import xgboost as xg\n",
    "# import dask.dataframe as dd\n",
    "import polars as pl\n",
    "import numpy as np\n",
    "from sklearn.model_selection import train_test_split\n",
    "import pandas as pd\n",
    "from tqdm.notebook import tqdm"
   ]
  },
  {
   "cell_type": "code",
   "execution_count": 3,
   "metadata": {},
   "outputs": [],
   "source": [
    "def test_rankings(pred, order):\n",
    "    for srch in pred.srch_id.unique():\n",
    "        srch_pred = pred[pred.srch_id == srch]\n",
    "        srch_order = order[order.srch_id == srch]\n",
    "        assert len(srch_pred) == len(srch_order)\n",
    "        assert (srch_pred.prop_id == srch_order.prop_id).all()"
   ]
  },
  {
   "cell_type": "code",
   "execution_count": 5,
   "metadata": {},
   "outputs": [
    {
     "data": {
      "text/html": [
       "<div><style>\n",
       ".dataframe > thead > tr,\n",
       ".dataframe > tbody > tr {\n",
       "  text-align: right;\n",
       "  white-space: pre-wrap;\n",
       "}\n",
       "</style>\n",
       "<small>shape: (9, 55)</small><table border=\"1\" class=\"dataframe\"><thead><tr><th>statistic</th><th>srch_id</th><th>date_time</th><th>site_id</th><th>visitor_location_country_id</th><th>visitor_hist_starrating</th><th>visitor_hist_adr_usd</th><th>prop_country_id</th><th>prop_id</th><th>prop_starrating</th><th>prop_review_score</th><th>prop_brand_bool</th><th>prop_location_score1</th><th>prop_location_score2</th><th>prop_log_historical_price</th><th>position</th><th>price_usd</th><th>promotion_flag</th><th>srch_destination_id</th><th>srch_length_of_stay</th><th>srch_booking_window</th><th>srch_adults_count</th><th>srch_children_count</th><th>srch_room_count</th><th>srch_saturday_night_bool</th><th>srch_query_affinity_score</th><th>orig_destination_distance</th><th>random_bool</th><th>comp1_rate</th><th>comp1_inv</th><th>comp1_rate_percent_diff</th><th>comp2_rate</th><th>comp2_inv</th><th>comp2_rate_percent_diff</th><th>comp3_rate</th><th>comp3_inv</th><th>comp3_rate_percent_diff</th><th>comp4_rate</th><th>comp4_inv</th><th>comp4_rate_percent_diff</th><th>comp5_rate</th><th>comp5_inv</th><th>comp5_rate_percent_diff</th><th>comp6_rate</th><th>comp6_inv</th><th>comp6_rate_percent_diff</th><th>comp7_rate</th><th>comp7_inv</th><th>comp7_rate_percent_diff</th><th>comp8_rate</th><th>comp8_inv</th><th>comp8_rate_percent_diff</th><th>click_bool</th><th>gross_bookings_usd</th><th>booking_bool</th></tr><tr><td>str</td><td>f64</td><td>str</td><td>f64</td><td>f64</td><td>str</td><td>str</td><td>f64</td><td>f64</td><td>f64</td><td>f64</td><td>f64</td><td>f64</td><td>f64</td><td>f64</td><td>f64</td><td>f64</td><td>f64</td><td>f64</td><td>f64</td><td>f64</td><td>f64</td><td>f64</td><td>f64</td><td>f64</td><td>str</td><td>f64</td><td>f64</td><td>str</td><td>str</td><td>str</td><td>f64</td><td>f64</td><td>f64</td><td>f64</td><td>f64</td><td>f64</td><td>str</td><td>str</td><td>str</td><td>f64</td><td>f64</td><td>f64</td><td>str</td><td>str</td><td>str</td><td>str</td><td>str</td><td>str</td><td>f64</td><td>f64</td><td>f64</td><td>f64</td><td>f64</td><td>f64</td></tr></thead><tbody><tr><td>&quot;count&quot;</td><td>4.958347e6</td><td>&quot;4958347&quot;</td><td>4.958347e6</td><td>4.958347e6</td><td>&quot;251866&quot;</td><td>&quot;252988&quot;</td><td>4.958347e6</td><td>4.958347e6</td><td>4.958347e6</td><td>4.950983e6</td><td>4.958347e6</td><td>4.958347e6</td><td>3.867999e6</td><td>4.958347e6</td><td>4.958347e6</td><td>4.958347e6</td><td>4.958347e6</td><td>4.958347e6</td><td>4.958347e6</td><td>4.958347e6</td><td>4.958347e6</td><td>4.958347e6</td><td>4.958347e6</td><td>4.958347e6</td><td>&quot;317406&quot;</td><td>3.350565e6</td><td>4.958347e6</td><td>&quot;119930&quot;</td><td>&quot;129559&quot;</td><td>&quot;94439&quot;</td><td>2.024672e6</td><td>2.130269e6</td><td>556238.0</td><td>1.534288e6</td><td>1.65099e6</td><td>472797.0</td><td>&quot;307378&quot;</td><td>&quot;343663&quot;</td><td>&quot;131086&quot;</td><td>2.222373e6</td><td>2.36002e6</td><td>841099.0</td><td>&quot;240157&quot;</td><td>&quot;260976&quot;</td><td>&quot;96174&quot;</td><td>&quot;315348&quot;</td><td>&quot;356422&quot;</td><td>&quot;138515&quot;</td><td>1.916654e6</td><td>1.987503e6</td><td>614730.0</td><td>4.958347e6</td><td>138390.0</td><td>4.958347e6</td></tr><tr><td>&quot;null_count&quot;</td><td>0.0</td><td>&quot;0&quot;</td><td>0.0</td><td>0.0</td><td>&quot;4706481&quot;</td><td>&quot;4705359&quot;</td><td>0.0</td><td>0.0</td><td>0.0</td><td>7364.0</td><td>0.0</td><td>0.0</td><td>1.090348e6</td><td>0.0</td><td>0.0</td><td>0.0</td><td>0.0</td><td>0.0</td><td>0.0</td><td>0.0</td><td>0.0</td><td>0.0</td><td>0.0</td><td>0.0</td><td>&quot;4640941&quot;</td><td>1.607782e6</td><td>0.0</td><td>&quot;4838417&quot;</td><td>&quot;4828788&quot;</td><td>&quot;4863908&quot;</td><td>2.933675e6</td><td>2.828078e6</td><td>4.402109e6</td><td>3.424059e6</td><td>3.307357e6</td><td>4.48555e6</td><td>&quot;4650969&quot;</td><td>&quot;4614684&quot;</td><td>&quot;4827261&quot;</td><td>2.735974e6</td><td>2.598327e6</td><td>4.117248e6</td><td>&quot;4718190&quot;</td><td>&quot;4697371&quot;</td><td>&quot;4862173&quot;</td><td>&quot;4642999&quot;</td><td>&quot;4601925&quot;</td><td>&quot;4819832&quot;</td><td>3.041693e6</td><td>2.970844e6</td><td>4.343617e6</td><td>0.0</td><td>4.819957e6</td><td>0.0</td></tr><tr><td>&quot;mean&quot;</td><td>166366.561096</td><td>null</td><td>9.953133</td><td>175.340453</td><td>null</td><td>null</td><td>173.973897</td><td>70079.179496</td><td>3.180525</td><td>3.777777</td><td>0.634699</td><td>2.872589</td><td>0.130385</td><td>4.317913</td><td>16.856236</td><td>254.20959</td><td>0.21562</td><td>14042.630393</td><td>2.385427</td><td>37.474165</td><td>1.972637</td><td>0.350492</td><td>1.110525</td><td>0.502213</td><td>null</td><td>1301.234406</td><td>0.2959</td><td>null</td><td>null</td><td>null</td><td>0.04419</td><td>0.03931</td><td>18.490732</td><td>0.01729</td><td>0.057769</td><td>27.071559</td><td>null</td><td>null</td><td>null</td><td>0.022676</td><td>0.051429</td><td>29.851903</td><td>null</td><td>null</td><td>null</td><td>null</td><td>null</td><td>null</td><td>-0.060899</td><td>0.009963</td><td>22.430384</td><td>0.044749</td><td>386.283316</td><td>0.027911</td></tr><tr><td>&quot;std&quot;</td><td>96112.230102</td><td>null</td><td>7.64689</td><td>65.916249</td><td>null</td><td>null</td><td>68.345248</td><td>40609.920378</td><td>1.051024</td><td>1.050329</td><td>0.481514</td><td>1.531011</td><td>0.159463</td><td>1.834869</td><td>10.425655</td><td>16001.237061</td><td>0.411252</td><td>8111.843351</td><td>2.053243</td><td>51.993411</td><td>0.857063</td><td>0.732569</td><td>0.417229</td><td>0.499995</td><td>null</td><td>2023.951353</td><td>0.456446</td><td>null</td><td>null</td><td>null</td><td>0.448424</td><td>0.234239</td><td>240.113851</td><td>0.457581</td><td>0.29482</td><td>1012.919911</td><td>null</td><td>null</td><td>null</td><td>0.521757</td><td>0.267836</td><td>1340.262382</td><td>null</td><td>null</td><td>null</td><td>null</td><td>null</td><td>null</td><td>0.469172</td><td>0.202914</td><td>895.965854</td><td>0.206751</td><td>821.190577</td><td>0.164716</td></tr><tr><td>&quot;min&quot;</td><td>1.0</td><td>&quot;2012-11-01 00:08:29&quot;</td><td>1.0</td><td>1.0</td><td>&quot;1.41&quot;</td><td>&quot;0.0&quot;</td><td>1.0</td><td>1.0</td><td>0.0</td><td>0.0</td><td>0.0</td><td>0.0</td><td>0.0</td><td>0.0</td><td>1.0</td><td>0.0</td><td>0.0</td><td>2.0</td><td>1.0</td><td>0.0</td><td>1.0</td><td>0.0</td><td>1.0</td><td>0.0</td><td>&quot;-10.0001&quot;</td><td>0.01</td><td>0.0</td><td>&quot;-1&quot;</td><td>&quot;-1&quot;</td><td>&quot;10&quot;</td><td>-1.0</td><td>-1.0</td><td>2.0</td><td>-1.0</td><td>-1.0</td><td>2.0</td><td>&quot;-1&quot;</td><td>&quot;-1&quot;</td><td>&quot;10&quot;</td><td>-1.0</td><td>-1.0</td><td>2.0</td><td>&quot;-1&quot;</td><td>&quot;-1&quot;</td><td>&quot;10&quot;</td><td>&quot;-1&quot;</td><td>&quot;-1&quot;</td><td>&quot;10&quot;</td><td>-1.0</td><td>-1.0</td><td>2.0</td><td>0.0</td><td>0.0</td><td>0.0</td></tr><tr><td>&quot;25%&quot;</td><td>82936.0</td><td>null</td><td>5.0</td><td>100.0</td><td>null</td><td>null</td><td>100.0</td><td>35010.0</td><td>3.0</td><td>3.5</td><td>0.0</td><td>1.79</td><td>0.019</td><td>4.45</td><td>8.0</td><td>85.0</td><td>0.0</td><td>7101.0</td><td>1.0</td><td>4.0</td><td>2.0</td><td>0.0</td><td>1.0</td><td>0.0</td><td>null</td><td>139.8</td><td>0.0</td><td>null</td><td>null</td><td>null</td><td>0.0</td><td>0.0</td><td>7.0</td><td>0.0</td><td>0.0</td><td>7.0</td><td>null</td><td>null</td><td>null</td><td>0.0</td><td>0.0</td><td>7.0</td><td>null</td><td>null</td><td>null</td><td>null</td><td>null</td><td>null</td><td>0.0</td><td>0.0</td><td>7.0</td><td>0.0</td><td>124.0</td><td>0.0</td></tr><tr><td>&quot;50%&quot;</td><td>166507.0</td><td>null</td><td>5.0</td><td>219.0</td><td>null</td><td>null</td><td>219.0</td><td>69638.0</td><td>3.0</td><td>4.0</td><td>1.0</td><td>2.77</td><td>0.069</td><td>4.91</td><td>16.0</td><td>122.0</td><td>0.0</td><td>13541.0</td><td>2.0</td><td>17.0</td><td>2.0</td><td>0.0</td><td>1.0</td><td>1.0</td><td>null</td><td>386.6</td><td>0.0</td><td>null</td><td>null</td><td>null</td><td>0.0</td><td>0.0</td><td>11.0</td><td>0.0</td><td>0.0</td><td>11.0</td><td>null</td><td>null</td><td>null</td><td>0.0</td><td>0.0</td><td>12.0</td><td>null</td><td>null</td><td>null</td><td>null</td><td>null</td><td>null</td><td>0.0</td><td>0.0</td><td>11.0</td><td>0.0</td><td>218.4</td><td>0.0</td></tr><tr><td>&quot;75%&quot;</td><td>249724.0</td><td>null</td><td>14.0</td><td>219.0</td><td>null</td><td>null</td><td>219.0</td><td>105168.0</td><td>4.0</td><td>4.5</td><td>1.0</td><td>4.04</td><td>0.1805</td><td>5.31</td><td>26.0</td><td>184.96</td><td>0.0</td><td>21084.0</td><td>3.0</td><td>48.0</td><td>2.0</td><td>0.0</td><td>1.0</td><td>1.0</td><td>null</td><td>1500.67</td><td>1.0</td><td>null</td><td>null</td><td>null</td><td>0.0</td><td>0.0</td><td>20.0</td><td>0.0</td><td>0.0</td><td>18.0</td><td>null</td><td>null</td><td>null</td><td>0.0</td><td>0.0</td><td>21.0</td><td>null</td><td>null</td><td>null</td><td>null</td><td>null</td><td>null</td><td>0.0</td><td>0.0</td><td>17.0</td><td>0.0</td><td>429.79</td><td>0.0</td></tr><tr><td>&quot;max&quot;</td><td>332785.0</td><td>&quot;2013-06-30 23:58:24&quot;</td><td>34.0</td><td>231.0</td><td>&quot;5.0&quot;</td><td>&quot;999.81&quot;</td><td>230.0</td><td>140821.0</td><td>5.0</td><td>5.0</td><td>1.0</td><td>6.98</td><td>1.0</td><td>6.21</td><td>40.0</td><td>1.9726328e7</td><td>1.0</td><td>28416.0</td><td>57.0</td><td>492.0</td><td>9.0</td><td>9.0</td><td>8.0</td><td>1.0</td><td>&quot;-99.9113&quot;</td><td>11666.64</td><td>1.0</td><td>&quot;1&quot;</td><td>&quot;1&quot;</td><td>&quot;9996&quot;</td><td>1.0</td><td>1.0</td><td>168893.0</td><td>1.0</td><td>1.0</td><td>199266.0</td><td>&quot;1&quot;</td><td>&quot;1&quot;</td><td>&quot;99&quot;</td><td>1.0</td><td>1.0</td><td>607561.0</td><td>&quot;1&quot;</td><td>&quot;1&quot;</td><td>&quot;998&quot;</td><td>&quot;1&quot;</td><td>&quot;1&quot;</td><td>&quot;9900&quot;</td><td>1.0</td><td>1.0</td><td>149400.0</td><td>1.0</td><td>159292.38</td><td>1.0</td></tr></tbody></table></div>"
      ],
      "text/plain": [
       "shape: (9, 55)\n",
       "┌───────────┬───────────┬───────────┬───────────┬───┬───────────┬───────────┬───────────┬──────────┐\n",
       "│ statistic ┆ srch_id   ┆ date_time ┆ site_id   ┆ … ┆ comp8_rat ┆ click_boo ┆ gross_boo ┆ booking_ │\n",
       "│ ---       ┆ ---       ┆ ---       ┆ ---       ┆   ┆ e_percent ┆ l         ┆ kings_usd ┆ bool     │\n",
       "│ str       ┆ f64       ┆ str       ┆ f64       ┆   ┆ _diff     ┆ ---       ┆ ---       ┆ ---      │\n",
       "│           ┆           ┆           ┆           ┆   ┆ ---       ┆ f64       ┆ f64       ┆ f64      │\n",
       "│           ┆           ┆           ┆           ┆   ┆ f64       ┆           ┆           ┆          │\n",
       "╞═══════════╪═══════════╪═══════════╪═══════════╪═══╪═══════════╪═══════════╪═══════════╪══════════╡\n",
       "│ count     ┆ 4.958347e ┆ 4958347   ┆ 4.958347e ┆ … ┆ 614730.0  ┆ 4.958347e ┆ 138390.0  ┆ 4.958347 │\n",
       "│           ┆ 6         ┆           ┆ 6         ┆   ┆           ┆ 6         ┆           ┆ e6       │\n",
       "│ null_coun ┆ 0.0       ┆ 0         ┆ 0.0       ┆ … ┆ 4.343617e ┆ 0.0       ┆ 4.819957e ┆ 0.0      │\n",
       "│ t         ┆           ┆           ┆           ┆   ┆ 6         ┆           ┆ 6         ┆          │\n",
       "│ mean      ┆ 166366.56 ┆ null      ┆ 9.953133  ┆ … ┆ 22.430384 ┆ 0.044749  ┆ 386.28331 ┆ 0.027911 │\n",
       "│           ┆ 1096      ┆           ┆           ┆   ┆           ┆           ┆ 6         ┆          │\n",
       "│ std       ┆ 96112.230 ┆ null      ┆ 7.64689   ┆ … ┆ 895.96585 ┆ 0.206751  ┆ 821.19057 ┆ 0.164716 │\n",
       "│           ┆ 102       ┆           ┆           ┆   ┆ 4         ┆           ┆ 7         ┆          │\n",
       "│ min       ┆ 1.0       ┆ 2012-11-0 ┆ 1.0       ┆ … ┆ 2.0       ┆ 0.0       ┆ 0.0       ┆ 0.0      │\n",
       "│           ┆           ┆ 1         ┆           ┆   ┆           ┆           ┆           ┆          │\n",
       "│           ┆           ┆ 00:08:29  ┆           ┆   ┆           ┆           ┆           ┆          │\n",
       "│ 25%       ┆ 82936.0   ┆ null      ┆ 5.0       ┆ … ┆ 7.0       ┆ 0.0       ┆ 124.0     ┆ 0.0      │\n",
       "│ 50%       ┆ 166507.0  ┆ null      ┆ 5.0       ┆ … ┆ 11.0      ┆ 0.0       ┆ 218.4     ┆ 0.0      │\n",
       "│ 75%       ┆ 249724.0  ┆ null      ┆ 14.0      ┆ … ┆ 17.0      ┆ 0.0       ┆ 429.79    ┆ 0.0      │\n",
       "│ max       ┆ 332785.0  ┆ 2013-06-3 ┆ 34.0      ┆ … ┆ 149400.0  ┆ 1.0       ┆ 159292.38 ┆ 1.0      │\n",
       "│           ┆           ┆ 0         ┆           ┆   ┆           ┆           ┆           ┆          │\n",
       "│           ┆           ┆ 23:58:24  ┆           ┆   ┆           ┆           ┆           ┆          │\n",
       "└───────────┴───────────┴───────────┴───────────┴───┴───────────┴───────────┴───────────┴──────────┘"
      ]
     },
     "execution_count": 5,
     "metadata": {},
     "output_type": "execute_result"
    }
   ],
   "source": [
    "data = pl.read_csv('../data/raw/training_set_VU_DM.csv', null_values=['NULL'])\n",
    "data.describe()"
   ]
  },
  {
   "cell_type": "code",
   "execution_count": 6,
   "metadata": {},
   "outputs": [],
   "source": [
    "data = data.sort(['srch_id', 'booking_bool', 'click_bool'], descending=[False, True, True])"
   ]
  },
  {
   "cell_type": "code",
   "execution_count": 4,
   "metadata": {},
   "outputs": [
    {
     "name": "stdout",
     "output_type": "stream",
     "text": [
      "(4958347, 54)\n"
     ]
    }
   ],
   "source": [
    "print(data.shape)"
   ]
  },
  {
   "cell_type": "markdown",
   "metadata": {},
   "source": [
    "> CHANGE THE DATA TO ENGINEERED DATA, EVERYTHING SHOULD WORK"
   ]
  },
  {
   "cell_type": "code",
   "execution_count": 9,
   "metadata": {},
   "outputs": [],
   "source": [
    "# Convert polars DataFrames to pandas DataFrames\n",
    "data_pd = data.to_pandas()\n",
    "# replace all NULL values with np.nan\n",
    "data_pd = data_pd.replace('NULL', np.nan)\n",
    "ranking_pd = data_pd[['srch_id', 'prop_id']]\n",
    "\n",
    "# Convert object columns to appropriate data types\n",
    "object_columns = data_pd.select_dtypes(include=['object']).columns\n",
    "data_pd[object_columns] = data_pd[object_columns].apply(pd.to_numeric, errors='coerce')\n",
    "\n",
    "# Split the data into features (X) and target (y)\n",
    "X = data_pd.drop(['srch_id', 'prop_id'], axis=1)\n",
    "y = ranking_pd['prop_id']\n",
    "\n",
    "\n",
    "# Split the data into training and testing sets based on srch_id\n",
    "srch_ids = data_pd['srch_id'].unique()\n",
    "train_srch_ids, test_srch_ids = train_test_split(srch_ids, test_size=0.2, random_state=42)\n",
    "\n",
    "# Create training and testing DataFrames\n",
    "train_data = data_pd[data_pd['srch_id'].isin(train_srch_ids)]\n",
    "test_data = data_pd[data_pd['srch_id'].isin(test_srch_ids)]\n",
    "\n",
    "# Create training and testing ranking DataFrames\n",
    "train_ranking = ranking_pd[ranking_pd['srch_id'].isin(train_srch_ids)]\n",
    "test_ranking = ranking_pd[ranking_pd['srch_id'].isin(test_srch_ids)]\n"
   ]
  },
  {
   "cell_type": "code",
   "execution_count": 14,
   "metadata": {},
   "outputs": [],
   "source": [
    "\n",
    "\n",
    "# Create XGBoost DMatrix objects for training and testing\n",
    "train_dmatrix = xg.DMatrix(\n",
    "    train_data.drop(['srch_id', 'booking_bool', 'gross_bookings_usd', 'position', 'click_bool'], axis=1),\n",
    "    label=train_data['prop_id'],\n",
    "    group=train_data['srch_id'].value_counts().sort_index().values\n",
    ")\n",
    "test_dmatrix = xg.DMatrix(\n",
    "    test_data.drop(['srch_id', 'booking_bool', 'gross_bookings_usd', 'position', 'click_bool'], axis=1),\n",
    "    label=test_data['prop_id'],\n",
    "    group=test_data['srch_id'].value_counts().sort_index().values\n",
    ")\n",
    "\n",
    "# MAKE SURE TO USE FULL DATA SET IN THE END\n",
    "full_dmatrix = xg.DMatrix(\n",
    "    X.drop(['booking_bool', 'gross_bookings_usd', 'position', 'click_bool'], axis=1),\n",
    "    label=y,\n",
    "    group=data_pd['srch_id'].value_counts().sort_index().values\n",
    ")\n",
    "\n",
    "# Set XGBoost parameters\n",
    "params = {\n",
    "    'objective': 'rank:pairwise',\n",
    "    'eval_metric': 'ndcg',\n",
    "    'learning_rate': 0.1,\n",
    "    'max_depth': 7,\n",
    "    'subsample': 0.8,\n",
    "    'colsample_bytree': 0.8,\n",
    "    'seed': 42\n",
    "}\n",
    "\n",
    "# Train the XGBoost ranking model\n",
    "model = xg.train(params, train_dmatrix, num_boost_round=100)\n",
    "\n"
   ]
  },
  {
   "cell_type": "code",
   "execution_count": 6,
   "metadata": {},
   "outputs": [
    {
     "name": "stdout",
     "output_type": "stream",
     "text": [
      "Mean NDCG: 0.4448\n"
     ]
    }
   ],
   "source": [
    "from sklearn.metrics import ndcg_score\n",
    "# Make predictions on the test set\n",
    "test_pred = model.predict(test_dmatrix)\n",
    "\n",
    "# Evaluate the model\n",
    "ndcg_scores = []\n",
    "for srch_id in test_srch_ids:\n",
    "    # Get the data for the current srch_id\n",
    "    srch_data = test_data[test_data['srch_id'] == srch_id]\n",
    "    \n",
    "    # Create DMatrix for the current srch_id\n",
    "    srch_dmatrix = xg.DMatrix(srch_data.drop(['srch_id', 'booking_bool', 'gross_bookings_usd', 'position', 'click_bool'], axis=1))\n",
    "    \n",
    "    # Make predictions for the current srch_id\n",
    "    srch_pred = model.predict(srch_dmatrix)\n",
    "    \n",
    "    # Get the corresponding prop_ids for the current srch_id\n",
    "    srch_prop_ids = srch_data['prop_id']\n",
    "    \n",
    "    # Sort the prop_ids based on the predicted scores\n",
    "    sorted_prop_ids = srch_prop_ids.iloc[np.argsort(srch_pred)[::-1]]\n",
    "    \n",
    "    # Get the ground truth rankings for the current srch_id\n",
    "    test_ranking_query = test_ranking[test_ranking['srch_id'] == srch_id]['prop_id']\n",
    "    \n",
    "    # Calculate NDCG score for the current srch_id\n",
    "    ndcg = ndcg_score([test_ranking_query], [sorted_prop_ids], k=5)\n",
    "    ndcg_scores.append(ndcg)\n",
    "\n",
    "# Calculate the mean NDCG score\n",
    "mean_ndcg = sum(ndcg_scores) / len(ndcg_scores)\n",
    "print(f\"Mean NDCG: {mean_ndcg:.4f}\")"
   ]
  },
  {
   "cell_type": "code",
   "execution_count": null,
   "metadata": {},
   "outputs": [],
   "source": [
    "model = xg.train(params, X, num_boost_round=100)"
   ]
  },
  {
   "cell_type": "code",
   "execution_count": 3,
   "metadata": {},
   "outputs": [],
   "source": [
    "# save the model\n",
    "\n",
    "model.save_model('model.json')\n",
    "# load the model\n",
    "model = xg.Booster()\n",
    "model.load_model('model.json')"
   ]
  },
  {
   "cell_type": "code",
   "execution_count": 4,
   "metadata": {},
   "outputs": [],
   "source": [
    "\n",
    "test_set = pl.read_csv('../data/raw/test_set_VU_DM.csv')\n",
    "test_set = test_set.to_pandas()\n",
    "test_set = test_set.replace('NULL', np.nan)\n",
    "\n",
    "object_columns = test_set.select_dtypes(include=['object']).columns\n",
    "test_set[object_columns] = test_set[object_columns].apply(pd.to_numeric, errors='coerce')"
   ]
  },
  {
   "cell_type": "code",
   "execution_count": 14,
   "metadata": {},
   "outputs": [
    {
     "data": {
      "application/vnd.jupyter.widget-view+json": {
       "model_id": "35b9ecc957d14744b7d42e25da94d6c9",
       "version_major": 2,
       "version_minor": 0
      },
      "text/plain": [
       "  0%|          | 0/199549 [00:00<?, ?it/s]"
      ]
     },
     "metadata": {},
     "output_type": "display_data"
    },
    {
     "ename": "NameError",
     "evalue": "name 'test_data' is not defined",
     "output_type": "error",
     "traceback": [
      "\u001b[0;31m---------------------------------------------------------------------------\u001b[0m",
      "\u001b[0;31mNameError\u001b[0m                                 Traceback (most recent call last)",
      "Cell \u001b[0;32mIn[14], line 38\u001b[0m\n\u001b[1;32m     34\u001b[0m submission_df \u001b[38;5;241m=\u001b[39m pd\u001b[38;5;241m.\u001b[39mconcat(results, ignore_index\u001b[38;5;241m=\u001b[39m\u001b[38;5;28;01mTrue\u001b[39;00m)\n\u001b[1;32m     37\u001b[0m \u001b[38;5;66;03m# Check final submission DataFrame size\u001b[39;00m\n\u001b[0;32m---> 38\u001b[0m \u001b[38;5;28mprint\u001b[39m(\u001b[38;5;124mf\u001b[39m\u001b[38;5;124m\"\u001b[39m\u001b[38;5;124mExpected number of entries: \u001b[39m\u001b[38;5;132;01m{\u001b[39;00m\u001b[38;5;28mlen\u001b[39m(\u001b[43mtest_data\u001b[49m)\u001b[38;5;132;01m}\u001b[39;00m\u001b[38;5;124m\"\u001b[39m)\n\u001b[1;32m     39\u001b[0m \u001b[38;5;28mprint\u001b[39m(\u001b[38;5;124mf\u001b[39m\u001b[38;5;124m\"\u001b[39m\u001b[38;5;124mActual number of entries: \u001b[39m\u001b[38;5;132;01m{\u001b[39;00m\u001b[38;5;28mlen\u001b[39m(submission_df)\u001b[38;5;132;01m}\u001b[39;00m\u001b[38;5;124m\"\u001b[39m)\n\u001b[1;32m     41\u001b[0m \u001b[38;5;66;03m# Save the submission DataFrame to a CSV file\u001b[39;00m\n",
      "\u001b[0;31mNameError\u001b[0m: name 'test_data' is not defined"
     ]
    }
   ],
   "source": [
    "srch_ids = test_set['srch_id'].unique()\n",
    "\n",
    "# Create an empty DataFrame to store the predictions\n",
    "submission_df = pd.DataFrame(columns=['srch_id', 'prop_id'])\n",
    "\n",
    "#  Unique srch_ids in the test set\n",
    "srch_ids = test_set['srch_id'].unique()\n",
    "\n",
    "# Pre-allocate a list to collect results\n",
    "results = []\n",
    "\n",
    "# Iterate over each srch_id and make predictions\n",
    "for srch_id in tqdm(srch_ids):\n",
    "    # Get the data for the current srch_id\n",
    "    srch_data = test_set[test_set['srch_id'] == srch_id]\n",
    "\n",
    "    # Create DMatrix for the current srch_id\n",
    "    srch_dmatrix = xg.DMatrix(srch_data.drop(['srch_id'], axis=1))\n",
    "\n",
    "    # Make predictions for the current srch_id\n",
    "    srch_pred = model.predict(srch_dmatrix)\n",
    "\n",
    "    # Get the corresponding prop_ids for the current srch_id\n",
    "    srch_prop_ids = srch_data['prop_id'].values\n",
    "\n",
    "    # Sort the prop_ids based on the predicted scores\n",
    "    sorted_indices = np.argsort(srch_pred)[::-1]\n",
    "    sorted_prop_ids = srch_prop_ids[sorted_indices]\n",
    "\n",
    "    # Collect the results for the current srch_id\n",
    "    results.append(pd.DataFrame({'srch_id': srch_id, 'prop_id': sorted_prop_ids}))\n",
    "\n",
    "# Concatenate all results into a single DataFrame\n",
    "submission_df = pd.concat(results, ignore_index=True)\n",
    "\n",
    "\n",
    "# Check final submission DataFrame size\n",
    "print(f\"Expected number of entries: {len(test_set)}\")\n",
    "print(f\"Actual number of entries: {len(submission_df)}\")\n",
    "\n",
    "# Save the submission DataFrame to a CSV file\n",
    "submission_df.to_csv('submit/submission.csv', index=False)"
   ]
  }
 ],
 "metadata": {
  "kernelspec": {
   "display_name": "ComputationalEnv",
   "language": "python",
   "name": "python3"
  },
  "language_info": {
   "codemirror_mode": {
    "name": "ipython",
    "version": 3
   },
   "file_extension": ".py",
   "mimetype": "text/x-python",
   "name": "python",
   "nbconvert_exporter": "python",
   "pygments_lexer": "ipython3",
   "version": "3.11.8"
  }
 },
 "nbformat": 4,
 "nbformat_minor": 2
}
