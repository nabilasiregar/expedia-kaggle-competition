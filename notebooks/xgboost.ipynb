{
 "cells": [
  {
   "cell_type": "code",
   "execution_count": 2,
   "metadata": {},
   "outputs": [],
   "source": [
    "import xgboost as xg\n",
    "# import dask.dataframe as dd\n",
    "import polars as pl\n",
    "import numpy as np\n",
    "from sklearn.model_selection import train_test_split\n",
    "import pandas as pd"
   ]
  },
  {
   "cell_type": "code",
   "execution_count": 3,
   "metadata": {},
   "outputs": [],
   "source": [
    "def test_rankings(pred, order):\n",
    "    for srch in pred.srch_id.unique():\n",
    "        srch_pred = pred[pred.srch_id == srch]\n",
    "        srch_order = order[order.srch_id == srch]\n",
    "        assert len(srch_pred) == len(srch_order)\n",
    "        assert (srch_pred.prop_id == srch_order.prop_id).all()"
   ]
  },
  {
   "cell_type": "code",
   "execution_count": 4,
   "metadata": {},
   "outputs": [
    {
     "data": {
      "text/html": [
       "<div><style>\n",
       ".dataframe > thead > tr,\n",
       ".dataframe > tbody > tr {\n",
       "  text-align: right;\n",
       "  white-space: pre-wrap;\n",
       "}\n",
       "</style>\n",
       "<small>shape: (9, 55)</small><table border=\"1\" class=\"dataframe\"><thead><tr><th>statistic</th><th>srch_id</th><th>date_time</th><th>site_id</th><th>visitor_location_country_id</th><th>visitor_hist_starrating</th><th>visitor_hist_adr_usd</th><th>prop_country_id</th><th>prop_id</th><th>prop_starrating</th><th>prop_review_score</th><th>prop_brand_bool</th><th>prop_location_score1</th><th>prop_location_score2</th><th>prop_log_historical_price</th><th>position</th><th>price_usd</th><th>promotion_flag</th><th>srch_destination_id</th><th>srch_length_of_stay</th><th>srch_booking_window</th><th>srch_adults_count</th><th>srch_children_count</th><th>srch_room_count</th><th>srch_saturday_night_bool</th><th>srch_query_affinity_score</th><th>orig_destination_distance</th><th>random_bool</th><th>comp1_rate</th><th>comp1_inv</th><th>comp1_rate_percent_diff</th><th>comp2_rate</th><th>comp2_inv</th><th>comp2_rate_percent_diff</th><th>comp3_rate</th><th>comp3_inv</th><th>comp3_rate_percent_diff</th><th>comp4_rate</th><th>comp4_inv</th><th>comp4_rate_percent_diff</th><th>comp5_rate</th><th>comp5_inv</th><th>comp5_rate_percent_diff</th><th>comp6_rate</th><th>comp6_inv</th><th>comp6_rate_percent_diff</th><th>comp7_rate</th><th>comp7_inv</th><th>comp7_rate_percent_diff</th><th>comp8_rate</th><th>comp8_inv</th><th>comp8_rate_percent_diff</th><th>click_bool</th><th>gross_bookings_usd</th><th>booking_bool</th></tr><tr><td>str</td><td>f64</td><td>str</td><td>f64</td><td>f64</td><td>str</td><td>str</td><td>f64</td><td>f64</td><td>f64</td><td>f64</td><td>f64</td><td>f64</td><td>str</td><td>f64</td><td>f64</td><td>f64</td><td>f64</td><td>f64</td><td>f64</td><td>f64</td><td>f64</td><td>f64</td><td>f64</td><td>f64</td><td>str</td><td>str</td><td>f64</td><td>str</td><td>str</td><td>str</td><td>str</td><td>str</td><td>str</td><td>str</td><td>str</td><td>str</td><td>str</td><td>str</td><td>str</td><td>str</td><td>str</td><td>str</td><td>str</td><td>str</td><td>str</td><td>str</td><td>str</td><td>str</td><td>str</td><td>str</td><td>str</td><td>f64</td><td>str</td><td>f64</td></tr></thead><tbody><tr><td>&quot;count&quot;</td><td>4.958347e6</td><td>&quot;4958347&quot;</td><td>4.958347e6</td><td>4.958347e6</td><td>&quot;4958347&quot;</td><td>&quot;4958347&quot;</td><td>4.958347e6</td><td>4.958347e6</td><td>4.958347e6</td><td>4.950983e6</td><td>4.958347e6</td><td>4.958347e6</td><td>&quot;4958347&quot;</td><td>4.958347e6</td><td>4.958347e6</td><td>4.958347e6</td><td>4.958347e6</td><td>4.958347e6</td><td>4.958347e6</td><td>4.958347e6</td><td>4.958347e6</td><td>4.958347e6</td><td>4.958347e6</td><td>4.958347e6</td><td>&quot;4958347&quot;</td><td>&quot;4958347&quot;</td><td>4.958347e6</td><td>&quot;4958347&quot;</td><td>&quot;4958347&quot;</td><td>&quot;4958347&quot;</td><td>&quot;4958347&quot;</td><td>&quot;4958347&quot;</td><td>&quot;4958347&quot;</td><td>&quot;4958347&quot;</td><td>&quot;4958347&quot;</td><td>&quot;4958347&quot;</td><td>&quot;4958347&quot;</td><td>&quot;4958347&quot;</td><td>&quot;4958347&quot;</td><td>&quot;4958347&quot;</td><td>&quot;4958347&quot;</td><td>&quot;4958347&quot;</td><td>&quot;4958347&quot;</td><td>&quot;4958347&quot;</td><td>&quot;4958347&quot;</td><td>&quot;4958347&quot;</td><td>&quot;4958347&quot;</td><td>&quot;4958347&quot;</td><td>&quot;4958347&quot;</td><td>&quot;4958347&quot;</td><td>&quot;4958347&quot;</td><td>4.958347e6</td><td>&quot;4958347&quot;</td><td>4.958347e6</td></tr><tr><td>&quot;null_count&quot;</td><td>0.0</td><td>&quot;0&quot;</td><td>0.0</td><td>0.0</td><td>&quot;0&quot;</td><td>&quot;0&quot;</td><td>0.0</td><td>0.0</td><td>0.0</td><td>7364.0</td><td>0.0</td><td>0.0</td><td>&quot;0&quot;</td><td>0.0</td><td>0.0</td><td>0.0</td><td>0.0</td><td>0.0</td><td>0.0</td><td>0.0</td><td>0.0</td><td>0.0</td><td>0.0</td><td>0.0</td><td>&quot;0&quot;</td><td>&quot;0&quot;</td><td>0.0</td><td>&quot;0&quot;</td><td>&quot;0&quot;</td><td>&quot;0&quot;</td><td>&quot;0&quot;</td><td>&quot;0&quot;</td><td>&quot;0&quot;</td><td>&quot;0&quot;</td><td>&quot;0&quot;</td><td>&quot;0&quot;</td><td>&quot;0&quot;</td><td>&quot;0&quot;</td><td>&quot;0&quot;</td><td>&quot;0&quot;</td><td>&quot;0&quot;</td><td>&quot;0&quot;</td><td>&quot;0&quot;</td><td>&quot;0&quot;</td><td>&quot;0&quot;</td><td>&quot;0&quot;</td><td>&quot;0&quot;</td><td>&quot;0&quot;</td><td>&quot;0&quot;</td><td>&quot;0&quot;</td><td>&quot;0&quot;</td><td>0.0</td><td>&quot;0&quot;</td><td>0.0</td></tr><tr><td>&quot;mean&quot;</td><td>166366.561096</td><td>null</td><td>9.953133</td><td>175.340453</td><td>null</td><td>null</td><td>173.973897</td><td>70079.179496</td><td>3.180525</td><td>3.777777</td><td>0.634699</td><td>2.872589</td><td>null</td><td>4.317913</td><td>16.856236</td><td>254.20959</td><td>0.21562</td><td>14042.630393</td><td>2.385427</td><td>37.474165</td><td>1.972637</td><td>0.350492</td><td>1.110525</td><td>0.502213</td><td>null</td><td>null</td><td>0.2959</td><td>null</td><td>null</td><td>null</td><td>null</td><td>null</td><td>null</td><td>null</td><td>null</td><td>null</td><td>null</td><td>null</td><td>null</td><td>null</td><td>null</td><td>null</td><td>null</td><td>null</td><td>null</td><td>null</td><td>null</td><td>null</td><td>null</td><td>null</td><td>null</td><td>0.044749</td><td>null</td><td>0.027911</td></tr><tr><td>&quot;std&quot;</td><td>96112.230102</td><td>null</td><td>7.64689</td><td>65.916249</td><td>null</td><td>null</td><td>68.345248</td><td>40609.920378</td><td>1.051024</td><td>1.050329</td><td>0.481514</td><td>1.531011</td><td>null</td><td>1.834869</td><td>10.425655</td><td>16001.237061</td><td>0.411252</td><td>8111.843351</td><td>2.053243</td><td>51.993411</td><td>0.857063</td><td>0.732569</td><td>0.417229</td><td>0.499995</td><td>null</td><td>null</td><td>0.456446</td><td>null</td><td>null</td><td>null</td><td>null</td><td>null</td><td>null</td><td>null</td><td>null</td><td>null</td><td>null</td><td>null</td><td>null</td><td>null</td><td>null</td><td>null</td><td>null</td><td>null</td><td>null</td><td>null</td><td>null</td><td>null</td><td>null</td><td>null</td><td>null</td><td>0.206751</td><td>null</td><td>0.164716</td></tr><tr><td>&quot;min&quot;</td><td>1.0</td><td>&quot;2012-11-01 00:08:29&quot;</td><td>1.0</td><td>1.0</td><td>&quot;1.41&quot;</td><td>&quot;0.0&quot;</td><td>1.0</td><td>1.0</td><td>0.0</td><td>0.0</td><td>0.0</td><td>0.0</td><td>&quot;0.0&quot;</td><td>0.0</td><td>1.0</td><td>0.0</td><td>0.0</td><td>2.0</td><td>1.0</td><td>0.0</td><td>1.0</td><td>0.0</td><td>1.0</td><td>0.0</td><td>&quot;-10.0001&quot;</td><td>&quot;0.01&quot;</td><td>0.0</td><td>&quot;-1&quot;</td><td>&quot;-1&quot;</td><td>&quot;10&quot;</td><td>&quot;-1&quot;</td><td>&quot;-1&quot;</td><td>&quot;10&quot;</td><td>&quot;-1&quot;</td><td>&quot;-1&quot;</td><td>&quot;10&quot;</td><td>&quot;-1&quot;</td><td>&quot;-1&quot;</td><td>&quot;10&quot;</td><td>&quot;-1&quot;</td><td>&quot;-1&quot;</td><td>&quot;10&quot;</td><td>&quot;-1&quot;</td><td>&quot;-1&quot;</td><td>&quot;10&quot;</td><td>&quot;-1&quot;</td><td>&quot;-1&quot;</td><td>&quot;10&quot;</td><td>&quot;-1&quot;</td><td>&quot;-1&quot;</td><td>&quot;10&quot;</td><td>0.0</td><td>&quot;0.0&quot;</td><td>0.0</td></tr><tr><td>&quot;25%&quot;</td><td>82936.0</td><td>null</td><td>5.0</td><td>100.0</td><td>null</td><td>null</td><td>100.0</td><td>35010.0</td><td>3.0</td><td>3.5</td><td>0.0</td><td>1.79</td><td>null</td><td>4.45</td><td>8.0</td><td>85.0</td><td>0.0</td><td>7101.0</td><td>1.0</td><td>4.0</td><td>2.0</td><td>0.0</td><td>1.0</td><td>0.0</td><td>null</td><td>null</td><td>0.0</td><td>null</td><td>null</td><td>null</td><td>null</td><td>null</td><td>null</td><td>null</td><td>null</td><td>null</td><td>null</td><td>null</td><td>null</td><td>null</td><td>null</td><td>null</td><td>null</td><td>null</td><td>null</td><td>null</td><td>null</td><td>null</td><td>null</td><td>null</td><td>null</td><td>0.0</td><td>null</td><td>0.0</td></tr><tr><td>&quot;50%&quot;</td><td>166507.0</td><td>null</td><td>5.0</td><td>219.0</td><td>null</td><td>null</td><td>219.0</td><td>69638.0</td><td>3.0</td><td>4.0</td><td>1.0</td><td>2.77</td><td>null</td><td>4.91</td><td>16.0</td><td>122.0</td><td>0.0</td><td>13541.0</td><td>2.0</td><td>17.0</td><td>2.0</td><td>0.0</td><td>1.0</td><td>1.0</td><td>null</td><td>null</td><td>0.0</td><td>null</td><td>null</td><td>null</td><td>null</td><td>null</td><td>null</td><td>null</td><td>null</td><td>null</td><td>null</td><td>null</td><td>null</td><td>null</td><td>null</td><td>null</td><td>null</td><td>null</td><td>null</td><td>null</td><td>null</td><td>null</td><td>null</td><td>null</td><td>null</td><td>0.0</td><td>null</td><td>0.0</td></tr><tr><td>&quot;75%&quot;</td><td>249724.0</td><td>null</td><td>14.0</td><td>219.0</td><td>null</td><td>null</td><td>219.0</td><td>105168.0</td><td>4.0</td><td>4.5</td><td>1.0</td><td>4.04</td><td>null</td><td>5.31</td><td>26.0</td><td>184.96</td><td>0.0</td><td>21084.0</td><td>3.0</td><td>48.0</td><td>2.0</td><td>0.0</td><td>1.0</td><td>1.0</td><td>null</td><td>null</td><td>1.0</td><td>null</td><td>null</td><td>null</td><td>null</td><td>null</td><td>null</td><td>null</td><td>null</td><td>null</td><td>null</td><td>null</td><td>null</td><td>null</td><td>null</td><td>null</td><td>null</td><td>null</td><td>null</td><td>null</td><td>null</td><td>null</td><td>null</td><td>null</td><td>null</td><td>0.0</td><td>null</td><td>0.0</td></tr><tr><td>&quot;max&quot;</td><td>332785.0</td><td>&quot;2013-06-30 23:58:24&quot;</td><td>34.0</td><td>231.0</td><td>&quot;NULL&quot;</td><td>&quot;NULL&quot;</td><td>230.0</td><td>140821.0</td><td>5.0</td><td>5.0</td><td>1.0</td><td>6.98</td><td>&quot;NULL&quot;</td><td>6.21</td><td>40.0</td><td>1.9726328e7</td><td>1.0</td><td>28416.0</td><td>57.0</td><td>492.0</td><td>9.0</td><td>9.0</td><td>8.0</td><td>1.0</td><td>&quot;NULL&quot;</td><td>&quot;NULL&quot;</td><td>1.0</td><td>&quot;NULL&quot;</td><td>&quot;NULL&quot;</td><td>&quot;NULL&quot;</td><td>&quot;NULL&quot;</td><td>&quot;NULL&quot;</td><td>&quot;NULL&quot;</td><td>&quot;NULL&quot;</td><td>&quot;NULL&quot;</td><td>&quot;NULL&quot;</td><td>&quot;NULL&quot;</td><td>&quot;NULL&quot;</td><td>&quot;NULL&quot;</td><td>&quot;NULL&quot;</td><td>&quot;NULL&quot;</td><td>&quot;NULL&quot;</td><td>&quot;NULL&quot;</td><td>&quot;NULL&quot;</td><td>&quot;NULL&quot;</td><td>&quot;NULL&quot;</td><td>&quot;NULL&quot;</td><td>&quot;NULL&quot;</td><td>&quot;NULL&quot;</td><td>&quot;NULL&quot;</td><td>&quot;NULL&quot;</td><td>1.0</td><td>&quot;NULL&quot;</td><td>1.0</td></tr></tbody></table></div>"
      ],
      "text/plain": [
       "shape: (9, 55)\n",
       "┌───────────┬───────────┬───────────┬───────────┬───┬───────────┬───────────┬───────────┬──────────┐\n",
       "│ statistic ┆ srch_id   ┆ date_time ┆ site_id   ┆ … ┆ comp8_rat ┆ click_boo ┆ gross_boo ┆ booking_ │\n",
       "│ ---       ┆ ---       ┆ ---       ┆ ---       ┆   ┆ e_percent ┆ l         ┆ kings_usd ┆ bool     │\n",
       "│ str       ┆ f64       ┆ str       ┆ f64       ┆   ┆ _diff     ┆ ---       ┆ ---       ┆ ---      │\n",
       "│           ┆           ┆           ┆           ┆   ┆ ---       ┆ f64       ┆ str       ┆ f64      │\n",
       "│           ┆           ┆           ┆           ┆   ┆ str       ┆           ┆           ┆          │\n",
       "╞═══════════╪═══════════╪═══════════╪═══════════╪═══╪═══════════╪═══════════╪═══════════╪══════════╡\n",
       "│ count     ┆ 4.958347e ┆ 4958347   ┆ 4.958347e ┆ … ┆ 4958347   ┆ 4.958347e ┆ 4958347   ┆ 4.958347 │\n",
       "│           ┆ 6         ┆           ┆ 6         ┆   ┆           ┆ 6         ┆           ┆ e6       │\n",
       "│ null_coun ┆ 0.0       ┆ 0         ┆ 0.0       ┆ … ┆ 0         ┆ 0.0       ┆ 0         ┆ 0.0      │\n",
       "│ t         ┆           ┆           ┆           ┆   ┆           ┆           ┆           ┆          │\n",
       "│ mean      ┆ 166366.56 ┆ null      ┆ 9.953133  ┆ … ┆ null      ┆ 0.044749  ┆ null      ┆ 0.027911 │\n",
       "│           ┆ 1096      ┆           ┆           ┆   ┆           ┆           ┆           ┆          │\n",
       "│ std       ┆ 96112.230 ┆ null      ┆ 7.64689   ┆ … ┆ null      ┆ 0.206751  ┆ null      ┆ 0.164716 │\n",
       "│           ┆ 102       ┆           ┆           ┆   ┆           ┆           ┆           ┆          │\n",
       "│ min       ┆ 1.0       ┆ 2012-11-0 ┆ 1.0       ┆ … ┆ 10        ┆ 0.0       ┆ 0.0       ┆ 0.0      │\n",
       "│           ┆           ┆ 1         ┆           ┆   ┆           ┆           ┆           ┆          │\n",
       "│           ┆           ┆ 00:08:29  ┆           ┆   ┆           ┆           ┆           ┆          │\n",
       "│ 25%       ┆ 82936.0   ┆ null      ┆ 5.0       ┆ … ┆ null      ┆ 0.0       ┆ null      ┆ 0.0      │\n",
       "│ 50%       ┆ 166507.0  ┆ null      ┆ 5.0       ┆ … ┆ null      ┆ 0.0       ┆ null      ┆ 0.0      │\n",
       "│ 75%       ┆ 249724.0  ┆ null      ┆ 14.0      ┆ … ┆ null      ┆ 0.0       ┆ null      ┆ 0.0      │\n",
       "│ max       ┆ 332785.0  ┆ 2013-06-3 ┆ 34.0      ┆ … ┆ NULL      ┆ 1.0       ┆ NULL      ┆ 1.0      │\n",
       "│           ┆           ┆ 0         ┆           ┆   ┆           ┆           ┆           ┆          │\n",
       "│           ┆           ┆ 23:58:24  ┆           ┆   ┆           ┆           ┆           ┆          │\n",
       "└───────────┴───────────┴───────────┴───────────┴───┴───────────┴───────────┴───────────┴──────────┘"
      ]
     },
     "execution_count": 4,
     "metadata": {},
     "output_type": "execute_result"
    }
   ],
   "source": [
    "data = pl.read_csv('../data/raw/training_set_VU_DM.csv')\n",
    "ranking = pl.read_csv('../data/preprocessed/query_order.csv')\n",
    "\n",
    "data.describe()"
   ]
  },
  {
   "cell_type": "code",
   "execution_count": 5,
   "metadata": {},
   "outputs": [
    {
     "data": {
      "text/html": [
       "<div><style>\n",
       ".dataframe > thead > tr,\n",
       ".dataframe > tbody > tr {\n",
       "  text-align: right;\n",
       "  white-space: pre-wrap;\n",
       "}\n",
       "</style>\n",
       "<small>shape: (9, 3)</small><table border=\"1\" class=\"dataframe\"><thead><tr><th>statistic</th><th>srch_id</th><th>prop_id</th></tr><tr><td>str</td><td>f64</td><td>f64</td></tr></thead><tbody><tr><td>&quot;count&quot;</td><td>4.958347e6</td><td>4.958347e6</td></tr><tr><td>&quot;null_count&quot;</td><td>0.0</td><td>0.0</td></tr><tr><td>&quot;mean&quot;</td><td>166366.561096</td><td>70079.179496</td></tr><tr><td>&quot;std&quot;</td><td>96112.230102</td><td>40609.920378</td></tr><tr><td>&quot;min&quot;</td><td>1.0</td><td>1.0</td></tr><tr><td>&quot;25%&quot;</td><td>82936.0</td><td>35010.0</td></tr><tr><td>&quot;50%&quot;</td><td>166507.0</td><td>69638.0</td></tr><tr><td>&quot;75%&quot;</td><td>249724.0</td><td>105168.0</td></tr><tr><td>&quot;max&quot;</td><td>332785.0</td><td>140821.0</td></tr></tbody></table></div>"
      ],
      "text/plain": [
       "shape: (9, 3)\n",
       "┌────────────┬───────────────┬──────────────┐\n",
       "│ statistic  ┆ srch_id       ┆ prop_id      │\n",
       "│ ---        ┆ ---           ┆ ---          │\n",
       "│ str        ┆ f64           ┆ f64          │\n",
       "╞════════════╪═══════════════╪══════════════╡\n",
       "│ count      ┆ 4.958347e6    ┆ 4.958347e6   │\n",
       "│ null_count ┆ 0.0           ┆ 0.0          │\n",
       "│ mean       ┆ 166366.561096 ┆ 70079.179496 │\n",
       "│ std        ┆ 96112.230102  ┆ 40609.920378 │\n",
       "│ min        ┆ 1.0           ┆ 1.0          │\n",
       "│ 25%        ┆ 82936.0       ┆ 35010.0      │\n",
       "│ 50%        ┆ 166507.0      ┆ 69638.0      │\n",
       "│ 75%        ┆ 249724.0      ┆ 105168.0     │\n",
       "│ max        ┆ 332785.0      ┆ 140821.0     │\n",
       "└────────────┴───────────────┴──────────────┘"
      ]
     },
     "execution_count": 5,
     "metadata": {},
     "output_type": "execute_result"
    }
   ],
   "source": [
    "ranking.describe()"
   ]
  },
  {
   "cell_type": "code",
   "execution_count": 6,
   "metadata": {},
   "outputs": [
    {
     "name": "stdout",
     "output_type": "stream",
     "text": [
      "(4958347, 54)\n",
      "(4958347, 2)\n"
     ]
    }
   ],
   "source": [
    "print(data.shape)\n",
    "print(ranking.shape)"
   ]
  },
  {
   "cell_type": "code",
   "execution_count": 7,
   "metadata": {},
   "outputs": [],
   "source": [
    "data = pl.read_csv('../data/raw/training_set_VU_DM.csv')\n",
    "ranking = pl.read_csv('../data/preprocessed/query_order.csv')\n",
    "\n",
    "# Read the data and ranking\n",
    "data = pl.read_csv('../data/raw/training_set_VU_DM.csv')\n",
    "ranking = pl.read_csv('../data/preprocessed/query_order.csv')\n",
    "\n",
    "# Convert polars DataFrames to pandas DataFrames\n",
    "data_pd = data.to_pandas()\n",
    "ranking_pd = ranking.to_pandas()\n",
    "\n",
    "\n",
    "# Convert object columns to appropriate data types\n",
    "object_columns = data_pd.select_dtypes(include=['object']).columns\n",
    "data_pd[object_columns] = data_pd[object_columns].apply(pd.to_numeric, errors='coerce')\n",
    "\n",
    "# Split the data into features (X) and target (y)\n",
    "X = data_pd.drop(['srch_id', 'prop_id'], axis=1)\n",
    "y = ranking_pd['prop_id']\n",
    "\n",
    "\n",
    "# Split the data into training and testing sets based on srch_id\n",
    "srch_ids = data_pd['srch_id'].unique()\n",
    "train_srch_ids, test_srch_ids = train_test_split(srch_ids, test_size=0.2, random_state=42)\n",
    "\n",
    "# Create training and testing DataFrames\n",
    "train_data = data_pd[data_pd['srch_id'].isin(train_srch_ids)]\n",
    "test_data = data_pd[data_pd['srch_id'].isin(test_srch_ids)]\n",
    "\n",
    "# Create training and testing ranking DataFrames\n",
    "train_ranking = ranking_pd[ranking_pd['srch_id'].isin(train_srch_ids)]\n",
    "test_ranking = ranking_pd[ranking_pd['srch_id'].isin(test_srch_ids)]\n",
    "\n",
    "# Create XGBoost DMatrix objects for training and testing\n",
    "train_dmatrix = xg.DMatrix(train_data.drop(['srch_id', 'prop_id'], axis=1), label=train_ranking['prop_id'])\n",
    "test_dmatrix = xg.DMatrix(test_data.drop(['srch_id', 'prop_id'], axis=1), label=test_ranking['prop_id'])\n",
    "\n",
    "# Set XGBoost parameters\n",
    "params = {\n",
    "    'objective': 'rank:pairwise',\n",
    "    'eval_metric': 'ndcg',\n",
    "    'learning_rate': 0.1,\n",
    "    'max_depth': 6,\n",
    "    'subsample': 0.8,\n",
    "    'colsample_bytree': 0.8,\n",
    "    'seed': 42\n",
    "}\n",
    "\n",
    "# Train the XGBoost ranking model\n",
    "model = xg.train(params, train_dmatrix, num_boost_round=100)\n",
    "\n"
   ]
  },
  {
   "cell_type": "code",
   "execution_count": 13,
   "metadata": {},
   "outputs": [
    {
     "name": "stdout",
     "output_type": "stream",
     "text": [
      "Mean NDCG: 0.5807\n"
     ]
    }
   ],
   "source": [
    "from sklearn.metrics import ndcg_score\n",
    "# Make predictions on the test set\n",
    "test_pred = model.predict(test_dmatrix)\n",
    "\n",
    "# Evaluate the model\n",
    "ndcg_scores = []\n",
    "for srch_id in test_srch_ids:\n",
    "    test_pred_query = test_pred[test_data['srch_id'] == srch_id]\n",
    "    test_ranking_query = test_ranking[test_ranking['srch_id'] == srch_id]['prop_id']\n",
    "    ndcg = ndcg_score(test_ranking_query.values.reshape(1, -1), test_pred_query.reshape(1, -1), k=5)\n",
    "    ndcg_scores.append(ndcg)\n",
    "\n",
    "# Calculate the mean NDCG score\n",
    "mean_ndcg = sum(ndcg_scores) / len(ndcg_scores)\n",
    "print(f\"Mean NDCG: {mean_ndcg:.4f}\")"
   ]
  },
  {
   "cell_type": "code",
   "execution_count": 14,
   "metadata": {},
   "outputs": [],
   "source": [
    "# save the model\n",
    "\n",
    "model.save_model('model.json')"
   ]
  }
 ],
 "metadata": {
  "kernelspec": {
   "display_name": "ComputationalEnv",
   "language": "python",
   "name": "python3"
  },
  "language_info": {
   "codemirror_mode": {
    "name": "ipython",
    "version": 3
   },
   "file_extension": ".py",
   "mimetype": "text/x-python",
   "name": "python",
   "nbconvert_exporter": "python",
   "pygments_lexer": "ipython3",
   "version": "3.11.8"
  }
 },
 "nbformat": 4,
 "nbformat_minor": 2
}
